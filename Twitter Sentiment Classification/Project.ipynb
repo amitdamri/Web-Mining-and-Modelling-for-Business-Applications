{
  "nbformat": 4,
  "nbformat_minor": 0,
  "metadata": {
    "colab": {
      "name": "Project.ipynb",
      "provenance": [],
      "collapsed_sections": [
        "qUP6QqnX2i6f",
        "I9CQTrZIzZnX",
        "DT9ZVyfP2rHL",
        "cFXthIZq2vkt",
        "AxIwdV_Y8U0e",
        "EY_8H5392xgU",
        "AzzgI_J126n4",
        "RhJ6L2Ll1CfY",
        "UkQDj34-6gKl",
        "rGn1FyrsAeLI",
        "39JFL1UeFlNt",
        "9EMKFls0F6lI",
        "w-D_XoFIGHsI",
        "20hjEF2CGKMI",
        "za4c24EmGZzf",
        "TClgq0YhgaBf",
        "uGSJmEPAgd8W",
        "Gcfo4o_QggwU",
        "k47YpWSlhUWl",
        "gzfSIDXrP9Eh",
        "yskIX7YRjWgC",
        "AqYdSlXk5NoH",
        "QriDNesBQBE9",
        "LHpc6yjxQLKO",
        "3Cts-wtqo-WI",
        "XtPuaZ18pTp1",
        "2LyUTeKEQQZO",
        "f5J2EBj6P8Ks",
        "6He17ow8bQbE",
        "ZE0l7DOBQeYe",
        "29HDBsaiP94R",
        "lPJddPeKQ7Wy",
        "1Ml_tuDjQ9UR",
        "0NSKjoAoRNdj",
        "Hu4qvrfDRPg7"
      ],
      "toc_visible": true
    },
    "kernelspec": {
      "display_name": "Python 3",
      "name": "python3"
    },
    "accelerator": "GPU"
  },
  "cells": [
    {
      "cell_type": "markdown",
      "metadata": {
        "id": "qUP6QqnX2i6f"
      },
      "source": [
        "# Preparation"
      ]
    },
    {
      "cell_type": "markdown",
      "metadata": {
        "id": "fQ8lZENaP4HP"
      },
      "source": [
        "### Downloads"
      ]
    },
    {
      "cell_type": "code",
      "metadata": {
        "colab": {
          "base_uri": "https://localhost:8080/"
        },
        "id": "f_hPf4cFP3P5",
        "outputId": "1ccbd667-b62f-4e5e-e17c-bbd0a343b876"
      },
      "source": [
        "# Helps to collect tweets from twiter\r\n",
        "!pip install tweepy"
      ],
      "execution_count": 1,
      "outputs": [
        {
          "output_type": "stream",
          "text": [
            "Requirement already satisfied: tweepy in /usr/local/lib/python3.6/dist-packages (3.6.0)\n",
            "Requirement already satisfied: requests>=2.11.1 in /usr/local/lib/python3.6/dist-packages (from tweepy) (2.23.0)\n",
            "Requirement already satisfied: PySocks>=1.5.7 in /usr/local/lib/python3.6/dist-packages (from tweepy) (1.7.1)\n",
            "Requirement already satisfied: six>=1.10.0 in /usr/local/lib/python3.6/dist-packages (from tweepy) (1.15.0)\n",
            "Requirement already satisfied: requests-oauthlib>=0.7.0 in /usr/local/lib/python3.6/dist-packages (from tweepy) (1.3.0)\n",
            "Requirement already satisfied: urllib3!=1.25.0,!=1.25.1,<1.26,>=1.21.1 in /usr/local/lib/python3.6/dist-packages (from requests>=2.11.1->tweepy) (1.24.3)\n",
            "Requirement already satisfied: chardet<4,>=3.0.2 in /usr/local/lib/python3.6/dist-packages (from requests>=2.11.1->tweepy) (3.0.4)\n",
            "Requirement already satisfied: idna<3,>=2.5 in /usr/local/lib/python3.6/dist-packages (from requests>=2.11.1->tweepy) (2.10)\n",
            "Requirement already satisfied: certifi>=2017.4.17 in /usr/local/lib/python3.6/dist-packages (from requests>=2.11.1->tweepy) (2020.12.5)\n",
            "Requirement already satisfied: oauthlib>=3.0.0 in /usr/local/lib/python3.6/dist-packages (from requests-oauthlib>=0.7.0->tweepy) (3.1.0)\n"
          ],
          "name": "stdout"
        }
      ]
    },
    {
      "cell_type": "code",
      "metadata": {
        "colab": {
          "base_uri": "https://localhost:8080/"
        },
        "id": "PEBtlYXBY-eu",
        "outputId": "30157bd7-a57b-4562-9e4c-da989081150e"
      },
      "source": [
        "# Helps to remove stop words from sentences\r\n",
        "import nltk\r\n",
        "nltk.download('stopwords')"
      ],
      "execution_count": 2,
      "outputs": [
        {
          "output_type": "stream",
          "text": [
            "[nltk_data] Downloading package stopwords to /root/nltk_data...\n",
            "[nltk_data]   Package stopwords is already up-to-date!\n"
          ],
          "name": "stdout"
        },
        {
          "output_type": "execute_result",
          "data": {
            "text/plain": [
              "True"
            ]
          },
          "metadata": {
            "tags": []
          },
          "execution_count": 2
        }
      ]
    },
    {
      "cell_type": "markdown",
      "metadata": {
        "id": "I9CQTrZIzZnX"
      },
      "source": [
        "### Mount Drive and Load Data"
      ]
    },
    {
      "cell_type": "code",
      "metadata": {
        "id": "7z09AV832P3B",
        "colab": {
          "base_uri": "https://localhost:8080/"
        },
        "outputId": "137dda16-fdbb-44ee-e639-c9c460b50abe"
      },
      "source": [
        "# load content from drive\r\n",
        "from google.colab import drive\r\n",
        "drive.mount('/content/drive')"
      ],
      "execution_count": 3,
      "outputs": [
        {
          "output_type": "stream",
          "text": [
            "Drive already mounted at /content/drive; to attempt to forcibly remount, call drive.mount(\"/content/drive\", force_remount=True).\n"
          ],
          "name": "stdout"
        }
      ]
    },
    {
      "cell_type": "code",
      "metadata": {
        "id": "gY_5158e2SjZ"
      },
      "source": [
        "# path of kaggle dataset\r\n",
        "data_path = \"/content/drive/MyDrive/Project/data.csv\"\r\n",
        "tweets_path = \"/content/drive/MyDrive/Project/CollectedTweets.csv\"\r\n",
        "google_trends_path = \"/content/drive/MyDrive/Project/GoogleTrends.csv\""
      ],
      "execution_count": 4,
      "outputs": []
    },
    {
      "cell_type": "markdown",
      "metadata": {
        "id": "DT9ZVyfP2rHL"
      },
      "source": [
        "### Imports"
      ]
    },
    {
      "cell_type": "code",
      "metadata": {
        "id": "-NZwgWw-5rL1"
      },
      "source": [
        "# Basic libraries\r\n",
        "import pandas as pd\r\n",
        "import numpy as np\r\n",
        "import math\r\n",
        "import seaborn as sns\r\n",
        "# Matplot\r\n",
        "import matplotlib.pyplot as plt\r\n",
        "%matplotlib inline\r\n",
        "from collections import Counter"
      ],
      "execution_count": 5,
      "outputs": []
    },
    {
      "cell_type": "code",
      "metadata": {
        "id": "7sJLhARj4s-V"
      },
      "source": [
        "# reading json file\r\n",
        "import os\r\n",
        "import glob\r\n",
        "import json"
      ],
      "execution_count": 6,
      "outputs": []
    },
    {
      "cell_type": "code",
      "metadata": {
        "id": "WfHZGtOg2sUt"
      },
      "source": [
        "# In order to clean and normaliaze the text\r\n",
        "import string\r\n",
        "import re\r\n",
        "from nltk.tokenize import word_tokenize\r\n",
        "from nltk.corpus import stopwords\r\n",
        "from nltk.stem import SnowballStemmer\r\n",
        "from sklearn.model_selection import train_test_split"
      ],
      "execution_count": 7,
      "outputs": []
    },
    {
      "cell_type": "code",
      "metadata": {
        "id": "mUlhZGRDgFbx"
      },
      "source": [
        "# Collecting data from twitter\r\n",
        "import tweepy\r\n",
        "from datetime import date\r\n",
        "from tweepy import OAuthHandler"
      ],
      "execution_count": 8,
      "outputs": []
    },
    {
      "cell_type": "code",
      "metadata": {
        "id": "8Txqk9Fkr1Cs"
      },
      "source": [
        "# Evaluation\r\n",
        "from sklearn.model_selection import KFold,cross_val_score\r\n",
        "from sklearn.pipeline import Pipeline\r\n",
        "from sklearn.model_selection import GridSearchCV\r\n",
        "from sklearn.metrics import classification_report, plot_confusion_matrix, confusion_matrix, accuracy_score"
      ],
      "execution_count": 9,
      "outputs": []
    },
    {
      "cell_type": "code",
      "metadata": {
        "id": "dQ8q_Z8fAqIG"
      },
      "source": [
        "# for simple classification\r\n",
        "from sklearn.dummy import DummyClassifier"
      ],
      "execution_count": 10,
      "outputs": []
    },
    {
      "cell_type": "code",
      "metadata": {
        "id": "JLFhOn1PW10V"
      },
      "source": [
        "# For the supervised learning - SVM + TD-IDF\r\n",
        "from sklearn.svm import LinearSVC\r\n",
        "from sklearn.feature_extraction.text import TfidfVectorizer"
      ],
      "execution_count": 11,
      "outputs": []
    },
    {
      "cell_type": "code",
      "metadata": {
        "id": "HfLvS8x8BIae"
      },
      "source": [
        "# pre processing for deep learning\r\n",
        "from keras.preprocessing.text import Tokenizer\r\n",
        "from keras.preprocessing.sequence import pad_sequences"
      ],
      "execution_count": 12,
      "outputs": []
    },
    {
      "cell_type": "code",
      "metadata": {
        "id": "HGdYBtMCsM3i"
      },
      "source": [
        "# for deep learning model - LSTM + Embedding\r\n",
        "from keras.models import Sequential\r\n",
        "from keras.layers import Dense, Dropout, LSTM\r\n",
        "from keras.layers.embeddings import Embedding\r\n",
        "from keras.wrappers.scikit_learn import KerasClassifier\r\n",
        "from keras.callbacks import EarlyStopping"
      ],
      "execution_count": 13,
      "outputs": []
    },
    {
      "cell_type": "markdown",
      "metadata": {
        "id": "cFXthIZq2vkt"
      },
      "source": [
        "# Question 1"
      ]
    },
    {
      "cell_type": "markdown",
      "metadata": {
        "id": "AxIwdV_Y8U0e"
      },
      "source": [
        "### Data Loading"
      ]
    },
    {
      "cell_type": "code",
      "metadata": {
        "id": "Dtf1KgF18UX-"
      },
      "source": [
        "# load the Sentiment140 datset\r\n",
        "df = pd.read_csv(data_path, encoding = \"ISO-8859-1\", names = [\"target\", \"ids\", \"date\", \"flag\", \"user\", \"text\"])"
      ],
      "execution_count": 14,
      "outputs": []
    },
    {
      "cell_type": "code",
      "metadata": {
        "colab": {
          "base_uri": "https://localhost:8080/",
          "height": 0
        },
        "id": "1MAEwC8w8YwG",
        "outputId": "d6cc1dae-06e4-4e2f-8c8d-b08543b71280"
      },
      "source": [
        "# get 100,000 samples from the data, in which 50% are positive and 50% are negative.\r\n",
        "size = 50000\r\n",
        "positive_df = df[df.target == 4][:size] # get first 50,000 positive tweets\r\n",
        "negative_df = df[df.target == 0][:size] # get first 50,000 negative tweets\r\n",
        "balanced_df = pd.concat([positive_df, negative_df]).reset_index(drop = True) # concatenation\r\n",
        "balanced_df"
      ],
      "execution_count": 15,
      "outputs": [
        {
          "output_type": "execute_result",
          "data": {
            "text/html": [
              "<div>\n",
              "<style scoped>\n",
              "    .dataframe tbody tr th:only-of-type {\n",
              "        vertical-align: middle;\n",
              "    }\n",
              "\n",
              "    .dataframe tbody tr th {\n",
              "        vertical-align: top;\n",
              "    }\n",
              "\n",
              "    .dataframe thead th {\n",
              "        text-align: right;\n",
              "    }\n",
              "</style>\n",
              "<table border=\"1\" class=\"dataframe\">\n",
              "  <thead>\n",
              "    <tr style=\"text-align: right;\">\n",
              "      <th></th>\n",
              "      <th>target</th>\n",
              "      <th>ids</th>\n",
              "      <th>date</th>\n",
              "      <th>flag</th>\n",
              "      <th>user</th>\n",
              "      <th>text</th>\n",
              "    </tr>\n",
              "  </thead>\n",
              "  <tbody>\n",
              "    <tr>\n",
              "      <th>0</th>\n",
              "      <td>4</td>\n",
              "      <td>1467822272</td>\n",
              "      <td>Mon Apr 06 22:22:45 PDT 2009</td>\n",
              "      <td>NO_QUERY</td>\n",
              "      <td>ersle</td>\n",
              "      <td>I LOVE @Health4UandPets u guys r the best!!</td>\n",
              "    </tr>\n",
              "    <tr>\n",
              "      <th>1</th>\n",
              "      <td>4</td>\n",
              "      <td>1467822273</td>\n",
              "      <td>Mon Apr 06 22:22:45 PDT 2009</td>\n",
              "      <td>NO_QUERY</td>\n",
              "      <td>becca210</td>\n",
              "      <td>im meeting up with one of my besties tonight! ...</td>\n",
              "    </tr>\n",
              "    <tr>\n",
              "      <th>2</th>\n",
              "      <td>4</td>\n",
              "      <td>1467822283</td>\n",
              "      <td>Mon Apr 06 22:22:46 PDT 2009</td>\n",
              "      <td>NO_QUERY</td>\n",
              "      <td>Wingman29</td>\n",
              "      <td>@DaRealSunisaKim Thanks for the Twitter add, S...</td>\n",
              "    </tr>\n",
              "    <tr>\n",
              "      <th>3</th>\n",
              "      <td>4</td>\n",
              "      <td>1467822287</td>\n",
              "      <td>Mon Apr 06 22:22:46 PDT 2009</td>\n",
              "      <td>NO_QUERY</td>\n",
              "      <td>katarinka</td>\n",
              "      <td>Being sick can be really cheap when it hurts t...</td>\n",
              "    </tr>\n",
              "    <tr>\n",
              "      <th>4</th>\n",
              "      <td>4</td>\n",
              "      <td>1467822293</td>\n",
              "      <td>Mon Apr 06 22:22:46 PDT 2009</td>\n",
              "      <td>NO_QUERY</td>\n",
              "      <td>_EmilyYoung</td>\n",
              "      <td>@LovesBrooklyn2 he has that effect on everyone</td>\n",
              "    </tr>\n",
              "    <tr>\n",
              "      <th>...</th>\n",
              "      <td>...</td>\n",
              "      <td>...</td>\n",
              "      <td>...</td>\n",
              "      <td>...</td>\n",
              "      <td>...</td>\n",
              "      <td>...</td>\n",
              "    </tr>\n",
              "    <tr>\n",
              "      <th>99995</th>\n",
              "      <td>0</td>\n",
              "      <td>1678337109</td>\n",
              "      <td>Sat May 02 06:22:31 PDT 2009</td>\n",
              "      <td>NO_QUERY</td>\n",
              "      <td>Jessica_567</td>\n",
              "      <td>@mileycyrus so i have the same insomnia prob a...</td>\n",
              "    </tr>\n",
              "    <tr>\n",
              "      <th>99996</th>\n",
              "      <td>0</td>\n",
              "      <td>1678337116</td>\n",
              "      <td>Sat May 02 06:22:31 PDT 2009</td>\n",
              "      <td>NO_QUERY</td>\n",
              "      <td>whouwit077</td>\n",
              "      <td>20 mintues late for my meeting starting @ 8  h...</td>\n",
              "    </tr>\n",
              "    <tr>\n",
              "      <th>99997</th>\n",
              "      <td>0</td>\n",
              "      <td>1678337128</td>\n",
              "      <td>Sat May 02 06:22:31 PDT 2009</td>\n",
              "      <td>NO_QUERY</td>\n",
              "      <td>AmyPR</td>\n",
              "      <td>@kentucky_derby super excited! Are you tweetin...</td>\n",
              "    </tr>\n",
              "    <tr>\n",
              "      <th>99998</th>\n",
              "      <td>0</td>\n",
              "      <td>1678337159</td>\n",
              "      <td>Sat May 02 06:22:32 PDT 2009</td>\n",
              "      <td>NO_QUERY</td>\n",
              "      <td>cynthia_sue03</td>\n",
              "      <td>I WANT ANOTHER DAY OFF!!!!  To much Sh#t to do...</td>\n",
              "    </tr>\n",
              "    <tr>\n",
              "      <th>99999</th>\n",
              "      <td>0</td>\n",
              "      <td>1678337793</td>\n",
              "      <td>Sat May 02 06:22:40 PDT 2009</td>\n",
              "      <td>NO_QUERY</td>\n",
              "      <td>msceo8</td>\n",
              "      <td>i just jacked up this umbrella cake</td>\n",
              "    </tr>\n",
              "  </tbody>\n",
              "</table>\n",
              "<p>100000 rows × 6 columns</p>\n",
              "</div>"
            ],
            "text/plain": [
              "       target  ...                                               text\n",
              "0           4  ...       I LOVE @Health4UandPets u guys r the best!! \n",
              "1           4  ...  im meeting up with one of my besties tonight! ...\n",
              "2           4  ...  @DaRealSunisaKim Thanks for the Twitter add, S...\n",
              "3           4  ...  Being sick can be really cheap when it hurts t...\n",
              "4           4  ...    @LovesBrooklyn2 he has that effect on everyone \n",
              "...       ...  ...                                                ...\n",
              "99995       0  ...  @mileycyrus so i have the same insomnia prob a...\n",
              "99996       0  ...  20 mintues late for my meeting starting @ 8  h...\n",
              "99997       0  ...  @kentucky_derby super excited! Are you tweetin...\n",
              "99998       0  ...  I WANT ANOTHER DAY OFF!!!!  To much Sh#t to do...\n",
              "99999       0  ...               i just jacked up this umbrella cake \n",
              "\n",
              "[100000 rows x 6 columns]"
            ]
          },
          "metadata": {
            "tags": []
          },
          "execution_count": 15
        }
      ]
    },
    {
      "cell_type": "markdown",
      "metadata": {
        "id": "EY_8H5392xgU"
      },
      "source": [
        "### Pre-processing"
      ]
    },
    {
      "cell_type": "code",
      "metadata": {
        "id": "CvHDZ9ay26Ot"
      },
      "source": [
        "# Regular expreesion for recognizing emoticons\r\n",
        "emoticons_str = r\"\"\"\r\n",
        "    (?:\r\n",
        "        [:=;] # Eyes\r\n",
        "        [oO\\-]? # Nose (optional)\r\n",
        "        [dD\\)\\]\\(\\]/\\\\oOpP] # Mouth\r\n",
        "    )\"\"\""
      ],
      "execution_count": 16,
      "outputs": []
    },
    {
      "cell_type": "code",
      "metadata": {
        "id": "VRjtU5ObY2cW"
      },
      "source": [
        "# Regular expressions for tweets terms, e.g: html tags, hashtags, @-mentions, URLs, numbers, etc.\r\n",
        "regex_str = [\r\n",
        "    emoticons_str,\r\n",
        "    r'<[^>]+>', # HTML tags\r\n",
        "    r'(?:@[\\w_]+)', # @-mentions\r\n",
        "    r\"(?:\\#+[\\w_]+[\\w\\'_\\-]*[\\w_]+)\", # hash-tags\r\n",
        "    r'http[s]?://(?:[a-z]|[0-9]|[$-_@.&+]|[!*\\(\\),]|(?:%[0-9a-f][0-9a-f]))+', # URLs\r\n",
        " \r\n",
        "    r'(?:(?:\\d+,?)+(?:\\.?\\d+)?)', # numbers\r\n",
        "    r\"(?:[a-z][a-z'\\-_]+[a-z])\", # words with - and '\r\n",
        "    r'(?:[\\w_]+)', # other words\r\n",
        "    r'(?:\\S)' # anything else\r\n",
        "]"
      ],
      "execution_count": 17,
      "outputs": []
    },
    {
      "cell_type": "code",
      "metadata": {
        "id": "5i5QQRzeYvQ-"
      },
      "source": [
        "# creating the regular expression\r\n",
        "tokens_re = re.compile(r'('+'|'.join(regex_str)+')', re.VERBOSE | re.IGNORECASE)\r\n",
        "emoticon_re = re.compile(r'^'+emoticons_str+'$', re.VERBOSE | re.IGNORECASE)"
      ],
      "execution_count": 18,
      "outputs": []
    },
    {
      "cell_type": "code",
      "metadata": {
        "id": "JYTBaT323tQy"
      },
      "source": [
        "# tokenize the tweet according to the regular expressions - splits tweet to tokens\r\n",
        "def tokenization(tweet):\r\n",
        "  return tokens_re.findall(tweet)"
      ],
      "execution_count": 19,
      "outputs": []
    },
    {
      "cell_type": "code",
      "metadata": {
        "id": "_dvxKcq9cave"
      },
      "source": [
        "# transform all letters to lower case\r\n",
        "def lower_case(tokens): \r\n",
        "  tokens = [token.lower() for token in tokens]\r\n",
        "  return tokens"
      ],
      "execution_count": 20,
      "outputs": []
    },
    {
      "cell_type": "code",
      "metadata": {
        "id": "Y1VdpLsEjMBd"
      },
      "source": [
        "# remove all URLS with http / https\r\n",
        "def remove_html(tokens):\r\n",
        "  new_token = []\r\n",
        "  for token in tokens:\r\n",
        "    if \"http\" not in token:\r\n",
        "      new_token.append(token)\r\n",
        "  return new_token"
      ],
      "execution_count": 21,
      "outputs": []
    },
    {
      "cell_type": "code",
      "metadata": {
        "id": "2GowU6q3LPJz"
      },
      "source": [
        "# remove tokens which contains only digits\r\n",
        "def remove_digits(tokens):\r\n",
        "  new_token = []\r\n",
        "  for token in tokens:\r\n",
        "    if not re.match(r'(?:(?:\\d+,?)+(?:\\.?\\d+)?)',token):\r\n",
        "      new_token.append(token)\r\n",
        "  return new_token"
      ],
      "execution_count": 22,
      "outputs": []
    },
    {
      "cell_type": "code",
      "metadata": {
        "id": "8Monb6ySKh2u"
      },
      "source": [
        "# remove username mentions - tokens which start with @\r\n",
        "def remove_users(tokens):\r\n",
        "  new_token = []\r\n",
        "  for token in tokens:\r\n",
        "    if not re.match(\"@[\\w]*\", token):\r\n",
        "      new_token.append(token)\r\n",
        "  return new_token"
      ],
      "execution_count": 23,
      "outputs": []
    },
    {
      "cell_type": "code",
      "metadata": {
        "id": "09SorfDBprkz"
      },
      "source": [
        "# remove words with length <= 2 and not emoticons\r\n",
        "def remove_short_words(tokens):\r\n",
        "  new_tokens = []\r\n",
        "  for token in tokens:\r\n",
        "    if not (len(token)<=2 and len(emoticon_re.findall(token)) == 0):\r\n",
        "      new_tokens.append(token)\r\n",
        "  return new_tokens"
      ],
      "execution_count": 24,
      "outputs": []
    },
    {
      "cell_type": "code",
      "metadata": {
        "id": "qeb297bsbFrK"
      },
      "source": [
        "# remove stop words and punctuations - the stop words list is without negative words that can influence the sentiment of the sentence \r\n",
        "def remove_stopwords(tokens):\r\n",
        "  punctuation = list(string.punctuation)\r\n",
        "  stop_words = set(stopwords.words('english') + punctuation + ['rt', 'via', 'the',u'\\u2019',u'\\u2026','The',u'de',u'\\xe9'])\r\n",
        "  \r\n",
        "  negative_words = [word for word in stop_words if \"'t\" in word or word == 'not'] # remove negative words from stop words\r\n",
        "  \r\n",
        "  stop_words = [word for word in stop_words if word not in negative_words] + [\"i'm\", \"im\"] # remove negative words from stop words and adds the words \"i'm\", \"im\"\r\n",
        "  \r\n",
        "  filtered_tokens = [token for token in tokens if not token in stop_words and len(token) > 1] # getting non-stop words with length greater than 1 \r\n",
        "  return filtered_tokens"
      ],
      "execution_count": 25,
      "outputs": []
    },
    {
      "cell_type": "code",
      "metadata": {
        "id": "bA6Kt9zmdXBY"
      },
      "source": [
        "snow_stem = SnowballStemmer('english')\r\n",
        "\r\n",
        "# stemming tokens using snoball stemmer\r\n",
        "def stemming(tokens):\r\n",
        "    stem_tokens = []\r\n",
        "    \r\n",
        "    # stem each word\r\n",
        "    for token in tokens:\r\n",
        "        stem_tokens.append(snow_stem.stem(token))\r\n",
        "    \r\n",
        "    return stem_tokens"
      ],
      "execution_count": 26,
      "outputs": []
    },
    {
      "cell_type": "code",
      "metadata": {
        "id": "kFYjYJCJbNtn"
      },
      "source": [
        "# encodes labels - 0 => 0 (Negative), 2 => doesn't exist (Neutral), 4 => 1 (Positive);\r\n",
        "def label_encoding(label):\r\n",
        "  if label == 4:\r\n",
        "    return 1\r\n",
        "  elif label == 0:\r\n",
        "    return 0\r\n",
        "  else:\r\n",
        "    return -1"
      ],
      "execution_count": 27,
      "outputs": []
    },
    {
      "cell_type": "code",
      "metadata": {
        "id": "E13kvGZl8TEo"
      },
      "source": [
        "# Pre processing phase\r\n",
        "def pre_processing(data):\r\n",
        "  data.text = data.text.apply(tokenization)\r\n",
        "  data.text = data.text.apply(lower_case)\r\n",
        "  data.text = data.text.apply(remove_html)\r\n",
        "  data.text = data.text.apply(remove_digits)\r\n",
        "  data.text = data.text.apply(remove_users)\r\n",
        "  data.text = data.text.apply(remove_stopwords)\r\n",
        "  data.text = data.text.apply(remove_short_words)\r\n",
        "  data.text = data.text.apply(stemming)\r\n",
        "  if 'target' in data:\r\n",
        "    data.target = data.target.apply(label_encoding)"
      ],
      "execution_count": 28,
      "outputs": []
    },
    {
      "cell_type": "code",
      "metadata": {
        "colab": {
          "base_uri": "https://localhost:8080/"
        },
        "id": "cLUF09UgNwCq",
        "outputId": "d2ccc252-9e8e-4d8f-e340-625c5c5d6334"
      },
      "source": [
        "tweet = \" hi love you gus : (\"\r\n",
        "t = tokenization(tweet)\r\n",
        "t = lower_case(t)\r\n",
        "t = remove_html(t)\r\n",
        "t = remove_digits(t)\r\n",
        "t = remove_users(t)\r\n",
        "t = remove_stopwords(t)\r\n",
        "t = remove_short_words(t)\r\n",
        "t = stemming(t)\r\n",
        "t"
      ],
      "execution_count": 29,
      "outputs": [
        {
          "output_type": "execute_result",
          "data": {
            "text/plain": [
              "['love', 'gus']"
            ]
          },
          "metadata": {
            "tags": []
          },
          "execution_count": 29
        }
      ]
    },
    {
      "cell_type": "code",
      "metadata": {
        "id": "3YghUs3dgdOn"
      },
      "source": [
        "# copy dataset and pre process its text\r\n",
        "df_copy = balanced_df.copy()\r\n",
        "pre_processing(df_copy)"
      ],
      "execution_count": 30,
      "outputs": []
    },
    {
      "cell_type": "code",
      "metadata": {
        "id": "sQqqi1DSvL9b"
      },
      "source": [
        "# remove empty rows after pre processing\r\n",
        "for index, t in enumerate(df_copy.text):\r\n",
        "  if len(t) == 0:\r\n",
        "    df_copy.drop(index, inplace=True)\r\n",
        "df_copy.reset_index(inplace=True)"
      ],
      "execution_count": 31,
      "outputs": []
    },
    {
      "cell_type": "code",
      "metadata": {
        "colab": {
          "base_uri": "https://localhost:8080/",
          "height": 0
        },
        "id": "E1Ly85zu08IM",
        "outputId": "e3fe75ba-7681-4535-f9a1-01c6737397ce"
      },
      "source": [
        "df_copy[[\"text\",\"target\"]]"
      ],
      "execution_count": 32,
      "outputs": [
        {
          "output_type": "execute_result",
          "data": {
            "text/html": [
              "<div>\n",
              "<style scoped>\n",
              "    .dataframe tbody tr th:only-of-type {\n",
              "        vertical-align: middle;\n",
              "    }\n",
              "\n",
              "    .dataframe tbody tr th {\n",
              "        vertical-align: top;\n",
              "    }\n",
              "\n",
              "    .dataframe thead th {\n",
              "        text-align: right;\n",
              "    }\n",
              "</style>\n",
              "<table border=\"1\" class=\"dataframe\">\n",
              "  <thead>\n",
              "    <tr style=\"text-align: right;\">\n",
              "      <th></th>\n",
              "      <th>text</th>\n",
              "      <th>target</th>\n",
              "    </tr>\n",
              "  </thead>\n",
              "  <tbody>\n",
              "    <tr>\n",
              "      <th>0</th>\n",
              "      <td>[love, guy, best]</td>\n",
              "      <td>1</td>\n",
              "    </tr>\n",
              "    <tr>\n",
              "      <th>1</th>\n",
              "      <td>[meet, one, besti, tonight, cant, wait, girl, ...</td>\n",
              "      <td>1</td>\n",
              "    </tr>\n",
              "    <tr>\n",
              "      <th>2</th>\n",
              "      <td>[thank, twitter, add, sunisa, got, meet, hin, ...</td>\n",
              "      <td>1</td>\n",
              "    </tr>\n",
              "    <tr>\n",
              "      <th>3</th>\n",
              "      <td>[sick, realli, cheap, hurt, much, eat, real, f...</td>\n",
              "      <td>1</td>\n",
              "    </tr>\n",
              "    <tr>\n",
              "      <th>4</th>\n",
              "      <td>[effect, everyon]</td>\n",
              "      <td>1</td>\n",
              "    </tr>\n",
              "    <tr>\n",
              "      <th>...</th>\n",
              "      <td>...</td>\n",
              "      <td>...</td>\n",
              "    </tr>\n",
              "    <tr>\n",
              "      <th>99500</th>\n",
              "      <td>[insomnia, prob, slept, hrs, woke, couldnt, ba...</td>\n",
              "      <td>0</td>\n",
              "    </tr>\n",
              "    <tr>\n",
              "      <th>99501</th>\n",
              "      <td>[mintu, late, meet, start, how'd, know, go, la...</td>\n",
              "      <td>0</td>\n",
              "    </tr>\n",
              "    <tr>\n",
              "      <th>99502</th>\n",
              "      <td>[super, excit, tweet, event, happen, way, foll...</td>\n",
              "      <td>0</td>\n",
              "    </tr>\n",
              "    <tr>\n",
              "      <th>99503</th>\n",
              "      <td>[want, anoth, day, much, today, got, quot, new...</td>\n",
              "      <td>0</td>\n",
              "    </tr>\n",
              "    <tr>\n",
              "      <th>99504</th>\n",
              "      <td>[jack, umbrella, cake]</td>\n",
              "      <td>0</td>\n",
              "    </tr>\n",
              "  </tbody>\n",
              "</table>\n",
              "<p>99505 rows × 2 columns</p>\n",
              "</div>"
            ],
            "text/plain": [
              "                                                    text  target\n",
              "0                                      [love, guy, best]       1\n",
              "1      [meet, one, besti, tonight, cant, wait, girl, ...       1\n",
              "2      [thank, twitter, add, sunisa, got, meet, hin, ...       1\n",
              "3      [sick, realli, cheap, hurt, much, eat, real, f...       1\n",
              "4                                      [effect, everyon]       1\n",
              "...                                                  ...     ...\n",
              "99500  [insomnia, prob, slept, hrs, woke, couldnt, ba...       0\n",
              "99501  [mintu, late, meet, start, how'd, know, go, la...       0\n",
              "99502  [super, excit, tweet, event, happen, way, foll...       0\n",
              "99503  [want, anoth, day, much, today, got, quot, new...       0\n",
              "99504                             [jack, umbrella, cake]       0\n",
              "\n",
              "[99505 rows x 2 columns]"
            ]
          },
          "metadata": {
            "tags": []
          },
          "execution_count": 32
        }
      ]
    },
    {
      "cell_type": "markdown",
      "metadata": {
        "id": "AzzgI_J126n4"
      },
      "source": [
        "### Data Exploration"
      ]
    },
    {
      "cell_type": "code",
      "metadata": {
        "id": "6waxfwHd2-2D"
      },
      "source": [
        "# show sentiment distribution plot\r\n",
        "def class_dist(data):\r\n",
        "  target_cnt = data.target.value_counts() # count number of samples for each sentiment \r\n",
        "  plt.figure(figsize=(16,8))\r\n",
        "  plt.bar([\"Negative\", \"Positive\"], [target_cnt.values[0]/data.shape[0], target_cnt.values[1]/data.shape[0]])\r\n",
        "  plt.title(\"Dataset class distribuition\")\r\n",
        "  plt.show()"
      ],
      "execution_count": 33,
      "outputs": []
    },
    {
      "cell_type": "code",
      "metadata": {
        "colab": {
          "base_uri": "https://localhost:8080/"
        },
        "id": "DPVyDmLO4ky6",
        "outputId": "2d3bb29c-0023-4105-a097-15df754af8ad"
      },
      "source": [
        "# for report\r\n",
        "print(f\"Negative distribution:  {df_copy.target.value_counts()[0] / df_copy.shape[0]}\")\r\n",
        "print(f\"Positive distribution:  {df_copy.target.value_counts()[1] / df_copy.shape[0]}\")"
      ],
      "execution_count": 34,
      "outputs": [
        {
          "output_type": "stream",
          "text": [
            "Negative distribution:  0.5003869152303905\n",
            "Positive distribution:  0.4996130847696096\n"
          ],
          "name": "stdout"
        }
      ]
    },
    {
      "cell_type": "code",
      "metadata": {
        "id": "ZcxgsTA8ssqd"
      },
      "source": [
        "# count frequencies of words for each sentiment\r\n",
        "def count_terms(data):\r\n",
        "  count_all_positive = Counter()\r\n",
        "  count_all_negative = Counter()\r\n",
        "\r\n",
        "  for index, text in enumerate(data.text):\r\n",
        "    if data.iloc[index].target == 0:\r\n",
        "      count_all_negative.update(text)\r\n",
        "    else:\r\n",
        "      count_all_positive.update(text)\r\n",
        "  return count_all_positive, count_all_negative"
      ],
      "execution_count": 35,
      "outputs": []
    },
    {
      "cell_type": "code",
      "metadata": {
        "id": "D04oHrbywX3J"
      },
      "source": [
        "# table of top_n terms per category\r\n",
        "def top_terms(count_positive, count_negative, top_n):\r\n",
        "    positive_data = [list(x) for x in count_positive.most_common(top_n)]\r\n",
        "    print(f\"Top {top_n} positive terms\")\r\n",
        "    draw_table(positive_data, 'Positive')\r\n",
        "    \r\n",
        "    negative_data = [list(x) for x in count_negative.most_common(top_n)]\r\n",
        "    print(f\"Top {top_n} negative terms\")\r\n",
        "    draw_table(negative_data, 'Negative')\r\n",
        "\r\n",
        "# draw table of top_n terms\r\n",
        "def draw_table(data, type):\r\n",
        "    fig = plt.figure(dpi=80)\r\n",
        "    ax = fig.add_subplot(1,1,1)\r\n",
        "    table = ax.table(cellText=data, loc='center',colLabels=[f'{type} term','Frequency'])\r\n",
        "    table.set_fontsize(14)\r\n",
        "    table.scale(1,2)\r\n",
        "    ax.axis('off')\r\n",
        "    plt.show()"
      ],
      "execution_count": 36,
      "outputs": []
    },
    {
      "cell_type": "code",
      "metadata": {
        "colab": {
          "base_uri": "https://localhost:8080/",
          "height": 1000
        },
        "id": "MqXwTj9Qthgt",
        "outputId": "35e55035-52d0-4160-dd4d-02e60c937ae1"
      },
      "source": [
        "# plot sentiment distribution and tables of top 10 sentiment terms\r\n",
        "class_dist(df_copy)\r\n",
        "top_terms(*count_terms(df_copy), 10)"
      ],
      "execution_count": 37,
      "outputs": [
        {
          "output_type": "display_data",
          "data": {
            "image/png": "[encoded data removed]",
            "text/plain": [
              "<Figure size 1152x576 with 1 Axes>"
            ]
          },
          "metadata": {
            "tags": [],
            "needs_background": "light"
          }
        },
        {
          "output_type": "stream",
          "text": [
            "Top 10 positive terms\n"
          ],
          "name": "stdout"
        },
        {
          "output_type": "display_data",
          "data": {
            "image/png": "[encoded data removed]",
            "text/plain": [
              "<Figure size 480x320 with 1 Axes>"
            ]
          },
          "metadata": {
            "tags": [],
            "needs_background": "light"
          }
        },
        {
          "output_type": "stream",
          "text": [
            "Top 10 negative terms\n"
          ],
          "name": "stdout"
        },
        {
          "output_type": "display_data",
          "data": {
            "image/png": "[encoded data removed]",
            "text/plain": [
              "<Figure size 480x320 with 1 Axes>"
            ]
          },
          "metadata": {
            "tags": [],
            "needs_background": "light"
          }
        }
      ]
    },
    {
      "cell_type": "markdown",
      "metadata": {
        "id": "RhJ6L2Ll1CfY"
      },
      "source": [
        "### Data Splitting - Train & Test sets"
      ]
    },
    {
      "cell_type": "code",
      "metadata": {
        "id": "yadsrxjE1G_G"
      },
      "source": [
        "# concatenate tokens into sentences in order to use feature extraction libraries\r\n",
        "def join_sentences(text):\r\n",
        "  return ' '.join(text)"
      ],
      "execution_count": 38,
      "outputs": []
    },
    {
      "cell_type": "code",
      "metadata": {
        "id": "2e4gp3fzwuZe"
      },
      "source": [
        "# copy dataset and concatenate tokens to sentences\r\n",
        "df_copy2 = df_copy.copy()\r\n",
        "df_copy2.text = df_copy2.text.apply(join_sentences)\r\n",
        "\r\n",
        "# split target and data\r\n",
        "y = df_copy2.target\r\n",
        "X = df_copy2.iloc[:,1:] # without target column\r\n",
        "\r\n",
        "# Split data into training and test sets - 50% percent for train and 50% percent for test\r\n",
        "X_train, X_test, y_train, y_test = train_test_split(X, \r\n",
        "                                                    y, \r\n",
        "                                                    train_size = 0.5, \r\n",
        "                                                    random_state=0)"
      ],
      "execution_count": 39,
      "outputs": []
    },
    {
      "cell_type": "code",
      "metadata": {
        "id": "InvpoBBX2YaW",
        "colab": {
          "base_uri": "https://localhost:8080/"
        },
        "outputId": "572c56a2-e72c-4960-c524-912e209898ce"
      },
      "source": [
        "# Check imbalanced data\r\n",
        "print(f'Positive train samples: {y_train[y_train == 1].shape}')\r\n",
        "print(f'Negative train samples: {y_train[y_train == 0].shape}')"
      ],
      "execution_count": 40,
      "outputs": [
        {
          "output_type": "stream",
          "text": [
            "Positive train samples: (24923,)\n",
            "Negative train samples: (24829,)\n"
          ],
          "name": "stdout"
        }
      ]
    },
    {
      "cell_type": "markdown",
      "metadata": {
        "id": "UkQDj34-6gKl"
      },
      "source": [
        "# Question 2"
      ]
    },
    {
      "cell_type": "markdown",
      "metadata": {
        "id": "rGn1FyrsAeLI"
      },
      "source": [
        "### Dummy Classifier"
      ]
    },
    {
      "cell_type": "code",
      "metadata": {
        "colab": {
          "base_uri": "https://localhost:8080/"
        },
        "id": "oHpdKp-YAdvf",
        "outputId": "cfb08155-5534-402c-913f-8bf66e225202"
      },
      "source": [
        "# Dummy classifier - classifies sampels according to most frequent label - for testing (baseline).\r\n",
        "# In order to see that our model is better than dummy model.\r\n",
        "dummy_clf = DummyClassifier(strategy=\"most_frequent\")\r\n",
        "dummy_clf.fit(X_train, y_train)\r\n",
        "dummy_accuracy_train = dummy_clf.score(X_train, y_train)\r\n",
        "dummy_accuracy_test = dummy_clf.score(X_test, y_test)\r\n",
        "print(f\"Dummy Classifier Train Accuracy: {dummy_accuracy_train}\")\r\n",
        "print(f\"Dummy Classifier Test Accuracy: {dummy_accuracy_test}\")"
      ],
      "execution_count": 41,
      "outputs": [
        {
          "output_type": "stream",
          "text": [
            "Dummy Classifier Train Accuracy: 0.5009446856407782\n",
            "Dummy Classifier Test Accuracy: 0.4982815106626736\n"
          ],
          "name": "stdout"
        }
      ]
    },
    {
      "cell_type": "markdown",
      "metadata": {
        "id": "39JFL1UeFlNt"
      },
      "source": [
        "### Machine learning model - SVM + TF-IDF"
      ]
    },
    {
      "cell_type": "code",
      "metadata": {
        "id": "NV2da8Ly6h8O"
      },
      "source": [
        "# Using the best model from the previous assignment. The best model - SVM + TF-IDF\r\n",
        "tf = TfidfVectorizer()\r\n",
        "svm = LinearSVC()"
      ],
      "execution_count": 42,
      "outputs": []
    },
    {
      "cell_type": "code",
      "metadata": {
        "id": "mrceK5CZinSM"
      },
      "source": [
        "# model parameters to tune\r\n",
        "svm_tf_params = {\"clf__loss\": ['hinge'],\r\n",
        "              \"clf__random_state\": [0],\r\n",
        "              \"clf__C\": [1,2],\r\n",
        "              \"vect__ngram_range\": [(1,1),(1,2)]}"
      ],
      "execution_count": 43,
      "outputs": []
    },
    {
      "cell_type": "markdown",
      "metadata": {
        "id": "9EMKFls0F6lI"
      },
      "source": [
        "### Deep learning approach - LSTM"
      ]
    },
    {
      "cell_type": "code",
      "metadata": {
        "id": "sWVUhw4_C5x-"
      },
      "source": [
        "# get the vocabulary size of the data using tokenizer class\r\n",
        "tokenizer = Tokenizer() \r\n",
        "def get_vocab_size():\r\n",
        "  tokenizer.fit_on_texts(X_train.text)\r\n",
        "  word_index = tokenizer.word_index\r\n",
        "  vocab_size = len(tokenizer.word_index) + 1\r\n",
        "  return vocab_size"
      ],
      "execution_count": 44,
      "outputs": []
    },
    {
      "cell_type": "code",
      "metadata": {
        "id": "3JFFrhypRjeJ"
      },
      "source": [
        "# get the length of longest tweet\r\n",
        "def get_max_length_tweet():\r\n",
        "  max_length = max([len(text) for text in X_train.text])\r\n",
        "  return max_length"
      ],
      "execution_count": 45,
      "outputs": []
    },
    {
      "cell_type": "code",
      "metadata": {
        "id": "mteY1cmqTiod"
      },
      "source": [
        "# parameters to use\r\n",
        "embedding_vecor_length = 128\r\n",
        "vocab_size = get_vocab_size()\r\n",
        "max_length = get_max_length_tweet()"
      ],
      "execution_count": 46,
      "outputs": []
    },
    {
      "cell_type": "code",
      "metadata": {
        "id": "GwKiM_vqRLE-"
      },
      "source": [
        "# padding text with 0 \r\n",
        "def pad_text(data):\r\n",
        "  pad_data = pad_sequences(tokenizer.texts_to_sequences(data),\r\n",
        "                          maxlen = max_length)\r\n",
        "  return pad_data"
      ],
      "execution_count": 47,
      "outputs": []
    },
    {
      "cell_type": "code",
      "metadata": {
        "id": "DOouqSyKfmot"
      },
      "source": [
        "#create deep learning model\r\n",
        "def create_model(dropout_rate=0.2):\r\n",
        "  model = Sequential()\r\n",
        "  model.add(Embedding(vocab_size, embedding_vecor_length, input_length=max_length))\r\n",
        "  model.add(LSTM(embedding_vecor_length, dropout = dropout_rate))\r\n",
        "  model.add(Dense(1, activation='sigmoid'))\r\n",
        "  model.compile(loss='binary_crossentropy', optimizer='adam', metrics=['accuracy'])\r\n",
        "  print(model.summary())\r\n",
        "  return model"
      ],
      "execution_count": 48,
      "outputs": []
    },
    {
      "cell_type": "code",
      "metadata": {
        "id": "1f-ZFLwTgvoy"
      },
      "source": [
        "# build lstm model using keras classifier in order to use grid search\r\n",
        "lstm = KerasClassifier(build_fn=create_model, verbose=1)"
      ],
      "execution_count": 49,
      "outputs": []
    },
    {
      "cell_type": "code",
      "metadata": {
        "id": "tONvcunWQTMC"
      },
      "source": [
        "# parameters to tune\r\n",
        "lstm_params = {\"batch_size\":[256],\r\n",
        "               \"epochs\": [5],\r\n",
        "               \"dropout_rate\": [0.2,0.4]}"
      ],
      "execution_count": 50,
      "outputs": []
    },
    {
      "cell_type": "markdown",
      "metadata": {
        "id": "w-D_XoFIGHsI"
      },
      "source": [
        "### Cross validation"
      ]
    },
    {
      "cell_type": "code",
      "metadata": {
        "id": "gH6r6JoEGJzA"
      },
      "source": [
        "# 10 fold cross validation\r\n",
        "k_fold = KFold(n_splits=10, shuffle=True, random_state=0)"
      ],
      "execution_count": 51,
      "outputs": []
    },
    {
      "cell_type": "markdown",
      "metadata": {
        "id": "20hjEF2CGKMI"
      },
      "source": [
        "### Grid search - parameters tuning"
      ]
    },
    {
      "cell_type": "code",
      "metadata": {
        "id": "UThKqVFmGL61"
      },
      "source": [
        "# Grid search in order to find the best combination for each model\r\n",
        "def grid_search(model, model_name, parameters, x, y, k_fold, deep = False):\r\n",
        "    print(\"=\" * 80)\r\n",
        "    print(f\"Model: {model_name}\")\r\n",
        "    if not deep:\r\n",
        "      print(f\"Featrue extraction method: TF-IDF\")\r\n",
        "      nb_clf = Pipeline([('vect', tf),('clf', model)])\r\n",
        "      gs_clf = GridSearchCV(nb_clf, parameters, n_jobs=1, cv=k_fold, verbose = 1)\r\n",
        "    else:\r\n",
        "      gs_clf = GridSearchCV(model, parameters, n_jobs=1, cv=2, verbose = 1)\r\n",
        "    print(\"_\" * 80)\r\n",
        "    gs_clf = gs_clf.fit(x, y)\r\n",
        "    print('Best score: ', gs_clf.best_score_)\r\n",
        "    print('Best params: ', gs_clf.best_params_)\r\n",
        "    return gs_clf.best_estimator_"
      ],
      "execution_count": 52,
      "outputs": []
    },
    {
      "cell_type": "code",
      "metadata": {
        "colab": {
          "base_uri": "https://localhost:8080/"
        },
        "id": "iempvkq2GxPS",
        "outputId": "0b7b777d-e009-4a23-d421-7b6fc1643f8d"
      },
      "source": [
        "# Testing the impact of changing parameters of machine learning / deep learning model on classification result\r\n",
        "models = [(lstm,\"LSTM\"), (svm, \"SVM\")]\r\n",
        "parameters = { \"SVM\": svm_tf_params, \"LSTM\": lstm_params}\r\n",
        "best_models = {}\r\n",
        "\r\n",
        "for model, model_name in models:\r\n",
        "  if model_name == \"SVM\":\r\n",
        "    best_model = grid_search(model, model_name, parameters[model_name], X_train.text, y_train, k_fold)\r\n",
        "  else:\r\n",
        "    x_data = pad_text(X_train.text)\r\n",
        "    best_model = grid_search(model, model_name, parameters[model_name], x_data, y_train, k_fold=None, deep = True)\r\n",
        "\r\n",
        "  best_models[model_name] =  best_model"
      ],
      "execution_count": 53,
      "outputs": [
        {
          "output_type": "stream",
          "text": [
            "================================================================================\n",
            "Model: LSTM\n",
            "________________________________________________________________________________\n",
            "Fitting 2 folds for each of 2 candidates, totalling 4 fits\n"
          ],
          "name": "stdout"
        },
        {
          "output_type": "stream",
          "text": [
            "[Parallel(n_jobs=1)]: Using backend SequentialBackend with 1 concurrent workers.\n"
          ],
          "name": "stderr"
        },
        {
          "output_type": "stream",
          "text": [
            "Model: \"sequential\"\n",
            "_________________________________________________________________\n",
            "Layer (type)                 Output Shape              Param #   \n",
            "=================================================================\n",
            "embedding (Embedding)        (None, 135, 128)          3442048   \n",
            "_________________________________________________________________\n",
            "lstm (LSTM)                  (None, 128)               131584    \n",
            "_________________________________________________________________\n",
            "dense (Dense)                (None, 1)                 129       \n",
            "=================================================================\n",
            "Total params: 3,573,761\n",
            "Trainable params: 3,573,761\n",
            "Non-trainable params: 0\n",
            "_________________________________________________________________\n",
            "None\n",
            "Epoch 1/5\n",
            "98/98 [==============================] - 9s 58ms/step - loss: 0.6477 - accuracy: 0.6092\n",
            "Epoch 2/5\n",
            "98/98 [==============================] - 5s 55ms/step - loss: 0.4317 - accuracy: 0.8067\n",
            "Epoch 3/5\n",
            "98/98 [==============================] - 5s 55ms/step - loss: 0.3510 - accuracy: 0.8519\n",
            "Epoch 4/5\n",
            "98/98 [==============================] - 5s 55ms/step - loss: 0.2886 - accuracy: 0.8852\n",
            "Epoch 5/5\n",
            "98/98 [==============================] - 5s 55ms/step - loss: 0.2416 - accuracy: 0.9039\n",
            "98/98 [==============================] - 1s 11ms/step - loss: 0.6746 - accuracy: 0.7240\n",
            "Model: \"sequential_1\"\n",
            "_________________________________________________________________\n",
            "Layer (type)                 Output Shape              Param #   \n",
            "=================================================================\n",
            "embedding_1 (Embedding)      (None, 135, 128)          3442048   \n",
            "_________________________________________________________________\n",
            "lstm_1 (LSTM)                (None, 128)               131584    \n",
            "_________________________________________________________________\n",
            "dense_1 (Dense)              (None, 1)                 129       \n",
            "=================================================================\n",
            "Total params: 3,573,761\n",
            "Trainable params: 3,573,761\n",
            "Non-trainable params: 0\n",
            "_________________________________________________________________\n",
            "None\n",
            "Epoch 1/5\n",
            "98/98 [==============================] - 7s 56ms/step - loss: 0.6418 - accuracy: 0.6169\n",
            "Epoch 2/5\n",
            "98/98 [==============================] - 5s 56ms/step - loss: 0.4280 - accuracy: 0.8120\n",
            "Epoch 3/5\n",
            "98/98 [==============================] - 5s 55ms/step - loss: 0.3516 - accuracy: 0.8548\n",
            "Epoch 4/5\n",
            "98/98 [==============================] - 5s 55ms/step - loss: 0.2913 - accuracy: 0.8818\n",
            "Epoch 5/5\n",
            "98/98 [==============================] - 5s 55ms/step - loss: 0.2522 - accuracy: 0.8992\n",
            "98/98 [==============================] - 1s 12ms/step - loss: 0.6481 - accuracy: 0.7279\n",
            "Model: \"sequential_2\"\n",
            "_________________________________________________________________\n",
            "Layer (type)                 Output Shape              Param #   \n",
            "=================================================================\n",
            "embedding_2 (Embedding)      (None, 135, 128)          3442048   \n",
            "_________________________________________________________________\n",
            "lstm_2 (LSTM)                (None, 128)               131584    \n",
            "_________________________________________________________________\n",
            "dense_2 (Dense)              (None, 1)                 129       \n",
            "=================================================================\n",
            "Total params: 3,573,761\n",
            "Trainable params: 3,573,761\n",
            "Non-trainable params: 0\n",
            "_________________________________________________________________\n",
            "None\n",
            "Epoch 1/5\n",
            "98/98 [==============================] - 7s 56ms/step - loss: 0.6534 - accuracy: 0.6048\n",
            "Epoch 2/5\n",
            "98/98 [==============================] - 5s 55ms/step - loss: 0.4465 - accuracy: 0.7997\n",
            "Epoch 3/5\n",
            "98/98 [==============================] - 5s 54ms/step - loss: 0.3712 - accuracy: 0.8393\n",
            "Epoch 4/5\n",
            "98/98 [==============================] - 5s 54ms/step - loss: 0.3203 - accuracy: 0.8679\n",
            "Epoch 5/5\n",
            "98/98 [==============================] - 5s 56ms/step - loss: 0.2769 - accuracy: 0.8897\n",
            "98/98 [==============================] - 1s 11ms/step - loss: 0.6188 - accuracy: 0.7330\n",
            "Model: \"sequential_3\"\n",
            "_________________________________________________________________\n",
            "Layer (type)                 Output Shape              Param #   \n",
            "=================================================================\n",
            "embedding_3 (Embedding)      (None, 135, 128)          3442048   \n",
            "_________________________________________________________________\n",
            "lstm_3 (LSTM)                (None, 128)               131584    \n",
            "_________________________________________________________________\n",
            "dense_3 (Dense)              (None, 1)                 129       \n",
            "=================================================================\n",
            "Total params: 3,573,761\n",
            "Trainable params: 3,573,761\n",
            "Non-trainable params: 0\n",
            "_________________________________________________________________\n",
            "None\n",
            "Epoch 1/5\n",
            "98/98 [==============================] - 7s 57ms/step - loss: 0.6451 - accuracy: 0.6184\n",
            "Epoch 2/5\n",
            "98/98 [==============================] - 5s 56ms/step - loss: 0.4420 - accuracy: 0.8047\n",
            "Epoch 3/5\n",
            "98/98 [==============================] - 5s 56ms/step - loss: 0.3678 - accuracy: 0.8442\n",
            "Epoch 4/5\n",
            "98/98 [==============================] - 5s 54ms/step - loss: 0.3149 - accuracy: 0.8680\n",
            "Epoch 5/5\n",
            "98/98 [==============================] - 5s 56ms/step - loss: 0.2750 - accuracy: 0.8891\n",
            "98/98 [==============================] - 2s 11ms/step - loss: 0.6300 - accuracy: 0.7305\n"
          ],
          "name": "stdout"
        },
        {
          "output_type": "stream",
          "text": [
            "[Parallel(n_jobs=1)]: Done   4 out of   4 | elapsed:  2.1min finished\n"
          ],
          "name": "stderr"
        },
        {
          "output_type": "stream",
          "text": [
            "Model: \"sequential_4\"\n",
            "_________________________________________________________________\n",
            "Layer (type)                 Output Shape              Param #   \n",
            "=================================================================\n",
            "embedding_4 (Embedding)      (None, 135, 128)          3442048   \n",
            "_________________________________________________________________\n",
            "lstm_4 (LSTM)                (None, 128)               131584    \n",
            "_________________________________________________________________\n",
            "dense_4 (Dense)              (None, 1)                 129       \n",
            "=================================================================\n",
            "Total params: 3,573,761\n",
            "Trainable params: 3,573,761\n",
            "Non-trainable params: 0\n",
            "_________________________________________________________________\n",
            "None\n",
            "Epoch 1/5\n",
            "195/195 [==============================] - 12s 55ms/step - loss: 0.6080 - accuracy: 0.6546\n",
            "Epoch 2/5\n",
            "195/195 [==============================] - 10s 53ms/step - loss: 0.4287 - accuracy: 0.8082\n",
            "Epoch 3/5\n",
            "195/195 [==============================] - 11s 54ms/step - loss: 0.3757 - accuracy: 0.8371\n",
            "Epoch 4/5\n",
            "195/195 [==============================] - 11s 54ms/step - loss: 0.3336 - accuracy: 0.8576\n",
            "Epoch 5/5\n",
            "195/195 [==============================] - 10s 54ms/step - loss: 0.2975 - accuracy: 0.8723\n",
            "Best score:  0.7317494750022888\n",
            "Best params:  {'batch_size': 256, 'dropout_rate': 0.4, 'epochs': 5}\n",
            "================================================================================\n",
            "Model: SVM\n",
            "Featrue extraction method: TF-IDF\n",
            "________________________________________________________________________________\n",
            "Fitting 10 folds for each of 4 candidates, totalling 40 fits\n"
          ],
          "name": "stdout"
        },
        {
          "output_type": "stream",
          "text": [
            "[Parallel(n_jobs=1)]: Using backend SequentialBackend with 1 concurrent workers.\n",
            "/usr/local/lib/python3.6/dist-packages/sklearn/svm/_base.py:947: ConvergenceWarning: Liblinear failed to converge, increase the number of iterations.\n",
            "  \"the number of iterations.\", ConvergenceWarning)\n",
            "/usr/local/lib/python3.6/dist-packages/sklearn/svm/_base.py:947: ConvergenceWarning: Liblinear failed to converge, increase the number of iterations.\n",
            "  \"the number of iterations.\", ConvergenceWarning)\n",
            "/usr/local/lib/python3.6/dist-packages/sklearn/svm/_base.py:947: ConvergenceWarning: Liblinear failed to converge, increase the number of iterations.\n",
            "  \"the number of iterations.\", ConvergenceWarning)\n",
            "/usr/local/lib/python3.6/dist-packages/sklearn/svm/_base.py:947: ConvergenceWarning: Liblinear failed to converge, increase the number of iterations.\n",
            "  \"the number of iterations.\", ConvergenceWarning)\n",
            "/usr/local/lib/python3.6/dist-packages/sklearn/svm/_base.py:947: ConvergenceWarning: Liblinear failed to converge, increase the number of iterations.\n",
            "  \"the number of iterations.\", ConvergenceWarning)\n",
            "/usr/local/lib/python3.6/dist-packages/sklearn/svm/_base.py:947: ConvergenceWarning: Liblinear failed to converge, increase the number of iterations.\n",
            "  \"the number of iterations.\", ConvergenceWarning)\n",
            "/usr/local/lib/python3.6/dist-packages/sklearn/svm/_base.py:947: ConvergenceWarning: Liblinear failed to converge, increase the number of iterations.\n",
            "  \"the number of iterations.\", ConvergenceWarning)\n",
            "/usr/local/lib/python3.6/dist-packages/sklearn/svm/_base.py:947: ConvergenceWarning: Liblinear failed to converge, increase the number of iterations.\n",
            "  \"the number of iterations.\", ConvergenceWarning)\n",
            "/usr/local/lib/python3.6/dist-packages/sklearn/svm/_base.py:947: ConvergenceWarning: Liblinear failed to converge, increase the number of iterations.\n",
            "  \"the number of iterations.\", ConvergenceWarning)\n",
            "/usr/local/lib/python3.6/dist-packages/sklearn/svm/_base.py:947: ConvergenceWarning: Liblinear failed to converge, increase the number of iterations.\n",
            "  \"the number of iterations.\", ConvergenceWarning)\n",
            "/usr/local/lib/python3.6/dist-packages/sklearn/svm/_base.py:947: ConvergenceWarning: Liblinear failed to converge, increase the number of iterations.\n",
            "  \"the number of iterations.\", ConvergenceWarning)\n",
            "/usr/local/lib/python3.6/dist-packages/sklearn/svm/_base.py:947: ConvergenceWarning: Liblinear failed to converge, increase the number of iterations.\n",
            "  \"the number of iterations.\", ConvergenceWarning)\n",
            "/usr/local/lib/python3.6/dist-packages/sklearn/svm/_base.py:947: ConvergenceWarning: Liblinear failed to converge, increase the number of iterations.\n",
            "  \"the number of iterations.\", ConvergenceWarning)\n",
            "/usr/local/lib/python3.6/dist-packages/sklearn/svm/_base.py:947: ConvergenceWarning: Liblinear failed to converge, increase the number of iterations.\n",
            "  \"the number of iterations.\", ConvergenceWarning)\n",
            "/usr/local/lib/python3.6/dist-packages/sklearn/svm/_base.py:947: ConvergenceWarning: Liblinear failed to converge, increase the number of iterations.\n",
            "  \"the number of iterations.\", ConvergenceWarning)\n",
            "[Parallel(n_jobs=1)]: Done  40 out of  40 | elapsed:  1.1min finished\n"
          ],
          "name": "stderr"
        },
        {
          "output_type": "stream",
          "text": [
            "Best score:  0.7720695196238426\n",
            "Best params:  {'clf__C': 1, 'clf__loss': 'hinge', 'clf__random_state': 0, 'vect__ngram_range': (1, 2)}\n"
          ],
          "name": "stdout"
        }
      ]
    },
    {
      "cell_type": "markdown",
      "metadata": {
        "id": "za4c24EmGZzf"
      },
      "source": [
        "### Evaluation - Accuracy"
      ]
    },
    {
      "cell_type": "markdown",
      "metadata": {
        "id": "TClgq0YhgaBf"
      },
      "source": [
        "##### ML model evaluation"
      ]
    },
    {
      "cell_type": "code",
      "metadata": {
        "id": "Ar9TO9HCGbW7",
        "colab": {
          "base_uri": "https://localhost:8080/",
          "height": 0
        },
        "outputId": "94e5d1a2-0234-4752-e469-7dcc1b2f5f87"
      },
      "source": [
        "# using svm model with the best hyperparameters from the grid search on the test set\r\n",
        "svm_model = best_models[\"SVM\"]\r\n",
        "\r\n",
        "svm_train_prediction = svm_model.predict(X_train.text)\r\n",
        "svm_accuracy_train = accuracy_score(y_train, svm_train_prediction)\r\n",
        "\r\n",
        "svm_test_prediction = svm_model.predict(X_test.text)\r\n",
        "svm_accuracy_test = accuracy_score(y_test, svm_test_prediction)\r\n",
        "\r\n",
        "print(classification_report(y_test, svm_test_prediction))\r\n",
        "svm_cm = confusion_matrix(y_test, svm_test_prediction)\r\n",
        "sns.heatmap(svm_cm, annot=True)\r\n",
        "print(\"=====================\")"
      ],
      "execution_count": 54,
      "outputs": [
        {
          "output_type": "stream",
          "text": [
            "              precision    recall  f1-score   support\n",
            "\n",
            "           0       0.77      0.79      0.78     24962\n",
            "           1       0.78      0.76      0.77     24791\n",
            "\n",
            "    accuracy                           0.77     49753\n",
            "   macro avg       0.77      0.77      0.77     49753\n",
            "weighted avg       0.77      0.77      0.77     49753\n",
            "\n",
            "=====================\n"
          ],
          "name": "stdout"
        },
        {
          "output_type": "display_data",
          "data": {
            "image/png": "[encoded data removed]",
            "text/plain": [
              "<Figure size 432x288 with 2 Axes>"
            ]
          },
          "metadata": {
            "tags": [],
            "needs_background": "light"
          }
        }
      ]
    },
    {
      "cell_type": "markdown",
      "metadata": {
        "id": "uGSJmEPAgd8W"
      },
      "source": [
        "##### DL model evaluation"
      ]
    },
    {
      "cell_type": "code",
      "metadata": {
        "id": "CXoBz6Npb1FI",
        "colab": {
          "base_uri": "https://localhost:8080/",
          "height": 0
        },
        "outputId": "acacf43b-a896-4051-8ac8-80214c981371"
      },
      "source": [
        "# using lstm model with the best hyperparameters from the grid search on the test set\r\n",
        "dl_model = best_models[\"LSTM\"]\r\n",
        "\r\n",
        "x_train_data = pad_text(X_train.text)\r\n",
        "lstm_accuracy_train = dl_model.score(x_train_data, y_train)\r\n",
        "\r\n",
        "x_test_data = pad_text(X_test.text)\r\n",
        "lstm_accuracy_test = dl_model.score(x_test_data, y_test)\r\n",
        "\r\n",
        "lstm_prediction = dl_model.predict(x_test_data)\r\n",
        "print(classification_report(y_test, lstm_prediction))\r\n",
        "lstm_cm = confusion_matrix(y_test,lstm_prediction)\r\n",
        "sns.heatmap(lstm_cm, annot=True)\r\n",
        "print(\"=====================\")"
      ],
      "execution_count": 55,
      "outputs": [
        {
          "output_type": "stream",
          "text": [
            "195/195 [==============================] - 3s 11ms/step - loss: 0.2473 - accuracy: 0.9012\n",
            "195/195 [==============================] - 2s 11ms/step - loss: 0.5756 - accuracy: 0.7520\n"
          ],
          "name": "stdout"
        },
        {
          "output_type": "stream",
          "text": [
            "/usr/local/lib/python3.6/dist-packages/tensorflow/python/keras/engine/sequential.py:450: UserWarning: `model.predict_classes()` is deprecated and will be removed after 2021-01-01. Please use instead:* `np.argmax(model.predict(x), axis=-1)`,   if your model does multi-class classification   (e.g. if it uses a `softmax` last-layer activation).* `(model.predict(x) > 0.5).astype(\"int32\")`,   if your model does binary classification   (e.g. if it uses a `sigmoid` last-layer activation).\n",
            "  warnings.warn('`model.predict_classes()` is deprecated and '\n"
          ],
          "name": "stderr"
        },
        {
          "output_type": "stream",
          "text": [
            "195/195 [==============================] - 2s 10ms/step\n",
            "              precision    recall  f1-score   support\n",
            "\n",
            "           0       0.76      0.74      0.75     24962\n",
            "           1       0.75      0.76      0.75     24791\n",
            "\n",
            "    accuracy                           0.75     49753\n",
            "   macro avg       0.75      0.75      0.75     49753\n",
            "weighted avg       0.75      0.75      0.75     49753\n",
            "\n",
            "=====================\n"
          ],
          "name": "stdout"
        },
        {
          "output_type": "display_data",
          "data": {
            "image/png": "[encoded data removed]",
            "text/plain": [
              "<Figure size 432x288 with 2 Axes>"
            ]
          },
          "metadata": {
            "tags": [],
            "needs_background": "light"
          }
        }
      ]
    },
    {
      "cell_type": "markdown",
      "metadata": {
        "id": "Gcfo4o_QggwU"
      },
      "source": [
        "### Can you use the model from homework \\#2 without re-training?\r\n",
        "No, we cannot becuase the vocabulary of the model is different. In the previous homework we used an imdb dataset which contains reviews about movies, and in the current project we use tweets which contains hashtags, urls, emojis, @-usernames etc. Thus, even if we use a pre-trained model we still need to fit the model to our data."
      ]
    },
    {
      "cell_type": "markdown",
      "metadata": {
        "id": "k47YpWSlhUWl"
      },
      "source": [
        "### Comparison"
      ]
    },
    {
      "cell_type": "code",
      "metadata": {
        "id": "knxnQRhShVqu",
        "colab": {
          "base_uri": "https://localhost:8080/",
          "height": 0
        },
        "outputId": "aed0690e-c82d-4d10-be56-15f82f9ad4e3"
      },
      "source": [
        "# plot horizontal graph to compare models accuracy - comparing between train and test accuracy\r\n",
        "def plot_results():\r\n",
        "  indices = np.arange(3)\r\n",
        "\r\n",
        "  results = [[\"SVM_Classifier\",\"LSTM_Classifier\", \"Dummy_Classifier\"],\r\n",
        "             [svm_accuracy_train, lstm_accuracy_train, dummy_accuracy_train],\r\n",
        "             [svm_accuracy_test, lstm_accuracy_test, dummy_accuracy_test]]\r\n",
        "\r\n",
        "  clf_names, train_score, test_score = results\r\n",
        "\r\n",
        "  plt.figure(figsize=(12, 8))\r\n",
        "  plt.title(\"Classifiers Accuracy Comparison\")\r\n",
        "  plt.barh(indices, train_score, .2, label=\"Train Accuracy\", color='navy')\r\n",
        "  plt.barh(indices + .3, test_score, .2, label=\"Test Accuracy\", color='darkorange')\r\n",
        "  plt.yticks(())\r\n",
        "  plt.legend(loc='best')\r\n",
        "  plt.subplots_adjust(left=.25)\r\n",
        "  plt.subplots_adjust(top=.95)\r\n",
        "  plt.subplots_adjust(bottom=.05)\r\n",
        "\r\n",
        "  for i, c in zip(indices, clf_names):\r\n",
        "      plt.text(-.3, i, c)\r\n",
        "\r\n",
        "  plt.show()\r\n",
        "\r\n",
        "plot_results()"
      ],
      "execution_count": 56,
      "outputs": [
        {
          "output_type": "display_data",
          "data": {
            "image/png": "[encoded data removed]",
            "text/plain": [
              "<Figure size 864x576 with 1 Axes>"
            ]
          },
          "metadata": {
            "tags": [],
            "needs_background": "light"
          }
        }
      ]
    },
    {
      "cell_type": "markdown",
      "metadata": {
        "id": "Nuq7fNe4vMj4"
      },
      "source": [
        "### Discussion\r\n",
        "As we can see, both models performed better than a simple model which classifies samples according to the most frequent label of the train set. We guess that most of the sentiment classification errors were on tweets which include words that are common on both sentiment classes, e.g the words \"day\", \"get\", etc.\r\n",
        "\r\n",
        "In addition, the SVM model performed better than the LSTM model, but we suspect that if we would train the network for more epochs and would use a pre-trained weights, e.g gensim library, we could improve the performance of the LSTM model, but our computational power is very limited.\r\n"
      ]
    },
    {
      "cell_type": "markdown",
      "metadata": {
        "id": "bRjAGKD96YcE"
      },
      "source": [
        "# Question 3\r\n",
        "\r\n"
      ]
    },
    {
      "cell_type": "markdown",
      "metadata": {
        "id": "gzfSIDXrP9Eh"
      },
      "source": [
        "### Collect Twitter Data"
      ]
    },
    {
      "cell_type": "code",
      "metadata": {
        "id": "ytAWfx-zP-31"
      },
      "source": [
        "# twitter params\r\n",
        "consumer_key = '9CVpD09XNP8bq1FS5WZomnumR'\r\n",
        "consumer_secret = 'oDIcvrU5TQBzrMcDrxQVPUcgrH7SGDQgqvapbBGEGIW9pB0WVH'\r\n",
        "access_token = '1350938591090900992-XUkzPkYDfnTLg2nJjGbpOUKqRLc8no'\r\n",
        "access_secret = '2Qrnj3JJAUri0eCavx2eAhZpaIow2PNrdYefClwJBjp5T'"
      ],
      "execution_count": 57,
      "outputs": []
    },
    {
      "cell_type": "code",
      "metadata": {
        "id": "0Lig-0Pzk1NQ"
      },
      "source": [
        "# get twitter access through tweepyAPI\r\n",
        "auth = OAuthHandler(consumer_key,consumer_secret)\r\n",
        "auth.set_access_token(access_token,access_secret)\r\n",
        "auth = tweepy.OAuthHandler(consumer_key, consumer_secret)\r\n",
        "auth.set_access_token(access_token, access_secret)\r\n",
        "\r\n",
        "api = tweepy.API(auth)"
      ],
      "execution_count": 58,
      "outputs": []
    },
    {
      "cell_type": "code",
      "metadata": {
        "id": "BnYP9PrpQIcp"
      },
      "source": [
        "#override tweepy.StreamListener to add logic to on_status\r\n",
        "class MyStreamListener(tweepy.StreamListener):\r\n",
        "  def on_data(self, data):\r\n",
        "    try:\r\n",
        "      \r\n",
        "      with open('Baiden.json', 'a') as f:\r\n",
        "        \r\n",
        "        if \"retweeted_status\" in data: # does not collect retweets \r\n",
        "          return True\r\n",
        "        \r\n",
        "        else:\r\n",
        "          f.write(data)\r\n",
        "          return True\r\n",
        "    \r\n",
        "    except BaseException as e:\r\n",
        "      print(\"Error on_data: %s\" % str(e))\r\n",
        "    \r\n",
        "    return True\r\n",
        "\r\n",
        "  def on_error(self, status):\r\n",
        "    print(status)\r\n",
        "    return True"
      ],
      "execution_count": 59,
      "outputs": []
    },
    {
      "cell_type": "code",
      "metadata": {
        "id": "oAPqbxFdXdwp"
      },
      "source": [
        "# creating streaming listener\r\n",
        "# myStreamListener = MyStreamListener()\r\n",
        "# myStream = tweepy.Stream(auth = api.auth, listener=myStreamListener)"
      ],
      "execution_count": 60,
      "outputs": []
    },
    {
      "cell_type": "code",
      "metadata": {
        "id": "IKS6ItsQXeWb"
      },
      "source": [
        "# collecting data from twitter through streaming API\r\n",
        "# myStream.filter(track=['JoeBiden', 'Joe Biden'], languages=['en'])"
      ],
      "execution_count": 61,
      "outputs": []
    },
    {
      "cell_type": "markdown",
      "metadata": {
        "id": "yskIX7YRjWgC"
      },
      "source": [
        "### Extract Tweets from json to CSV"
      ]
    },
    {
      "cell_type": "code",
      "metadata": {
        "id": "_VjTh80HjZ3L",
        "colab": {
          "base_uri": "https://localhost:8080/",
          "height": 0
        },
        "outputId": "8eab45bc-5671-47df-8b69-83d41677cf63"
      },
      "source": [
        "'''\r\n",
        "# import tweets\r\n",
        "all_data = []\r\n",
        "dates = []\r\n",
        "hours = []\r\n",
        "texts = []\r\n",
        "\r\n",
        "#open new directory for tweets per dates files\r\n",
        "if not os.path.exists('Tweets-Biden'):\r\n",
        "    os.makedirs('Tweets-Biden')\r\n",
        "    \r\n",
        "# files path should be a directory with the tweets's files per day\r\n",
        "def tweets_per_day(files_path,start_hour):\r\n",
        "    tweets_files = glob.glob(files_path + \"\\\\*.txt\")\r\n",
        "    for date_file in tweets_files:\r\n",
        "        with open(date_file, 'r') as f:\r\n",
        "            lines = f.readlines()\r\n",
        "            for line in lines:\r\n",
        "                try:\r\n",
        "                    if len(line) > 1:\r\n",
        "                        twit_data = json.loads(line)\r\n",
        "                        dt_object = datetime.fromtimestamp(int(twit_data['timestamp_ms'])/1000)\r\n",
        "                        if dt_object.hour >= start_hour and dt_object.hour < start_hour +1:\r\n",
        "                            date = dt_object.strftime(\"%Y-%m-%d, %H:%M:%S\")\r\n",
        "                            all_data.append(twit_data)\r\n",
        "#                             names.append(twit_data['user']['name'])\r\n",
        "                            date_split = date.split(\", \")\r\n",
        "                            dates.append(date_split[0])\r\n",
        "                            hours.append(date_split[1])\r\n",
        "                            texts.append(twit_data['text'])\r\n",
        "                except Exception as e:\r\n",
        "                    print(line)\r\n",
        "                    raise e\r\n",
        "    return True\r\n",
        "\r\n",
        "tweets_per_day(\"C:\\\\Users\\\\noyha\\\\PycharmProjects\\\\final_project_pwmba\\\\Tweets-Biden\",18)\r\n",
        "tweetsDf = pd.DataFrame({'date': dates, 'hour: hours,'text': texts})\r\n",
        "'''"
      ],
      "execution_count": 62,
      "outputs": [
        {
          "output_type": "execute_result",
          "data": {
            "application/vnd.google.colaboratory.intrinsic+json": {
              "type": "string"
            },
            "text/plain": [
              "'\\n# import tweets\\nall_data = []\\ndates = []\\nhours = []\\ntexts = []\\n\\n#open new directory for tweets per dates files\\nif not os.path.exists(\\'Tweets-Biden\\'):\\n    os.makedirs(\\'Tweets-Biden\\')\\n    \\n# files path should be a directory with the tweets\\'s files per day\\ndef tweets_per_day(files_path,start_hour):\\n    tweets_files = glob.glob(files_path + \"\\\\*.txt\")\\n    for date_file in tweets_files:\\n        with open(date_file, \\'r\\') as f:\\n            lines = f.readlines()\\n            for line in lines:\\n                try:\\n                    if len(line) > 1:\\n                        twit_data = json.loads(line)\\n                        dt_object = datetime.fromtimestamp(int(twit_data[\\'timestamp_ms\\'])/1000)\\n                        if dt_object.hour >= start_hour and dt_object.hour < start_hour +1:\\n                            date = dt_object.strftime(\"%Y-%m-%d, %H:%M:%S\")\\n                            all_data.append(twit_data)\\n#                             names.append(twit_data[\\'user\\'][\\'name\\'])\\n                            date_split = date.split(\", \")\\n                            dates.append(date_split[0])\\n                            hours.append(date_split[1])\\n                            texts.append(twit_data[\\'text\\'])\\n                except Exception as e:\\n                    print(line)\\n                    raise e\\n    return True\\n\\ntweets_per_day(\"C:\\\\Users\\\\noyha\\\\PycharmProjects\\\\final_project_pwmba\\\\Tweets-Biden\",18)\\ntweetsDf = pd.DataFrame({\\'date\\': dates, \\'hour: hours,\\'text\\': texts})\\n'"
            ]
          },
          "metadata": {
            "tags": []
          },
          "execution_count": 62
        }
      ]
    },
    {
      "cell_type": "code",
      "metadata": {
        "id": "Pqb1jzYWZ0Ja",
        "colab": {
          "base_uri": "https://localhost:8080/",
          "height": 0
        },
        "outputId": "6d1e0ec5-2870-49ab-9de0-58642d661b14"
      },
      "source": [
        "'''\r\n",
        "emoticons_positive = set([\r\n",
        "    ':-)', ':)', ';)', ':o)', ':]', ':3', ':c)', ':>', '=]', '8)', '=)', ':}',\r\n",
        "    ':^)', ':-d', ':d', '8-d', '8d', 'x-d', 'xd', 'x-d', 'xd', '=-d', '=d',\r\n",
        "    '=-3', '=3', ':-))', \":'-)\", \":')\", ':*', ':^*', '>:p', ':-p', ':p', 'x-p',\r\n",
        "    'x-p', 'xp', ':-p', ':p', '=p', ':-b', ':b', '>:)', '>;)', '>:-)', ': )',\r\n",
        "    '<3'])\r\n",
        "emoticons_negative = set([\r\n",
        "    ':L', ':-/', '>:/', ':s', '>:[', ':@', ':-(', ':[', ':-||', '=L', ':<',\r\n",
        "    ':-[', ':-<', '=\\\\', '=/', '>:(', ':(', '>.<', \":'-(\", \":'(\", ':\\\\', ':-c',\r\n",
        "    ':c', ':{', '>:\\\\', ';('\r\n",
        "    ])\r\n",
        "'''"
      ],
      "execution_count": 63,
      "outputs": [
        {
          "output_type": "execute_result",
          "data": {
            "application/vnd.google.colaboratory.intrinsic+json": {
              "type": "string"
            },
            "text/plain": [
              "'\\nemoticons_positive = set([\\n    \\':-)\\', \\':)\\', \\';)\\', \\':o)\\', \\':]\\', \\':3\\', \\':c)\\', \\':>\\', \\'=]\\', \\'8)\\', \\'=)\\', \\':}\\',\\n    \\':^)\\', \\':-d\\', \\':d\\', \\'8-d\\', \\'8d\\', \\'x-d\\', \\'xd\\', \\'x-d\\', \\'xd\\', \\'=-d\\', \\'=d\\',\\n    \\'=-3\\', \\'=3\\', \\':-))\\', \":\\'-)\", \":\\')\", \\':*\\', \\':^*\\', \\'>:p\\', \\':-p\\', \\':p\\', \\'x-p\\',\\n    \\'x-p\\', \\'xp\\', \\':-p\\', \\':p\\', \\'=p\\', \\':-b\\', \\':b\\', \\'>:)\\', \\'>;)\\', \\'>:-)\\', \\': )\\',\\n    \\'<3\\'])\\nemoticons_negative = set([\\n    \\':L\\', \\':-/\\', \\'>:/\\', \\':s\\', \\'>:[\\', \\':@\\', \\':-(\\', \\':[\\', \\':-||\\', \\'=L\\', \\':<\\',\\n    \\':-[\\', \\':-<\\', \\'=\\\\\\', \\'=/\\', \\'>:(\\', \\':(\\', \\'>.<\\', \":\\'-(\", \":\\'(\", \\':\\\\\\', \\':-c\\',\\n    \\':c\\', \\':{\\', \\'>:\\\\\\', \\';(\\'\\n    ])\\n'"
            ]
          },
          "metadata": {
            "tags": []
          },
          "execution_count": 63
        }
      ]
    },
    {
      "cell_type": "code",
      "metadata": {
        "id": "c-hJ3K59Z5P-",
        "colab": {
          "base_uri": "https://localhost:8080/",
          "height": 0
        },
        "outputId": "874582a1-324e-4b3d-fa04-a5d9a5c251e6"
      },
      "source": [
        "'''\r\n",
        "# find tweets with emoticons\r\n",
        "tweetsDf['target'] = -1\r\n",
        "\r\n",
        "def check_emoticons(row):\r\n",
        "  pos_emoticons = 0\r\n",
        "  neg_emoticons = 0\r\n",
        "  for word in row.split(\" \"):\r\n",
        "    if word in emoticons_negative:\r\n",
        "      neg_emoticons = neg_emoticons + 1\r\n",
        "      break\r\n",
        "    if word in emoticons_positive:\r\n",
        "      pos_emoticons = pos_emoticons + 1\r\n",
        "      break\r\n",
        "      \r\n",
        "  if pos_emoticons > neg_emoticons:\r\n",
        "      return 1\r\n",
        "  elif pos_emoticons < neg_emoticons:\r\n",
        "      return 0\r\n",
        "  else:\r\n",
        "      return -1\r\n",
        "\r\n",
        "tweetsDf['target'] = tweetsDf['text'].apply(check_emoticons)\r\n",
        "print(f\"Num of positive tweets {len(tweetsDf.loc[tweetsDf['target'] == 1])}\")\r\n",
        "print(f\"Num of negative tweets {len(tweetsDf.loc[tweetsDf['target'] == 0])}\")\r\n",
        "print(f\"Num of natural tweets {len(tweetsDf.loc[tweetsDf['target'] == -1])}\")\r\n",
        "# with pd.option_context('display.max_rows', None, 'display.max_columns', None):  # more options can be specified also\r\n",
        "#     print(tweetsDf['target'])\r\n",
        "'''"
      ],
      "execution_count": 64,
      "outputs": [
        {
          "output_type": "execute_result",
          "data": {
            "application/vnd.google.colaboratory.intrinsic+json": {
              "type": "string"
            },
            "text/plain": [
              "'\\n# find tweets with emoticons\\ntweetsDf[\\'target\\'] = -1\\n\\ndef check_emoticons(row):\\n  pos_emoticons = 0\\n  neg_emoticons = 0\\n  for word in row.split(\" \"):\\n    if word in emoticons_negative:\\n      neg_emoticons = neg_emoticons + 1\\n      break\\n    if word in emoticons_positive:\\n      pos_emoticons = pos_emoticons + 1\\n      break\\n      \\n  if pos_emoticons > neg_emoticons:\\n      return 1\\n  elif pos_emoticons < neg_emoticons:\\n      return 0\\n  else:\\n      return -1\\n\\ntweetsDf[\\'target\\'] = tweetsDf[\\'text\\'].apply(check_emoticons)\\nprint(f\"Num of positive tweets {len(tweetsDf.loc[tweetsDf[\\'target\\'] == 1])}\")\\nprint(f\"Num of negative tweets {len(tweetsDf.loc[tweetsDf[\\'target\\'] == 0])}\")\\nprint(f\"Num of natural tweets {len(tweetsDf.loc[tweetsDf[\\'target\\'] == -1])}\")\\n# with pd.option_context(\\'display.max_rows\\', None, \\'display.max_columns\\', None):  # more options can be specified also\\n#     print(tweetsDf[\\'target\\'])\\n'"
            ]
          },
          "metadata": {
            "tags": []
          },
          "execution_count": 64
        }
      ]
    },
    {
      "cell_type": "code",
      "metadata": {
        "id": "4snnpL-rBiVr",
        "colab": {
          "base_uri": "https://localhost:8080/",
          "height": 0
        },
        "outputId": "9158e9cd-d552-442f-e261-05a6be312421"
      },
      "source": [
        "'''\r\n",
        " tweetsDf = tweetsDf.drop_duplicates(subset=['text'])\r\n",
        "\r\n",
        "# count number of tweets at each day\r\n",
        "def count_daily_tweets():\r\n",
        "  count_tweets_per_day = {}\r\n",
        "  for index,row in tweetsDf.iterrows():\r\n",
        "      date = row['date']\r\n",
        "      if date in count_tweets_per_day:\r\n",
        "        count_tweets_per_day[date] = count_tweets_per_day[date] + 1\r\n",
        "      else:\r\n",
        "        count_tweets_per_day[date] = 1\r\n",
        "    return count_tweets_per_day\r\n",
        "'''"
      ],
      "execution_count": 65,
      "outputs": [
        {
          "output_type": "execute_result",
          "data": {
            "application/vnd.google.colaboratory.intrinsic+json": {
              "type": "string"
            },
            "text/plain": [
              "\"\\n tweetsDf = tweetsDf.drop_duplicates(subset=['text'])\\n\\n# count number of tweets at each day\\ndef count_daily_tweets():\\n  count_tweets_per_day = {}\\n  for index,row in tweetsDf.iterrows():\\n      date = row['date']\\n      if date in count_tweets_per_day:\\n        count_tweets_per_day[date] = count_tweets_per_day[date] + 1\\n      else:\\n        count_tweets_per_day[date] = 1\\n    return count_tweets_per_day\\n\""
            ]
          },
          "metadata": {
            "tags": []
          },
          "execution_count": 65
        }
      ]
    },
    {
      "cell_type": "code",
      "metadata": {
        "id": "8O12g0kXQGP5",
        "colab": {
          "base_uri": "https://localhost:8080/",
          "height": 0
        },
        "outputId": "28a81fe8-7fc6-4bbd-d694-9d812b970eb9"
      },
      "source": [
        "'''\r\n",
        "# calculates original distribution in order to take 15,000 tweets.\r\n",
        "limit_number = 15000\r\n",
        "total_biden_tweets = sum(count_tweets_per_day.values())\r\n",
        "normelized_paramter = limit_number/total_biden_tweets\r\n",
        "count_tweets_per_day = count_daily_tweets()\r\n",
        "for day in count_tweets_per_day:\r\n",
        "  count_tweets_per_day[day] = int(count_tweets_per_day[day] * normelized_paramter)\r\n",
        "  total_biden_tweets = sum(count_tweets_per_day.values()) \r\n",
        "  for day in count_tweets_per_day:\r\n",
        "      if total_biden_tweets < limit_number:\r\n",
        "          count_tweets_per_day[day] = count_tweets_per_day[day] + 1\r\n",
        "          total_biden_tweets = sum(count_tweets_per_day.values())\r\n",
        "  print(count_tweets_per_day)\r\n",
        "\r\n",
        "print(total_biden_tweets)            \r\n",
        "print(count_tweets_per_day) \r\n",
        "'''"
      ],
      "execution_count": 66,
      "outputs": [
        {
          "output_type": "execute_result",
          "data": {
            "application/vnd.google.colaboratory.intrinsic+json": {
              "type": "string"
            },
            "text/plain": [
              "'\\n# calculates original distribution in order to take 15,000 tweets.\\nlimit_number = 15000\\ntotal_biden_tweets = sum(count_tweets_per_day.values())\\nnormelized_paramter = limit_number/total_biden_tweets\\ncount_tweets_per_day = count_daily_tweets()\\nfor day in count_tweets_per_day:\\n  count_tweets_per_day[day] = int(count_tweets_per_day[day] * normelized_paramter)\\n  total_biden_tweets = sum(count_tweets_per_day.values()) \\n  for day in count_tweets_per_day:\\n      if total_biden_tweets < limit_number:\\n          count_tweets_per_day[day] = count_tweets_per_day[day] + 1\\n          total_biden_tweets = sum(count_tweets_per_day.values())\\n  print(count_tweets_per_day)\\n\\nprint(total_biden_tweets)            \\nprint(count_tweets_per_day) \\n'"
            ]
          },
          "metadata": {
            "tags": []
          },
          "execution_count": 66
        }
      ]
    },
    {
      "cell_type": "code",
      "metadata": {
        "id": "39-NIvMbJkxq",
        "colab": {
          "base_uri": "https://localhost:8080/",
          "height": 0
        },
        "outputId": "019fbdd2-a08e-40b5-f400-89bb8503e900"
      },
      "source": [
        "'''\r\n",
        "# takes only 15,000 tweets according to the original distribution - takes all tweets with emojis \r\n",
        "collected_tweets = pd.DataFrame()\r\n",
        "for day in count_tweets_per_day:\r\n",
        "    emoji_df = tweetsDf[(tweetsDf.date == day) & ((tweetsDf.target == 1) | (tweetsDf.target == 0))][:] \r\n",
        "    day_df = tweetsDf[(tweetsDf.date == day) & (tweetsDf.target == -1)][:(count_tweets_per_day[day]-emoji_df.shape[0])] \r\n",
        "    collected_tweets = pd.concat([collected_tweets, day_df, emoji_df]).reset_index(drop = True) # concatenation\r\n",
        "collected_tweets.to_csv(\"Collected Tweets.csv\", index=False)\r\n",
        "'''"
      ],
      "execution_count": 67,
      "outputs": [
        {
          "output_type": "execute_result",
          "data": {
            "application/vnd.google.colaboratory.intrinsic+json": {
              "type": "string"
            },
            "text/plain": [
              "'\\n# takes only 15,000 tweets according to the original distribution - takes all tweets with emojis \\ncollected_tweets = pd.DataFrame()\\nfor day in count_tweets_per_day:\\n    emoji_df = tweetsDf[(tweetsDf.date == day) & ((tweetsDf.target == 1) | (tweetsDf.target == 0))][:] \\n    day_df = tweetsDf[(tweetsDf.date == day) & (tweetsDf.target == -1)][:(count_tweets_per_day[day]-emoji_df.shape[0])] \\n    collected_tweets = pd.concat([collected_tweets, day_df, emoji_df]).reset_index(drop = True) # concatenation\\ncollected_tweets.to_csv(\"Collected Tweets.csv\", index=False)\\n'"
            ]
          },
          "metadata": {
            "tags": []
          },
          "execution_count": 67
        }
      ]
    },
    {
      "cell_type": "markdown",
      "metadata": {
        "id": "AqYdSlXk5NoH"
      },
      "source": [
        "### Import Tweets to Dataframe"
      ]
    },
    {
      "cell_type": "code",
      "metadata": {
        "colab": {
          "base_uri": "https://localhost:8080/",
          "height": 405
        },
        "id": "JkxmgeLhJQuR",
        "outputId": "be209fa7-4d83-4242-d4eb-5fc1c5e30cc0"
      },
      "source": [
        "# import tweets from collected tweets dataset - has no duplicates\r\n",
        "tweetsDf = pd.read_csv(tweets_path)\r\n",
        "tweetsDf['date'] = pd.to_datetime(tweetsDf['date'])\r\n",
        "tweetsDf"
      ],
      "execution_count": 68,
      "outputs": [
        {
          "output_type": "execute_result",
          "data": {
            "text/html": [
              "<div>\n",
              "<style scoped>\n",
              "    .dataframe tbody tr th:only-of-type {\n",
              "        vertical-align: middle;\n",
              "    }\n",
              "\n",
              "    .dataframe tbody tr th {\n",
              "        vertical-align: top;\n",
              "    }\n",
              "\n",
              "    .dataframe thead th {\n",
              "        text-align: right;\n",
              "    }\n",
              "</style>\n",
              "<table border=\"1\" class=\"dataframe\">\n",
              "  <thead>\n",
              "    <tr style=\"text-align: right;\">\n",
              "      <th></th>\n",
              "      <th>date</th>\n",
              "      <th>hour</th>\n",
              "      <th>text</th>\n",
              "    </tr>\n",
              "  </thead>\n",
              "  <tbody>\n",
              "    <tr>\n",
              "      <th>0</th>\n",
              "      <td>2021-02-06</td>\n",
              "      <td>18:00:00</td>\n",
              "      <td>174 organizations and businesses urge Biden to...</td>\n",
              "    </tr>\n",
              "    <tr>\n",
              "      <th>1</th>\n",
              "      <td>2021-02-06</td>\n",
              "      <td>18:00:00</td>\n",
              "      <td>Sign the card now to let President Joe Biden a...</td>\n",
              "    </tr>\n",
              "    <tr>\n",
              "      <th>2</th>\n",
              "      <td>2021-02-06</td>\n",
              "      <td>18:00:01</td>\n",
              "      <td>@mtgreenee @JoeBiden Ukraine receiving aid had...</td>\n",
              "    </tr>\n",
              "    <tr>\n",
              "      <th>3</th>\n",
              "      <td>2021-02-06</td>\n",
              "      <td>18:00:01</td>\n",
              "      <td>President Joe Biden took office last month wit...</td>\n",
              "    </tr>\n",
              "    <tr>\n",
              "      <th>4</th>\n",
              "      <td>2021-02-06</td>\n",
              "      <td>18:00:01</td>\n",
              "      <td>Joe Biden’s calls for unity are disingenuous. ...</td>\n",
              "    </tr>\n",
              "    <tr>\n",
              "      <th>...</th>\n",
              "      <td>...</td>\n",
              "      <td>...</td>\n",
              "      <td>...</td>\n",
              "    </tr>\n",
              "    <tr>\n",
              "      <th>14995</th>\n",
              "      <td>2021-02-12</td>\n",
              "      <td>18:57:49</td>\n",
              "      <td>You didn’t mention the biggest issue facing al...</td>\n",
              "    </tr>\n",
              "    <tr>\n",
              "      <th>14996</th>\n",
              "      <td>2021-02-12</td>\n",
              "      <td>18:58:06</td>\n",
              "      <td>@donie @VanityFair We expect and deserve a hig...</td>\n",
              "    </tr>\n",
              "    <tr>\n",
              "      <th>14997</th>\n",
              "      <td>2021-02-12</td>\n",
              "      <td>18:58:12</td>\n",
              "      <td>@Kaychaz8 @AnonRats @UnknownSoldier @drjasonni...</td>\n",
              "    </tr>\n",
              "    <tr>\n",
              "      <th>14998</th>\n",
              "      <td>2021-02-12</td>\n",
              "      <td>18:59:01</td>\n",
              "      <td>@CeciliaBeverley @a_leigh_n @SenRonJohnson @Jo...</td>\n",
              "    </tr>\n",
              "    <tr>\n",
              "      <th>14999</th>\n",
              "      <td>2021-02-12</td>\n",
              "      <td>18:59:33</td>\n",
              "      <td>@UN_HRC @MayWongCNA Cancel Myint Thu\\nMyint Th...</td>\n",
              "    </tr>\n",
              "  </tbody>\n",
              "</table>\n",
              "<p>15000 rows × 3 columns</p>\n",
              "</div>"
            ],
            "text/plain": [
              "            date      hour                                               text\n",
              "0     2021-02-06  18:00:00  174 organizations and businesses urge Biden to...\n",
              "1     2021-02-06  18:00:00  Sign the card now to let President Joe Biden a...\n",
              "2     2021-02-06  18:00:01  @mtgreenee @JoeBiden Ukraine receiving aid had...\n",
              "3     2021-02-06  18:00:01  President Joe Biden took office last month wit...\n",
              "4     2021-02-06  18:00:01  Joe Biden’s calls for unity are disingenuous. ...\n",
              "...          ...       ...                                                ...\n",
              "14995 2021-02-12  18:57:49  You didn’t mention the biggest issue facing al...\n",
              "14996 2021-02-12  18:58:06  @donie @VanityFair We expect and deserve a hig...\n",
              "14997 2021-02-12  18:58:12  @Kaychaz8 @AnonRats @UnknownSoldier @drjasonni...\n",
              "14998 2021-02-12  18:59:01  @CeciliaBeverley @a_leigh_n @SenRonJohnson @Jo...\n",
              "14999 2021-02-12  18:59:33  @UN_HRC @MayWongCNA Cancel Myint Thu\\nMyint Th...\n",
              "\n",
              "[15000 rows x 3 columns]"
            ]
          },
          "metadata": {
            "tags": []
          },
          "execution_count": 68
        }
      ]
    },
    {
      "cell_type": "markdown",
      "metadata": {
        "id": "QriDNesBQBE9"
      },
      "source": [
        "### Pre processing\r\n"
      ]
    },
    {
      "cell_type": "code",
      "metadata": {
        "colab": {
          "base_uri": "https://localhost:8080/",
          "height": 405
        },
        "id": "lJ_euz9JBmIw",
        "outputId": "b4979cda-941d-4d42-8f68-d2428b2042af"
      },
      "source": [
        "# pre process the data \r\n",
        "tweetsDf_copy = tweetsDf.copy()\r\n",
        "pre_processing(tweetsDf_copy)\r\n",
        "tweetsDf_copy"
      ],
      "execution_count": 69,
      "outputs": [
        {
          "output_type": "execute_result",
          "data": {
            "text/html": [
              "<div>\n",
              "<style scoped>\n",
              "    .dataframe tbody tr th:only-of-type {\n",
              "        vertical-align: middle;\n",
              "    }\n",
              "\n",
              "    .dataframe tbody tr th {\n",
              "        vertical-align: top;\n",
              "    }\n",
              "\n",
              "    .dataframe thead th {\n",
              "        text-align: right;\n",
              "    }\n",
              "</style>\n",
              "<table border=\"1\" class=\"dataframe\">\n",
              "  <thead>\n",
              "    <tr style=\"text-align: right;\">\n",
              "      <th></th>\n",
              "      <th>date</th>\n",
              "      <th>hour</th>\n",
              "      <th>text</th>\n",
              "    </tr>\n",
              "  </thead>\n",
              "  <tbody>\n",
              "    <tr>\n",
              "      <th>0</th>\n",
              "      <td>2021-02-06</td>\n",
              "      <td>18:00:00</td>\n",
              "      <td>[organ, busi, urg, biden, cancel, immigr, ban]</td>\n",
              "    </tr>\n",
              "    <tr>\n",
              "      <th>1</th>\n",
              "      <td>2021-02-06</td>\n",
              "      <td>18:00:00</td>\n",
              "      <td>[sign, card, let, presid, joe, biden, vice, pr...</td>\n",
              "    </tr>\n",
              "    <tr>\n",
              "      <th>2</th>\n",
              "      <td>2021-02-06</td>\n",
              "      <td>18:00:01</td>\n",
              "      <td>[ukrain, receiv, aid, prereq, met, part, obama...</td>\n",
              "    </tr>\n",
              "    <tr>\n",
              "      <th>3</th>\n",
              "      <td>2021-02-06</td>\n",
              "      <td>18:00:01</td>\n",
              "      <td>[presid, joe, biden, took, offic, last, month,...</td>\n",
              "    </tr>\n",
              "    <tr>\n",
              "      <th>4</th>\n",
              "      <td>2021-02-06</td>\n",
              "      <td>18:00:01</td>\n",
              "      <td>[joe, biden, call, uniti, disingenu, execut, o...</td>\n",
              "    </tr>\n",
              "    <tr>\n",
              "      <th>...</th>\n",
              "      <td>...</td>\n",
              "      <td>...</td>\n",
              "      <td>...</td>\n",
              "    </tr>\n",
              "    <tr>\n",
              "      <th>14995</th>\n",
              "      <td>2021-02-12</td>\n",
              "      <td>18:57:49</td>\n",
              "      <td>[mention, biggest, issu, face, climat, chang, ...</td>\n",
              "    </tr>\n",
              "    <tr>\n",
              "      <th>14996</th>\n",
              "      <td>2021-02-12</td>\n",
              "      <td>18:58:06</td>\n",
              "      <td>[expect, deserv, higher, standard, joe, biden,...</td>\n",
              "    </tr>\n",
              "    <tr>\n",
              "      <th>14997</th>\n",
              "      <td>2021-02-12</td>\n",
              "      <td>18:58:12</td>\n",
              "      <td>[would, shoot, cong]</td>\n",
              "    </tr>\n",
              "    <tr>\n",
              "      <th>14998</th>\n",
              "      <td>2021-02-12</td>\n",
              "      <td>18:59:01</td>\n",
              "      <td>[explain, exact, antifa]</td>\n",
              "    </tr>\n",
              "    <tr>\n",
              "      <th>14999</th>\n",
              "      <td>2021-02-12</td>\n",
              "      <td>18:59:33</td>\n",
              "      <td>[cancel, myint, thu, myint, thu, longer, ambas...</td>\n",
              "    </tr>\n",
              "  </tbody>\n",
              "</table>\n",
              "<p>15000 rows × 3 columns</p>\n",
              "</div>"
            ],
            "text/plain": [
              "            date      hour                                               text\n",
              "0     2021-02-06  18:00:00     [organ, busi, urg, biden, cancel, immigr, ban]\n",
              "1     2021-02-06  18:00:00  [sign, card, let, presid, joe, biden, vice, pr...\n",
              "2     2021-02-06  18:00:01  [ukrain, receiv, aid, prereq, met, part, obama...\n",
              "3     2021-02-06  18:00:01  [presid, joe, biden, took, offic, last, month,...\n",
              "4     2021-02-06  18:00:01  [joe, biden, call, uniti, disingenu, execut, o...\n",
              "...          ...       ...                                                ...\n",
              "14995 2021-02-12  18:57:49  [mention, biggest, issu, face, climat, chang, ...\n",
              "14996 2021-02-12  18:58:06  [expect, deserv, higher, standard, joe, biden,...\n",
              "14997 2021-02-12  18:58:12                               [would, shoot, cong]\n",
              "14998 2021-02-12  18:59:01                           [explain, exact, antifa]\n",
              "14999 2021-02-12  18:59:33  [cancel, myint, thu, myint, thu, longer, ambas...\n",
              "\n",
              "[15000 rows x 3 columns]"
            ]
          },
          "metadata": {
            "tags": []
          },
          "execution_count": 69
        }
      ]
    },
    {
      "cell_type": "markdown",
      "metadata": {
        "id": "LHpc6yjxQLKO"
      },
      "source": [
        "### Sentiment Classification"
      ]
    },
    {
      "cell_type": "markdown",
      "metadata": {
        "id": "3Cts-wtqo-WI"
      },
      "source": [
        "##### Classification by Emoticons"
      ]
    },
    {
      "cell_type": "code",
      "metadata": {
        "id": "BEH1Rh5WQNWR"
      },
      "source": [
        "# sets of positive and negative emoticons\r\n",
        "emoticons_positive = set([\r\n",
        "    ':-)', ':)', ';)', ':o)', ':]', ':3', ':c)', ':>', '=]', '8)', '=)', ':}',\r\n",
        "    ':^)', ':-d', ':d', '8-d', '8d', 'x-d', 'xd', '=-d', '=d',\r\n",
        "    '=-3', '=3', ':-))', \":'-)\", \":')\", ':*', ':^*', '>:p', ':-p', ':p',\r\n",
        "    'x-p', 'xp', ':-p', ':p', '=p', ':-b', ':b', '>:)', '>;)', '>:-)','<3'])\r\n",
        "emoticons_negative = set([\r\n",
        "    ':l', ':-/', '>:/', ':s', '>:[', ':@', ':-(', ':[', ':-||', '=l', ':<',\r\n",
        "    ':-[', ':-<', '=\\\\', '=/', '>:(', ':(', '>.<', \":'-(\", \":'(\", ':\\\\', ':-c',\r\n",
        "    ':c', ':{', '>:\\\\', ';(', ':-('])"
      ],
      "execution_count": 70,
      "outputs": []
    },
    {
      "cell_type": "code",
      "metadata": {
        "id": "nKOLadQwkEhd"
      },
      "source": [
        "# check if tweet has positive or negative emoticons\r\n",
        "def check_emoticons(row):\r\n",
        "  pos_emoticons = 0\r\n",
        "  neg_emoticons = 0\r\n",
        "  for word in row:\r\n",
        "    if word in emoticons_negative:\r\n",
        "      neg_emoticons = neg_emoticons + 1\r\n",
        "      break\r\n",
        "    if word in emoticons_positive:\r\n",
        "      pos_emoticons = pos_emoticons + 1\r\n",
        "      break\r\n",
        "      \r\n",
        "  if pos_emoticons > neg_emoticons:\r\n",
        "      return 1\r\n",
        "  elif pos_emoticons < neg_emoticons:\r\n",
        "      return 0\r\n",
        "  else:\r\n",
        "      return -1"
      ],
      "execution_count": 71,
      "outputs": []
    },
    {
      "cell_type": "code",
      "metadata": {
        "colab": {
          "base_uri": "https://localhost:8080/"
        },
        "id": "15vK9u9lMuQ1",
        "outputId": "5123f868-1f93-4713-ac55-8d5ed3e94f0f"
      },
      "source": [
        "tweetsDf_copy['target'] = -1 # initialize serntiments to -1\r\n",
        "tweetsDf_copy['target'] = tweetsDf_copy['text'].apply(check_emoticons)\r\n",
        "print(f\"Num of positive tweets {len(tweetsDf_copy.loc[tweetsDf_copy['target'] == 1])}\")\r\n",
        "print(f\"Num of negative tweets {len(tweetsDf_copy.loc[tweetsDf_copy['target'] == 0])}\")\r\n",
        "print(f\"Num of natural tweets {len(tweetsDf_copy.loc[tweetsDf_copy['target'] == -1])}\")"
      ],
      "execution_count": 72,
      "outputs": [
        {
          "output_type": "stream",
          "text": [
            "Num of positive tweets 20\n",
            "Num of negative tweets 3\n",
            "Num of natural tweets 14977\n"
          ],
          "name": "stdout"
        }
      ]
    },
    {
      "cell_type": "markdown",
      "metadata": {
        "id": "XtPuaZ18pTp1"
      },
      "source": [
        "##### Classification by Neg and Pos Words"
      ]
    },
    {
      "cell_type": "code",
      "metadata": {
        "id": "UJvwkKbfpZ7O"
      },
      "source": [
        "# word dictionaries of positive and negative words \r\n",
        "negative_words = {'2-faced', '2-faces', 'abnormal', 'abolish', 'abominable', 'abominably', 'abominate', 'abomination', 'abort', 'aborted', 'aborts', 'abrade', 'abrasive', 'abrupt', 'abruptly', 'abscond', 'absence', 'absent-minded', 'absentee', 'absurd', 'absurdity', 'absurdly', 'absurdness', 'abuse', 'abused', 'abuses', 'abusive', 'abysmal', 'abysmally', 'abyss', 'accidental', 'accost', 'accursed', 'accusation', 'accusations', 'accuse', 'accuses', 'accusing', 'accusingly', 'acerbate', 'acerbic', 'acerbically', 'ache', 'ached', 'aches', 'achey', 'aching', 'acrid', 'acridly', 'acridness', 'acrimonious', 'acrimoniously', 'acrimony', 'adamant', 'adamantly', 'addict', 'addicted', 'addicting', 'addicts', 'admonish', 'admonisher', 'admonishingly', 'admonishment', 'admonition', 'adulterate', 'adulterated', 'adulteration', 'adulterier', 'adversarial', 'adversary', 'adverse', 'adversity', 'afflict', 'affliction', 'afflictive', 'affront', 'afraid', 'aggravate', 'aggravating', 'aggravation', 'aggression', 'aggressive', 'aggressiveness', 'aggressor', 'aggrieve', 'aggrieved', 'aggrivation', 'aghast', 'agonies', 'agonize', 'agonizing', 'agonizingly', 'agony', 'aground', 'ail', 'ailing', 'ailment', 'aimless', 'alarm', 'alarmed', 'alarming', 'alarmingly', 'alienate', 'alienated', 'alienation', 'allegation', 'allegations', 'allege', 'allergic', 'allergies', 'allergy', 'aloof', 'altercation', 'ambiguity', 'ambiguous', 'ambivalence', 'ambivalent', 'ambush', 'amiss', 'amputate', 'anarchism', 'anarchist', 'anarchistic', 'anarchy', 'anemic', 'anger', 'angrily', 'angriness', 'angry', 'anguish', 'animosity', 'annihilate', 'annihilation', 'annoy', 'annoyance', 'annoyances', 'annoyed', 'annoying', 'annoyingly', 'annoys', 'anomalous', 'anomaly', 'antagonism', 'antagonist', 'antagonistic', 'antagonize', 'anti-', 'anti-american', 'anti-israeli', 'anti-occupation', 'anti-proliferation', 'anti-semites', 'anti-social', 'anti-us', 'anti-white', 'antipathy', 'antiquated', 'antithetical', 'anxieties', 'anxiety', 'anxious', 'anxiously', 'anxiousness', 'apathetic', 'apathetically', 'apathy', 'apocalypse', 'apocalyptic', 'apologist', 'apologists', 'appal', 'appall', 'appalled', 'appalling', 'appallingly', 'apprehension', 'apprehensions', 'apprehensive', 'apprehensively', 'arbitrary', 'arcane', 'archaic', 'arduous', 'arduously', 'argumentative', 'arrogance', 'arrogant', 'arrogantly', 'ashamed', 'asinine', 'asininely', 'asinininity', 'askance', 'asperse', 'aspersion', 'aspersions', 'assail', 'assassin', 'assassinate', 'assault', 'assult', 'astray', 'asunder', 'atrocious', 'atrocities', 'atrocity', 'atrophy', 'attack', 'attacks', 'audacious', 'audaciously', 'audaciousness', 'audacity', 'audiciously', 'austere', 'authoritarian', 'autocrat', 'autocratic', 'avalanche', 'avarice', 'avaricious', 'avariciously', 'avenge', 'averse', 'aversion', 'aweful', 'awful', 'awfully', 'awfulness', 'awkward', 'awkwardness', 'ax', 'babble', 'back-logged', 'back-wood', 'back-woods', 'backache', 'backaches', 'backaching', 'backbite', 'backbiting', 'backward', 'backwardness', 'backwood', 'backwoods', 'bad', 'badly', 'baffle', 'baffled', 'bafflement', 'baffling', 'bait', 'balk', 'banal', 'banalize', 'bane', 'banish', 'banishment', 'bankrupt', 'barbarian', 'barbaric', 'barbarically', 'barbarity', 'barbarous', 'barbarously', 'barren', 'baseless', 'bash', 'bashed', 'bashful', 'bashing', 'bastard', 'bastards', 'battered', 'battering', 'batty', 'bearish', 'beastly', 'bedlam', 'bedlamite', 'befoul', 'beg', 'beggar', 'beggarly', 'begging', 'beguile', 'belabor', 'belated', 'beleaguer', 'belie', 'belittle', 'belittled', 'belittling', 'bellicose', 'belligerence', 'belligerent', 'belligerently', 'bemoan', 'bemoaning', 'bemused', 'bent', 'berate', 'bereave', 'bereavement', 'bereft', 'berserk', 'beseech', 'beset', 'besiege', 'besmirch', 'bestial', 'betray', 'betrayal', 'betrayals', 'betrayer', 'betraying', 'betrays', 'bewail', 'beware', 'bewilder', 'bewildered', 'bewildering', 'bewilderingly', 'bewilderment', 'bewitch', 'bias', 'biased', 'biases', 'bicker', 'bickering', 'bid-rigging', 'bigotries', 'bigotry', 'bitch', 'bitchy', 'biting', 'bitingly', 'bitter', 'bitterly', 'bitterness', 'bizarre', 'blab', 'blabber', 'blackmail', 'blah', 'blame', 'blameworthy', 'bland', 'blandish', 'blaspheme', 'blasphemous', 'blasphemy', 'blasted', 'blatant', 'blatantly', 'blather', 'bleak', 'bleakly', 'bleakness', 'bleed', 'bleeding', 'bleeds', 'blemish', 'blind', 'blinding', 'blindingly', 'blindside', 'blister', 'blistering', 'bloated', 'blockage', 'blockhead', 'bloodshed', 'bloodthirsty', 'bloody', 'blotchy', 'blow', 'blunder', 'blundering', 'blunders', 'blunt', 'blur', 'bluring', 'blurred', 'blurring', 'blurry', 'blurs', 'blurt', 'boastful', 'boggle', 'bogus', 'boil', 'boiling', 'boisterous', 'bomb', 'bombard', 'bombardment', 'bombastic', 'bondage', 'bonkers', 'bore', 'bored', 'boredom', 'bores', 'boring', 'botch', 'bother', 'bothered', 'bothering', 'bothers', 'bothersome', 'bowdlerize', 'boycott', 'braggart', 'bragger', 'brainless', 'brainwash', 'brash', 'brashly', 'brashness', 'brat', 'bravado', 'brazen', 'brazenly', 'brazenness', 'breach', 'break', 'break-up', 'break-ups', 'breakdown', 'breaking', 'breaks', 'breakup', 'breakups', 'bribery', 'brimstone', 'bristle', 'brittle', 'broke', 'broken', 'broken-hearted', 'brood', 'browbeat', 'bruise', 'bruised', 'bruises', 'bruising', 'brusque', 'brutal', 'brutalising', 'brutalities', 'brutality', 'brutalize', 'brutalizing', 'brutally', 'brute', 'brutish', 'bs', 'buckle', 'bug', 'bugging', 'buggy', 'bugs', 'bulkier', 'bulkiness', 'bulky', 'bulkyness', 'bull****', 'bull----', 'bullies', 'bullshit', 'bullshyt', 'bully', 'bullying', 'bullyingly', 'bum', 'bump', 'bumped', 'bumping', 'bumpping', 'bumps', 'bumpy', 'bungle', 'bungler', 'bungling', 'bunk', 'burden', 'burdensome', 'burdensomely', 'burn', 'burned', 'burning', 'burns', 'bust', 'busts', 'busybody', 'butcher', 'butchery', 'buzzing', 'byzantine', 'cackle', 'calamities', 'calamitous', 'calamitously', 'calamity', 'callous', 'calumniate', 'calumniation', 'calumnies', 'calumnious', 'calumniously', 'calumny', 'cancer', 'cancerous', 'cannibal', 'cannibalize', 'capitulate', 'capricious', 'capriciously', 'capriciousness', 'capsize', 'careless', 'carelessness', 'caricature', 'carnage', 'carp', 'cartoonish', 'cash-strapped', 'castigate', 'castrated', 'casualty', 'cataclysm', 'cataclysmal', 'cataclysmic', 'cataclysmically', 'catastrophe', 'catastrophes', 'catastrophic', 'catastrophically', 'catastrophies', 'caustic', 'caustically', 'cautionary', 'cave', 'censure', 'chafe', 'chaff', 'chagrin', 'challenging', 'chaos', 'chaotic', 'chasten', 'chastise', 'chastisement', 'chatter', 'chatterbox', 'cheap', 'cheapen', 'cheaply', 'cheat', 'cheated', 'cheater', 'cheating', 'cheats', 'checkered', 'cheerless', 'cheesy', 'chide', 'childish', 'chill', 'chilly', 'chintzy', 'choke', 'choleric', 'choppy', 'chore', 'chronic', 'chunky', 'clamor', 'clamorous', 'clash', 'cliche', 'cliched', 'clique', 'clog', 'clogged', 'clogs', 'cloud', 'clouding', 'cloudy', 'clueless', 'clumsy', 'clunky', 'coarse', 'cocky', 'coerce', 'coercion', 'coercive', 'cold', 'coldly', 'collapse', 'collude', 'collusion', 'combative', 'combust', 'comical', 'commiserate', 'commonplace', 'commotion', 'commotions', 'complacent', 'complain', 'complained', 'complaining', 'complains', 'complaint', 'complaints', 'complex', 'complicated', 'complication', 'complicit', 'compulsion', 'compulsive', 'concede', 'conceded', 'conceit', 'conceited', 'concen', 'concens', 'concern', 'concerned', 'concerns', 'concession', 'concessions', 'condemn', 'condemnable', 'condemnation', 'condemned', 'condemns', 'condescend', 'condescending', 'condescendingly', 'condescension', 'confess', 'confession', 'confessions', 'confined', 'conflict', 'conflicted', 'conflicting', 'conflicts', 'confound', 'confounded', 'confounding', 'confront', 'confrontation', 'confrontational', 'confuse', 'confused', 'confuses', 'confusing', 'confusion', 'confusions', 'congested', 'congestion', 'cons', 'conscons', 'conservative', 'conspicuous', 'conspicuously', 'conspiracies', 'conspiracy', 'conspirator', 'conspiratorial', 'conspire', 'consternation', 'contagious', 'contaminate', 'contaminated', 'contaminates', 'contaminating', 'contamination', 'contempt', 'contemptible', 'contemptuous', 'contemptuously', 'contend', 'contention', 'contentious', 'contort', 'contortions', 'contradict', 'contradiction', 'contradictory', 'contrariness', 'contravene', 'contrive', 'contrived', 'controversial', 'controversy', 'convoluted', 'corrode', 'corrosion', 'corrosions', 'corrosive', 'corrupt', 'corrupted', 'corrupting', 'corruption', 'corrupts', 'corruptted', 'costlier', 'costly', 'counter-productive', 'counterproductive', 'coupists', 'covetous', 'coward', 'cowardly', 'crabby', 'crack', 'cracked', 'cracks', 'craftily', 'craftly', 'crafty', 'cramp', 'cramped', 'cramping', 'cranky', 'crap', 'crappy', 'craps', 'crash', 'crashed', 'crashes', 'crashing', 'crass', 'craven', 'cravenly', 'craze', 'crazily', 'craziness', 'crazy', 'creak', 'creaking', 'creaks', 'credulous', 'creep', 'creeping', 'creeps', 'creepy', 'crept', 'crime', 'criminal', 'cringe', 'cringed', 'cringes', 'cripple', 'crippled', 'cripples', 'crippling', 'crisis', 'critic', 'critical', 'criticism', 'criticisms', 'criticize', 'criticized', 'criticizing', 'critics', 'cronyism', 'crook', 'crooked', 'crooks', 'crowded', 'crowdedness', 'crude', 'cruel', 'crueler', 'cruelest', 'cruelly', 'cruelness', 'cruelties', 'cruelty', 'crumble', 'crumbling', 'crummy', 'crumple', 'crumpled', 'crumples', 'crush', 'crushed', 'crushing', 'cry', 'culpable', 'culprit', 'cumbersome', 'cunt', 'cunts', 'cuplrit', 'curse', 'cursed', 'curses', 'curt', 'cuss', 'cussed', 'cutthroat', 'cynical', 'cynicism', 'd*mn', 'damage', 'damaged', 'damages', 'damaging', 'damn', 'damnable', 'damnably', 'damnation', 'damned', 'damning', 'damper', 'danger', 'dangerous', 'dangerousness', 'dark', 'darken', 'darkened', 'darker', 'darkness', 'dastard', 'dastardly', 'daunt', 'daunting', 'dauntingly', 'dawdle', 'daze', 'dazed', 'dead', 'deadbeat', 'deadlock', 'deadly', 'deadweight', 'deaf', 'dearth', 'death', 'debacle', 'debase', 'debasement', 'debaser', 'debatable', 'debauch', 'debaucher', 'debauchery', 'debilitate', 'debilitating', 'debility', 'debt', 'debts', 'decadence', 'decadent', 'decay', 'decayed', 'deceit', 'deceitful', 'deceitfully', 'deceitfulness', 'deceive', 'deceiver', 'deceivers', 'deceiving', 'deception', 'deceptive', 'deceptively', 'declaim', 'decline', 'declines', 'declining', 'decrement', 'decrepit', 'decrepitude', 'decry', 'defamation', 'defamations', 'defamatory', 'defame', 'defect', 'defective', 'defects', 'defensive', 'defiance', 'defiant', 'defiantly', 'deficiencies', 'deficiency', 'deficient', 'defile', 'defiler', 'deform', 'deformed', 'defrauding', 'defunct', 'defy', 'degenerate', 'degenerately', 'degeneration', 'degradation', 'degrade', 'degrading', 'degradingly', 'dehumanization', 'dehumanize', 'deign', 'deject', 'dejected', 'dejectedly', 'dejection', 'delay', 'delayed', 'delaying', 'delays', 'delinquency', 'delinquent', 'delirious', 'delirium', 'delude', 'deluded', 'deluge', 'delusion', 'delusional', 'delusions', 'demean', 'demeaning', 'demise', 'demolish', 'demolisher', 'demon', 'demonic', 'demonize', 'demonized', 'demonizes', 'demonizing', 'demoralize', 'demoralizing', 'demoralizingly', 'denial', 'denied', 'denies', 'denigrate', 'denounce', 'dense', 'dent', 'dented', 'dents', 'denunciate', 'denunciation', 'denunciations', 'deny', 'denying', 'deplete', 'deplorable', 'deplorably', 'deplore', 'deploring', 'deploringly', 'deprave', 'depraved', 'depravedly', 'deprecate', 'depress', 'depressed', 'depressing', 'depressingly', 'depression', 'depressions', 'deprive', 'deprived', 'deride', 'derision', 'derisive', 'derisively', 'derisiveness', 'derogatory', 'desecrate', 'desert', 'desertion', 'desiccate', 'desiccated', 'desititute', 'desolate', 'desolately', 'desolation', 'despair', 'despairing', 'despairingly', 'desperate', 'desperately', 'desperation', 'despicable', 'despicably', 'despise', 'despised', 'despoil', 'despoiler', 'despondence', 'despondency', 'despondent', 'despondently', 'despot', 'despotic', 'despotism', 'destabilisation', 'destains', 'destitute', 'destitution', 'destroy', 'destroyer', 'destruction', 'destructive', 'desultory', 'deter', 'deteriorate', 'deteriorating', 'deterioration', 'deterrent', 'detest', 'detestable', 'detestably', 'detested', 'detesting', 'detests', 'detract', 'detracted', 'detracting', 'detraction', 'detracts', 'detriment', 'detrimental', 'devastate', 'devastated', 'devastates', 'devastating', 'devastatingly', 'devastation', 'deviate', 'deviation', 'devil', 'devilish', 'devilishly', 'devilment', 'devilry', 'devious', 'deviously', 'deviousness', 'devoid', 'diabolic', 'diabolical', 'diabolically', 'diametrically', 'diappointed', 'diatribe', 'diatribes', 'dick', 'dictator', 'dictatorial', 'die', 'die-hard', 'died', 'dies', 'difficult', 'difficulties', 'difficulty', 'diffidence', 'dilapidated', 'dilemma', 'dilly-dally', 'dim', 'dimmer', 'din', 'ding', 'dings', 'dinky', 'dire', 'direly', 'direness', 'dirt', 'dirtbag', 'dirtbags', 'dirts', 'dirty', 'disable', 'disabled', 'disaccord', 'disadvantage', 'disadvantaged', 'disadvantageous', 'disadvantages', 'disaffect', 'disaffected', 'disaffirm', 'disagree', 'disagreeable', 'disagreeably', 'disagreed', 'disagreeing', 'disagreement', 'disagrees', 'disallow', 'disapointed', 'disapointing', 'disapointment', 'disappoint', 'disappointed', 'disappointing', 'disappointingly', 'disappointment', 'disappointments', 'disappoints', 'disapprobation', 'disapproval', 'disapprove', 'disapproving', 'disarm', 'disarray', 'disaster', 'disasterous', 'disastrous', 'disastrously', 'disavow', 'disavowal', 'disbelief', 'disbelieve', 'disbeliever', 'disclaim', 'discombobulate', 'discomfit', 'discomfititure', 'discomfort', 'discompose', 'disconcert', 'disconcerted', 'disconcerting', 'disconcertingly', 'disconsolate', 'disconsolately', 'disconsolation', 'discontent', 'discontented', 'discontentedly', 'discontinued', 'discontinuity', 'discontinuous', 'discord', 'discordance', 'discordant', 'discountenance', 'discourage', 'discouragement', 'discouraging', 'discouragingly', 'discourteous', 'discourteously', 'discoutinous', 'discredit', 'discrepant', 'discriminate', 'discrimination', 'discriminatory', 'disdain', 'disdained', 'disdainful', 'disdainfully', 'disfavor', 'disgrace', 'disgraced', 'disgraceful', 'disgracefully', 'disgruntle', 'disgruntled', 'disgust', 'disgusted', 'disgustedly', 'disgustful', 'disgustfully', 'disgusting', 'disgustingly', 'dishearten', 'disheartening', 'dishearteningly', 'dishonest', 'dishonestly', 'dishonesty', 'dishonor', 'dishonorable', 'dishonorablely', 'disillusion', 'disillusioned', 'disillusionment', 'disillusions', 'disinclination', 'disinclined', 'disingenuous', 'disingenuously', 'disintegrate', 'disintegrated', 'disintegrates', 'disintegration', 'disinterest', 'disinterested', 'dislike', 'disliked', 'dislikes', 'disliking', 'dislocated', 'disloyal', 'disloyalty', 'dismal', 'dismally', 'dismalness', 'dismay', 'dismayed', 'dismaying', 'dismayingly', 'dismissive', 'dismissively', 'disobedience', 'disobedient', 'disobey', 'disoobedient', 'disorder', 'disordered', 'disorderly', 'disorganized', 'disorient', 'disoriented', 'disown', 'disparage', 'disparaging', 'disparagingly', 'dispensable', 'dispirit', 'dispirited', 'dispiritedly', 'dispiriting', 'displace', 'displaced', 'displease', 'displeased', 'displeasing', 'displeasure', 'disproportionate', 'disprove', 'disputable', 'dispute', 'disputed', 'disquiet', 'disquieting', 'disquietingly', 'disquietude', 'disregard', 'disregardful', 'disreputable', 'disrepute', 'disrespect', 'disrespectable', 'disrespectablity', 'disrespectful', 'disrespectfully', 'disrespectfulness', 'disrespecting', 'disrupt', 'disruption', 'disruptive', 'diss', 'dissapointed', 'dissappointed', 'dissappointing', 'dissatisfaction', 'dissatisfactory', 'dissatisfied', 'dissatisfies', 'dissatisfy', 'dissatisfying', 'dissed', 'dissemble', 'dissembler', 'dissension', 'dissent', 'dissenter', 'dissention', 'disservice', 'disses', 'dissidence', 'dissident', 'dissidents', 'dissing', 'dissocial', 'dissolute', 'dissolution', 'dissonance', 'dissonant', 'dissonantly', 'dissuade', 'dissuasive', 'distains', 'distaste', 'distasteful', 'distastefully', 'distort', 'distorted', 'distortion', 'distorts', 'distract', 'distracting', 'distraction', 'distraught', 'distraughtly', 'distraughtness', 'distress', 'distressed', 'distressing', 'distressingly', 'distrust', 'distrustful', 'distrusting', 'disturb', 'disturbance', 'disturbed', 'disturbing', 'disturbingly', 'disunity', 'disvalue', 'divergent', 'divisive', 'divisively', 'divisiveness', 'dizzing', 'dizzingly', 'dizzy', 'doddering', 'dodgey', 'dogged', 'doggedly', 'dogmatic', 'doldrums', 'domineer', 'domineering', 'donside', 'doom', 'doomed', 'doomsday', 'dope', 'doubt', 'doubtful', 'doubtfully', 'doubts', 'douchbag', 'douchebag', 'douchebags', 'downbeat', 'downcast', 'downer', 'downfall', 'downfallen', 'downgrade', 'downhearted', 'downheartedly', 'downhill', 'downside', 'downsides', 'downturn', 'downturns', 'drab', 'draconian', 'draconic', 'drag', 'dragged', 'dragging', 'dragoon', 'drags', 'drain', 'drained', 'draining', 'drains', 'drastic', 'drastically', 'drawback', 'drawbacks', 'dread', 'dreadful', 'dreadfully', 'dreadfulness', 'dreary', 'dripped', 'dripping', 'drippy', 'drips', 'drones', 'droop', 'droops', 'drop-out', 'drop-outs', 'dropout', 'dropouts', 'drought', 'drowning', 'drunk', 'drunkard', 'drunken', 'dubious', 'dubiously', 'dubitable', 'dud', 'dull', 'dullard', 'dumb', 'dumbfound', 'dump', 'dumped', 'dumping', 'dumps', 'dunce', 'dungeon', 'dungeons', 'dupe', 'dust', 'dusty', 'dwindling', 'dying', 'earsplitting', 'eccentric', 'eccentricity', 'effigy', 'effrontery', 'egocentric', 'egomania', 'egotism', 'egotistical', 'egotistically', 'egregious', 'egregiously', 'election-rigger', 'elimination', 'emaciated', 'emasculate', 'embarrass', 'embarrassing', 'embarrassingly', 'embarrassment', 'embattled', 'embroil', 'embroiled', 'embroilment', 'emergency', 'emphatic', 'emphatically', 'emptiness', 'encroach', 'encroachment', 'endanger', 'enemies', 'enemy', 'enervate', 'enfeeble', 'enflame', 'engulf', 'enjoin', 'enmity', 'enrage', 'enraged', 'enraging', 'enslave', 'entangle', 'entanglement', 'entrap', 'entrapment', 'envious', 'enviously', 'enviousness', 'epidemic', 'equivocal', 'erase', 'erode', 'erodes', 'erosion', 'err', 'errant', 'erratic', 'erratically', 'erroneous', 'erroneously', 'error', 'errors', 'eruptions', 'escapade', 'eschew', 'estranged', 'evade', 'evasion', 'evasive', 'evil', 'evildoer', 'evils', 'eviscerate', 'exacerbate', 'exagerate', 'exagerated', 'exagerates', 'exaggerate', 'exaggeration', 'exasperate', 'exasperated', 'exasperating', 'exasperatingly', 'exasperation', 'excessive', 'excessively', 'exclusion', 'excoriate', 'excruciating', 'excruciatingly', 'excuse', 'excuses', 'execrate', 'exhaust', 'exhausted', 'exhaustion', 'exhausts', 'exhorbitant', 'exhort', 'exile', 'exorbitant', 'exorbitantance', 'exorbitantly', 'expel', 'expensive', 'expire', 'expired', 'explode', 'exploit', 'exploitation', 'explosive', 'expropriate', 'expropriation', 'expulse', 'expunge', 'exterminate', 'extermination', 'extinguish', 'extort', 'extortion', 'extraneous', 'extravagance', 'extravagant', 'extravagantly', 'extremism', 'extremist', 'extremists', 'eyesore', 'f**k', 'fabricate', 'fabrication', 'facetious', 'facetiously', 'fail', 'failed', 'failing', 'fails', 'failure', 'failures', 'faint', 'fainthearted', 'faithless', 'fake', 'fall', 'fallacies', 'fallacious', 'fallaciously', 'fallaciousness', 'fallacy', 'fallen', 'falling', 'fallout', 'falls', 'false', 'falsehood', 'falsely', 'falsify', 'falter', 'faltered', 'famine', 'famished', 'fanatic', 'fanatical', 'fanatically', 'fanaticism', 'fanatics', 'fanciful', 'far-fetched', 'farce', 'farcical', 'farcical-yet-provocative', 'farcically', 'farfetched', 'fascism', 'fascist', 'fastidious', 'fastidiously', 'fastuous', 'fat', 'fat-cat', 'fat-cats', 'fatal', 'fatalistic', 'fatalistically', 'fatally', 'fatcat', 'fatcats', 'fateful', 'fatefully', 'fathomless', 'fatigue', 'fatigued', 'fatique', 'fatty', 'fatuity', 'fatuous', 'fatuously', 'fault', 'faults', 'faulty', 'fawningly', 'faze', 'fear', 'fearful', 'fearfully', 'fears', 'fearsome', 'feckless', 'feeble', 'feeblely', 'feebleminded', 'feign', 'feint', 'fell', 'felon', 'felonious', 'ferociously', 'ferocity', 'fetid', 'fever', 'feverish', 'fevers', 'fiasco', 'fib', 'fibber', 'fickle', 'fiction', 'fictional', 'fictitious', 'fidget', 'fidgety', 'fiend', 'fiendish', 'fierce', 'figurehead', 'filth', 'filthy', 'finagle', 'finicky', 'fissures', 'fist', 'flabbergast', 'flabbergasted', 'flagging', 'flagrant', 'flagrantly', 'flair', 'flairs', 'flak', 'flake', 'flakey', 'flakieness', 'flaking', 'flaky', 'flare', 'flares', 'flareup', 'flareups', 'flat-out', 'flaunt', 'flaw', 'flawed', 'flaws', 'flee', 'fleed', 'fleeing', 'fleer', 'flees', 'fleeting', 'flicering', 'flicker', 'flickering', 'flickers', 'flighty', 'flimflam', 'flimsy', 'flirt', 'flirty', 'floored', 'flounder', 'floundering', 'flout', 'fluster', 'foe', 'fool', 'fooled', 'foolhardy', 'foolish', 'foolishly', 'foolishness', 'forbid', 'forbidden', 'forbidding', 'forceful', 'foreboding', 'forebodingly', 'forfeit', 'forged', 'forgetful', 'forgetfully', 'forgetfulness', 'forlorn', 'forlornly', 'forsake', 'forsaken', 'forswear', 'foul', 'foully', 'foulness', 'fractious', 'fractiously', 'fracture', 'fragile', 'fragmented', 'frail', 'frantic', 'frantically', 'franticly', 'fraud', 'fraudulent', 'fraught', 'frazzle', 'frazzled', 'freak', 'freaking', 'freakish', 'freakishly', 'freaks', 'freeze', 'freezes', 'freezing', 'frenetic', 'frenetically', 'frenzied', 'frenzy', 'fret', 'fretful', 'frets', 'friction', 'frictions', 'fried', 'friggin', 'frigging', 'fright', 'frighten', 'frightening', 'frighteningly', 'frightful', 'frightfully', 'frigid', 'frost', 'frown', 'froze', 'frozen', 'fruitless', 'fruitlessly', 'frustrate', 'frustrated', 'frustrates', 'frustrating', 'frustratingly', 'frustration', 'frustrations', 'fuck', 'fucking', 'fudge', 'fugitive', 'full-blown', 'fulminate', 'fumble', 'fume', 'fumes', 'fundamentalism', 'funky', 'funnily', 'funny', 'furious', 'furiously', 'furor', 'fury', 'fuss', 'fussy', 'fustigate', 'fusty', 'futile', 'futilely', 'futility', 'fuzzy', 'gabble', 'gaff', 'gaffe', 'gainsay', 'gainsayer', 'gall', 'galling', 'gallingly', 'galls', 'gangster', 'gape', 'garbage', 'garish', 'gasp', 'gauche', 'gaudy', 'gawk', 'gawky', 'geezer', 'genocide', 'get-rich', 'ghastly', 'ghetto', 'ghosting', 'gibber', 'gibberish', 'gibe', 'giddy', 'gimmick', 'gimmicked', 'gimmicking', 'gimmicks', 'gimmicky', 'glare', 'glaringly', 'glib', 'glibly', 'glitch', 'glitches', 'gloatingly', 'gloom', 'gloomy', 'glower', 'glum', 'glut', 'gnawing', 'goad', 'goading', 'god-awful', 'goof', 'goofy', 'goon', 'gossip', 'graceless', 'gracelessly', 'graft', 'grainy', 'grapple', 'grate', 'grating', 'gravely', 'greasy', 'greed', 'greedy', 'grief', 'grievance', 'grievances', 'grieve', 'grieving', 'grievous', 'grievously', 'grim', 'grimace', 'grind', 'gripe', 'gripes', 'grisly', 'gritty', 'gross', 'grossly', 'grotesque', 'grouch', 'grouchy', 'groundless', 'grouse', 'growl', 'grudge', 'grudges', 'grudging', 'grudgingly', 'gruesome', 'gruesomely', 'gruff', 'grumble', 'grumpier', 'grumpiest', 'grumpily', 'grumpish', 'grumpy', 'guile', 'guilt', 'guiltily', 'guilty', 'gullible', 'gutless', 'gutter', 'hack', 'hacks', 'haggard', 'haggle', 'hairloss', 'halfhearted', 'halfheartedly', 'hallucinate', 'hallucination', 'hamper', 'hampered', 'handicapped', 'hang', 'hangs', 'haphazard', 'hapless', 'harangue', 'harass', 'harassed', 'harasses', 'harassment', 'harboring', 'harbors', 'hard', 'hard-hit', 'hard-line', 'hard-liner', 'hardball', 'harden', 'hardened', 'hardheaded', 'hardhearted', 'hardliner', 'hardliners', 'hardship', 'hardships', 'harm', 'harmed', 'harmful', 'harms', 'harpy', 'harridan', 'harried', 'harrow', 'harsh', 'harshly', 'hasseling', 'hassle', 'hassled', 'hassles', 'haste', 'hastily', 'hasty', 'hate', 'hated', 'hateful', 'hatefully', 'hatefulness', 'hater', 'haters', 'hates', 'hating', 'hatred', 'haughtily', 'haughty', 'haunt', 'haunting', 'havoc', 'hawkish', 'haywire', 'hazard', 'hazardous', 'haze', 'hazy', 'head-aches', 'headache', 'headaches', 'heartbreaker', 'heartbreaking', 'heartbreakingly', 'heartless', 'heathen', 'heavy-handed', 'heavyhearted', 'heck', 'heckle', 'heckled', 'heckles', 'hectic', 'hedge', 'hedonistic', 'heedless', 'hefty', 'hegemonism', 'hegemonistic', 'hegemony', 'heinous', 'hell', 'hell-bent', 'hellion', 'hells', 'helpless', 'helplessly', 'helplessness', 'heresy', 'heretic', 'heretical', 'hesitant', 'hestitant', 'hideous', 'hideously', 'hideousness', 'high-priced', 'hiliarious', 'hinder', 'hindrance', 'hiss', 'hissed', 'hissing', 'ho-hum', 'hoard', 'hoax', 'hobble', 'hogs', 'hollow', 'hoodium', 'hoodwink', 'hooligan', 'hopeless', 'hopelessly', 'hopelessness', 'horde', 'horrendous', 'horrendously', 'horrible', 'horrid', 'horrific', 'horrified', 'horrifies', 'horrify', 'horrifying', 'horrifys', 'hostage', 'hostile', 'hostilities', 'hostility', 'hotbeds', 'hothead', 'hotheaded', 'hothouse', 'hubris', 'huckster', 'hum', 'humid', 'humiliate', 'humiliating', 'humiliation', 'humming', 'hung', 'hurt', 'hurted', 'hurtful', 'hurting', 'hurts', 'hustler', 'hype', 'hypocricy', 'hypocrisy', 'hypocrite', 'hypocrites', 'hypocritical', 'hypocritically', 'hysteria', 'hysteric', 'hysterical', 'hysterically', 'hysterics', 'idiocies', 'idiocy', 'idiot', 'idiotic', 'idiotically', 'idiots', 'idle', 'ignoble', 'ignominious', 'ignominiously', 'ignominy', 'ignorance', 'ignorant', 'ignore', 'ill-advised', 'ill-conceived', 'ill-defined', 'ill-designed', 'ill-fated', 'ill-favored', 'ill-formed', 'ill-mannered', 'ill-natured', 'ill-sorted', 'ill-tempered', 'ill-treated', 'ill-treatment', 'ill-usage', 'ill-used', 'illegal', 'illegally', 'illegitimate', 'illicit', 'illiterate', 'illness', 'illogic', 'illogical', 'illogically', 'illusion', 'illusions', 'illusory', 'imaginary', 'imbalance', 'imbecile', 'imbroglio', 'immaterial', 'immature', 'imminence', 'imminently', 'immobilized', 'immoderate', 'immoderately', 'immodest', 'immoral', 'immorality', 'immorally', 'immovable', 'impair', 'impaired', 'impasse', 'impatience', 'impatient', 'impatiently', 'impeach', 'impedance', 'impede', 'impediment', 'impending', 'impenitent', 'imperfect', 'imperfection', 'imperfections', 'imperfectly', 'imperialist', 'imperil', 'imperious', 'imperiously', 'impermissible', 'impersonal', 'impertinent', 'impetuous', 'impetuously', 'impiety', 'impinge', 'impious', 'implacable', 'implausible', 'implausibly', 'implicate', 'implication', 'implode', 'impolite', 'impolitely', 'impolitic', 'importunate', 'importune', 'impose', 'imposers', 'imposing', 'imposition', 'impossible', 'impossiblity', 'impossibly', 'impotent', 'impoverish', 'impoverished', 'impractical', 'imprecate', 'imprecise', 'imprecisely', 'imprecision', 'imprison', 'imprisonment', 'improbability', 'improbable', 'improbably', 'improper', 'improperly', 'impropriety', 'imprudence', 'imprudent', 'impudence', 'impudent', 'impudently', 'impugn', 'impulsive', 'impulsively', 'impunity', 'impure', 'impurity', 'inability', 'inaccuracies', 'inaccuracy', 'inaccurate', 'inaccurately', 'inaction', 'inactive', 'inadequacy', 'inadequate', 'inadequately', 'inadverent', 'inadverently', 'inadvisable', 'inadvisably', 'inane', 'inanely', 'inappropriate', 'inappropriately', 'inapt', 'inaptitude', 'inarticulate', 'inattentive', 'inaudible', 'incapable', 'incapably', 'incautious', 'incendiary', 'incense', 'incessant', 'incessantly', 'incite', 'incitement', 'incivility', 'inclement', 'incognizant', 'incoherence', 'incoherent', 'incoherently', 'incommensurate', 'incomparable', 'incomparably', 'incompatability', 'incompatibility', 'incompatible', 'incompetence', 'incompetent', 'incompetently', 'incomplete', 'incompliant', 'incomprehensible', 'incomprehension', 'inconceivable', 'inconceivably', 'incongruous', 'incongruously', 'inconsequent', 'inconsequential', 'inconsequentially', 'inconsequently', 'inconsiderate', 'inconsiderately', 'inconsistence', 'inconsistencies', 'inconsistency', 'inconsistent', 'inconsolable', 'inconsolably', 'inconstant', 'inconvenience', 'inconveniently', 'incorrect', 'incorrectly', 'incorrigible', 'incorrigibly', 'incredulous', 'incredulously', 'inculcate', 'indecency', 'indecent', 'indecently', 'indecision', 'indecisive', 'indecisively', 'indecorum', 'indefensible', 'indelicate', 'indeterminable', 'indeterminably', 'indeterminate', 'indifference', 'indifferent', 'indigent', 'indignant', 'indignantly', 'indignation', 'indignity', 'indiscernible', 'indiscreet', 'indiscreetly', 'indiscretion', 'indiscriminate', 'indiscriminately', 'indiscriminating', 'indistinguishable', 'indoctrinate', 'indoctrination', 'indolent', 'indulge', 'ineffective', 'ineffectively', 'ineffectiveness', 'ineffectual', 'ineffectually', 'ineffectualness', 'inefficacious', 'inefficacy', 'inefficiency', 'inefficient', 'inefficiently', 'inelegance', 'inelegant', 'ineligible', 'ineloquent', 'ineloquently', 'inept', 'ineptitude', 'ineptly', 'inequalities', 'inequality', 'inequitable', 'inequitably', 'inequities', 'inescapable', 'inescapably', 'inessential', 'inevitable', 'inevitably', 'inexcusable', 'inexcusably', 'inexorable', 'inexorably', 'inexperience', 'inexperienced', 'inexpert', 'inexpertly', 'inexpiable', 'inexplainable', 'inextricable', 'inextricably', 'infamous', 'infamously', 'infamy', 'infected', 'infection', 'infections', 'inferior', 'inferiority', 'infernal', 'infest', 'infested', 'infidel', 'infidels', 'infiltrator', 'infiltrators', 'infirm', 'inflame', 'inflammation', 'inflammatory', 'inflammed', 'inflated', 'inflationary', 'inflexible', 'inflict', 'infraction', 'infringe', 'infringement', 'infringements', 'infuriate', 'infuriated', 'infuriating', 'infuriatingly', 'inglorious', 'ingrate', 'ingratitude', 'inhibit', 'inhibition', 'inhospitable', 'inhospitality', 'inhuman', 'inhumane', 'inhumanity', 'inimical', 'inimically', 'iniquitous', 'iniquity', 'injudicious', 'injure', 'injurious', 'injury', 'injustice', 'injustices', 'innuendo', 'inoperable', 'inopportune', 'inordinate', 'inordinately', 'insane', 'insanely', 'insanity', 'insatiable', 'insecure', 'insecurity', 'insensible', 'insensitive', 'insensitively', 'insensitivity', 'insidious', 'insidiously', 'insignificance', 'insignificant', 'insignificantly', 'insincere', 'insincerely', 'insincerity', 'insinuate', 'insinuating', 'insinuation', 'insociable', 'insolence', 'insolent', 'insolently', 'insolvent', 'insouciance', 'instability', 'instable', 'instigate', 'instigator', 'instigators', 'insubordinate', 'insubstantial', 'insubstantially', 'insufferable', 'insufferably', 'insufficiency', 'insufficient', 'insufficiently', 'insular', 'insult', 'insulted', 'insulting', 'insultingly', 'insults', 'insupportable', 'insupportably', 'insurmountable', 'insurmountably', 'insurrection', 'intefere', 'inteferes', 'intense', 'interfere', 'interference', 'interferes', 'intermittent', 'interrupt', 'interruption', 'interruptions', 'intimidate', 'intimidating', 'intimidatingly', 'intimidation', 'intolerable', 'intolerablely', 'intolerance', 'intoxicate', 'intractable', 'intransigence', 'intransigent', 'intrude', 'intrusion', 'intrusive', 'inundate', 'inundated', 'invader', 'invalid', 'invalidate', 'invalidity', 'invasive', 'invective', 'inveigle', 'invidious', 'invidiously', 'invidiousness', 'invisible', 'involuntarily', 'involuntary', 'irascible', 'irate', 'irately', 'ire', 'irk', 'irked', 'irking', 'irks', 'irksome', 'irksomely', 'irksomeness', 'irksomenesses', 'ironic', 'ironical', 'ironically', 'ironies', 'irony', 'irragularity', 'irrational', 'irrationalities', 'irrationality', 'irrationally', 'irrationals', 'irreconcilable', 'irrecoverable', 'irrecoverableness', 'irrecoverablenesses', 'irrecoverably', 'irredeemable', 'irredeemably', 'irreformable', 'irregular', 'irregularity', 'irrelevance', 'irrelevant', 'irreparable', 'irreplacible', 'irrepressible', 'irresolute', 'irresolvable', 'irresponsible', 'irresponsibly', 'irretating', 'irretrievable', 'irreversible', 'irritable', 'irritably', 'irritant', 'irritate', 'irritated', 'irritating', 'irritation', 'irritations', 'isolate', 'isolated', 'isolation', 'issue', 'issues', 'itch', 'itching', 'itchy', 'jabber', 'jaded', 'jagged', 'jam', 'jarring', 'jaundiced', 'jealous', 'jealously', 'jealousness', 'jealousy', 'jeer', 'jeering', 'jeeringly', 'jeers', 'jeopardize', 'jeopardy', 'jerk', 'jerky', 'jitter', 'jitters', 'jittery', 'job-killing', 'jobless', 'joke', 'joker', 'jolt', 'judder', 'juddering', 'judders', 'jumpy', 'junk', 'junky', 'junkyard', 'jutter', 'jutters', 'kaput', 'kill', 'killed', 'killer', 'killing', 'killjoy', 'kills', 'knave', 'knife', 'knock', 'knotted', 'kook', 'kooky', 'lack', 'lackadaisical', 'lacked', 'lackey', 'lackeys', 'lacking', 'lackluster', 'lacks', 'laconic', 'lag', 'lagged', 'lagging', 'laggy', 'lags', 'laid-off', 'lambast', 'lambaste', 'lame', 'lame-duck', 'lament', 'lamentable', 'lamentably', 'languid', 'languish', 'languor', 'languorous', 'languorously', 'lanky', 'lapse', 'lapsed', 'lapses', 'lascivious', 'last-ditch', 'latency', 'laughable', 'laughably', 'laughingstock', 'lawbreaker', 'lawbreaking', 'lawless', 'lawlessness', 'layoff', 'layoff-happy', 'lazy', 'leak', 'leakage', 'leakages', 'leaking', 'leaks', 'leaky', 'lech', 'lecher', 'lecherous', 'lechery', 'leech', 'leer', 'leery', 'left-leaning', 'lemon', 'lengthy', 'less-developed', 'lesser-known', 'letch', 'lethal', 'lethargic', 'lethargy', 'lewd', 'lewdly', 'lewdness', 'liability', 'liable', 'liar', 'liars', 'licentious', 'licentiously', 'licentiousness', 'lie', 'lied', 'lier', 'lies', 'life-threatening', 'lifeless', 'limit', 'limitation', 'limitations', 'limited', 'limits', 'limp', 'listless', 'litigious', 'little-known', 'livid', 'lividly', 'loath', 'loathe', 'loathing', 'loathly', 'loathsome', 'loathsomely', 'lone', 'loneliness', 'lonely', 'loner', 'lonesome', 'long-time', 'long-winded', 'longing', 'longingly', 'loophole', 'loopholes', 'loose', 'loot', 'lorn', 'lose', 'loser', 'losers', 'loses', 'losing', 'loss', 'losses', 'lost', 'loud', 'louder', 'lousy', 'loveless', 'lovelorn', 'low-rated', 'lowly', 'ludicrous', 'ludicrously', 'lugubrious', 'lukewarm', 'lull', 'lumpy', 'lunatic', 'lunaticism', 'lurch', 'lure', 'lurid', 'lurk', 'lurking', 'lying', 'macabre', 'mad', 'madden', 'maddening', 'maddeningly', 'madder', 'madly', 'madman', 'madness', 'maladjusted', 'maladjustment', 'malady', 'malaise', 'malcontent', 'malcontented', 'maledict', 'malevolence', 'malevolent', 'malevolently', 'malice', 'malicious', 'maliciously', 'maliciousness', 'malign', 'malignant', 'malodorous', 'maltreatment', 'mangle', 'mangled', 'mangles', 'mangling', 'mania', 'maniac', 'maniacal', 'manic', 'manipulate', 'manipulation', 'manipulative', 'manipulators', 'mar', 'marginal', 'marginally', 'martyrdom', 'martyrdom-seeking', 'mashed', 'massacre', 'massacres', 'matte', 'mawkish', 'mawkishly', 'mawkishness', 'meager', 'meaningless', 'meanness', 'measly', 'meddle', 'meddlesome', 'mediocre', 'mediocrity', 'melancholy', 'melodramatic', 'melodramatically', 'meltdown', 'menace', 'menacing', 'menacingly', 'mendacious', 'mendacity', 'menial', 'merciless', 'mercilessly', 'mess', 'messed', 'messes', 'messing', 'messy', 'midget', 'miff', 'militancy', 'mindless', 'mindlessly', 'mirage', 'mire', 'misalign', 'misaligned', 'misaligns', 'misapprehend', 'misbecome', 'misbecoming', 'misbegotten', 'misbehave', 'misbehavior', 'miscalculate', 'miscalculation', 'miscellaneous', 'mischief', 'mischievous', 'mischievously', 'misconception', 'misconceptions', 'miscreant', 'miscreants', 'misdirection', 'miser', 'miserable', 'miserableness', 'miserably', 'miseries', 'miserly', 'misery', 'misfit', 'misfortune', 'misgiving', 'misgivings', 'misguidance', 'misguide', 'misguided', 'mishandle', 'mishap', 'misinform', 'misinformed', 'misinterpret', 'misjudge', 'misjudgment', 'mislead', 'misleading', 'misleadingly', 'mislike', 'mismanage', 'mispronounce', 'mispronounced', 'mispronounces', 'misread', 'misreading', 'misrepresent', 'misrepresentation', 'miss', 'missed', 'misses', 'misstatement', 'mist', 'mistake', 'mistaken', 'mistakenly', 'mistakes', 'mistified', 'mistress', 'mistrust', 'mistrustful', 'mistrustfully', 'mists', 'misunderstand', 'misunderstanding', 'misunderstandings', 'misunderstood', 'misuse', 'moan', 'mobster', 'mock', 'mocked', 'mockeries', 'mockery', 'mocking', 'mockingly', 'mocks', 'molest', 'molestation', 'monotonous', 'monotony', 'monster', 'monstrosities', 'monstrosity', 'monstrous', 'monstrously', 'moody', 'moot', 'mope', 'morbid', 'morbidly', 'mordant', 'mordantly', 'moribund', 'moron', 'moronic', 'morons', 'mortification', 'mortified', 'mortify', 'mortifying', 'motionless', 'motley', 'mourn', 'mourner', 'mournful', 'mournfully', 'muddle', 'muddy', 'mudslinger', 'mudslinging', 'mulish', 'multi-polarization', 'mundane', 'murder', 'murderer', 'murderous', 'murderously', 'murky', 'muscle-flexing', 'mushy', 'musty', 'mysterious', 'mysteriously', 'mystery', 'mystify', 'myth', 'nag', 'nagging', 'naive', 'naively', 'narrower', 'nastily', 'nastiness', 'nasty', 'naughty', 'nauseate', 'nauseates', 'nauseating', 'nauseatingly', 'naןve', 'nebulous', 'nebulously', 'needless', 'needlessly', 'needy', 'nefarious', 'nefariously', 'negate', 'negation', 'negative', 'negatives', 'negativity', 'neglect', 'neglected', 'negligence', 'negligent', 'nemesis', 'nepotism', 'nervous', 'nervously', 'nervousness', 'nettle', 'nettlesome', 'neurotic', 'neurotically', 'niggle', 'niggles', 'nightmare', 'nightmarish', 'nightmarishly', 'nitpick', 'nitpicking', 'noise', 'noises', 'noisier', 'noisy', 'non-confidence', 'nonexistent', 'nonresponsive', 'nonsense', 'nosey', 'notoriety', 'notorious', 'notoriously', 'noxious', 'nuisance', 'numb', 'obese', 'object', 'objection', 'objectionable', 'objections', 'oblique', 'obliterate', 'obliterated', 'oblivious', 'obnoxious', 'obnoxiously', 'obscene', 'obscenely', 'obscenity', 'obscure', 'obscured', 'obscures', 'obscurity', 'obsess', 'obsessive', 'obsessively', 'obsessiveness', 'obsolete', 'obstacle', 'obstinate', 'obstinately', 'obstruct', 'obstructed', 'obstructing', 'obstruction', 'obstructs', 'obtrusive', 'obtuse', 'occlude', 'occluded', 'occludes', 'occluding', 'odd', 'odder', 'oddest', 'oddities', 'oddity', 'oddly', 'odor', 'offence', 'offend', 'offender', 'offending', 'offenses', 'offensive', 'offensively', 'offensiveness', 'officious', 'ominous', 'ominously', 'omission', 'omit', 'one-sided', 'onerous', 'onerously', 'onslaught', 'opinionated', 'opponent', 'opportunistic', 'oppose', 'opposition', 'oppositions', 'oppress', 'oppression', 'oppressive', 'oppressively', 'oppressiveness', 'oppressors', 'ordeal', 'orphan', 'ostracize', 'outbreak', 'outburst', 'outbursts', 'outcast', 'outcry', 'outlaw', 'outmoded', 'outrage', 'outraged', 'outrageous', 'outrageously', 'outrageousness', 'outrages', 'outsider', 'over-acted', 'over-awe', 'over-balanced', 'over-hyped', 'over-priced', 'over-valuation', 'overact', 'overacted', 'overawe', 'overbalance', 'overbalanced', 'overbearing', 'overbearingly', 'overblown', 'overdo', 'overdone', 'overdue', 'overemphasize', 'overheat', 'overkill', 'overloaded', 'overlook', 'overpaid', 'overpayed', 'overplay', 'overpower', 'overpriced', 'overrated', 'overreach', 'overrun', 'overshadow', 'oversight', 'oversights', 'oversimplification', 'oversimplified', 'oversimplify', 'oversize', 'overstate', 'overstated', 'overstatement', 'overstatements', 'overstates', 'overtaxed', 'overthrow', 'overthrows', 'overturn', 'overweight', 'overwhelm', 'overwhelmed', 'overwhelming', 'overwhelmingly', 'overwhelms', 'overzealous', 'overzealously', 'overzelous', 'pain', 'painful', 'painfull', 'painfully', 'pains', 'pale', 'pales', 'paltry', 'pan', 'pandemonium', 'pander', 'pandering', 'panders', 'panic', 'panick', 'panicked', 'panicking', 'panicky', 'paradoxical', 'paradoxically', 'paralize', 'paralyzed', 'paranoia', 'paranoid', 'parasite', 'pariah', 'parody', 'partiality', 'partisan', 'partisans', 'passe', 'passive', 'passiveness', 'pathetic', 'pathetically', 'patronize', 'paucity', 'pauper', 'paupers', 'payback', 'peculiar', 'peculiarly', 'pedantic', 'peeled', 'peeve', 'peeved', 'peevish', 'peevishly', 'penalize', 'penalty', 'perfidious', 'perfidity', 'perfunctory', 'peril', 'perilous', 'perilously', 'perish', 'pernicious', 'perplex', 'perplexed', 'perplexing', 'perplexity', 'persecute', 'persecution', 'pertinacious', 'pertinaciously', 'pertinacity', 'perturb', 'perturbed', 'pervasive', 'perverse', 'perversely', 'perversion', 'perversity', 'pervert', 'perverted', 'perverts', 'pessimism', 'pessimistic', 'pessimistically', 'pest', 'pestilent', 'petrified', 'petrify', 'pettifog', 'petty', 'phobia', 'phobic', 'phony', 'picket', 'picketed', 'picketing', 'pickets', 'picky', 'pig', 'pigs', 'pillage', 'pillory', 'pimple', 'pinch', 'pique', 'pitiable', 'pitiful', 'pitifully', 'pitiless', 'pitilessly', 'pittance', 'pity', 'plagiarize', 'plague', 'plasticky', 'plaything', 'plea', 'pleas', 'plebeian', 'plight', 'plot', 'plotters', 'ploy', 'plunder', 'plunderer', 'pointless', 'pointlessly', 'poison', 'poisonous', 'poisonously', 'pokey', 'poky', 'polarisation', 'polemize', 'pollute', 'polluter', 'polluters', 'polution', 'pompous', 'poor', 'poorer', 'poorest', 'poorly', 'posturing', 'pout', 'poverty', 'powerless', 'prate', 'pratfall', 'prattle', 'precarious', 'precariously', 'precipitate', 'precipitous', 'predatory', 'predicament', 'prejudge', 'prejudice', 'prejudices', 'prejudicial', 'premeditated', 'preoccupy', 'preposterous', 'preposterously', 'presumptuous', 'presumptuously', 'pretence', 'pretend', 'pretense', 'pretentious', 'pretentiously', 'prevaricate', 'pricey', 'pricier', 'prick', 'prickle', 'prickles', 'prideful', 'prik', 'primitive', 'prison', 'prisoner', 'problem', 'problematic', 'problems', 'procrastinate', 'procrastinates', 'procrastination', 'profane', 'profanity', 'prohibit', 'prohibitive', 'prohibitively', 'propaganda', 'propagandize', 'proprietary', 'prosecute', 'protest', 'protested', 'protesting', 'protests', 'protracted', 'provocation', 'provocative', 'provoke', 'pry', 'pugnacious', 'pugnaciously', 'pugnacity', 'punch', 'punish', 'punishable', 'punitive', 'punk', 'puny', 'puppet', 'puppets', 'puzzled', 'puzzlement', 'puzzling', 'quack', 'qualm', 'qualms', 'quandary', 'quarrel', 'quarrellous', 'quarrellously', 'quarrels', 'quarrelsome', 'quash', 'queer', 'questionable', 'quibble', 'quibbles', 'quitter', 'rabid', 'racism', 'racist', 'racists', 'racy', 'radical', 'radicalization', 'radically', 'radicals', 'rage', 'ragged', 'raging', 'rail', 'raked', 'rampage', 'rampant', 'ramshackle', 'rancor', 'randomly', 'rankle', 'rant', 'ranted', 'ranting', 'rantingly', 'rants', 'rape', 'raped', 'raping', 'rascal', 'rascals', 'rash', 'rattle', 'rattled', 'rattles', 'ravage', 'raving', 'reactionary', 'rebellious', 'rebuff', 'rebuke', 'recalcitrant', 'recant', 'recession', 'recessionary', 'reckless', 'recklessly', 'recklessness', 'recoil', 'recourses', 'redundancy', 'redundant', 'refusal', 'refuse', 'refused', 'refuses', 'refusing', 'refutation', 'refute', 'refuted', 'refutes', 'refuting', 'regress', 'regression', 'regressive', 'regret', 'regreted', 'regretful', 'regretfully', 'regrets', 'regrettable', 'regrettably', 'regretted', 'reject', 'rejected', 'rejecting', 'rejection', 'rejects', 'relapse', 'relentless', 'relentlessly', 'relentlessness', 'reluctance', 'reluctant', 'reluctantly', 'remorse', 'remorseful', 'remorsefully', 'remorseless', 'remorselessly', 'remorselessness', 'renounce', 'renunciation', 'repel', 'repetitive', 'reprehensible', 'reprehensibly', 'reprehension', 'reprehensive', 'repress', 'repression', 'repressive', 'reprimand', 'reproach', 'reproachful', 'reprove', 'reprovingly', 'repudiate', 'repudiation', 'repugn', 'repugnance', 'repugnant', 'repugnantly', 'repulse', 'repulsed', 'repulsing', 'repulsive', 'repulsively', 'repulsiveness', 'resent', 'resentful', 'resentment', 'resignation', 'resigned', 'resistance', 'restless', 'restlessness', 'restrict', 'restricted', 'restriction', 'restrictive', 'resurgent', 'retaliate', 'retaliatory', 'retard', 'retarded', 'retardedness', 'retards', 'reticent', 'retract', 'retreat', 'retreated', 'revenge', 'revengeful', 'revengefully', 'revert', 'revile', 'reviled', 'revoke', 'revolt', 'revolting', 'revoltingly', 'revulsion', 'revulsive', 'rhapsodize', 'rhetoric', 'rhetorical', 'ricer', 'ridicule', 'ridicules', 'ridiculous', 'ridiculously', 'rife', 'rift', 'rifts', 'rigid', 'rigidity', 'rigidness', 'rile', 'riled', 'rip', 'rip-off', 'ripoff', 'ripped', 'risk', 'risks', 'risky', 'rival', 'rivalry', 'roadblocks', 'rocky', 'rogue', 'rollercoaster', 'rot', 'rotten', 'rough', 'rremediable', 'rubbish', 'rude', 'rue', 'ruffian', 'ruffle', 'ruin', 'ruined', 'ruining', 'ruinous', 'ruins', 'rumbling', 'rumor', 'rumors', 'rumours', 'rumple', 'run-down', 'runaway', 'rupture', 'rust', 'rusts', 'rusty', 'rut', 'ruthless', 'ruthlessly', 'ruthlessness', 'ruts', 'sabotage', 'sack', 'sacrificed', 'sad', 'sadden', 'sadly', 'sadness', 'sag', 'sagged', 'sagging', 'saggy', 'sags', 'salacious', 'sanctimonious', 'sap', 'sarcasm', 'sarcastic', 'sarcastically', 'sardonic', 'sardonically', 'sass', 'satirical', 'satirize', 'savage', 'savaged', 'savagery', 'savages', 'scaly', 'scam', 'scams', 'scandal', 'scandalize', 'scandalized', 'scandalous', 'scandalously', 'scandals', 'scandel', 'scandels', 'scant', 'scapegoat', 'scar', 'scarce', 'scarcely', 'scarcity', 'scare', 'scared', 'scarier', 'scariest', 'scarily', 'scarred', 'scars', 'scary', 'scathing', 'scathingly', 'sceptical', 'scoff', 'scoffingly', 'scold', 'scolded', 'scolding', 'scoldingly', 'scorching', 'scorchingly', 'scorn', 'scornful', 'scornfully', 'scoundrel', 'scourge', 'scowl', 'scramble', 'scrambled', 'scrambles', 'scrambling', 'scrap', 'scratch', 'scratched', 'scratches', 'scratchy', 'scream', 'screech', 'screw-up', 'screwed', 'screwed-up', 'screwy', 'scuff', 'scuffs', 'scum', 'scummy', 'second-class', 'second-tier', 'secretive', 'sedentary', 'seedy', 'seethe', 'seething', 'self-coup', 'self-criticism', 'self-defeating', 'self-destructive', 'self-humiliation', 'self-interest', 'self-interested', 'self-serving', 'selfinterested', 'selfish', 'selfishly', 'selfishness', 'semi-retarded', 'senile', 'sensationalize', 'senseless', 'senselessly', 'seriousness', 'sermonize', 'servitude', 'set-up', 'setback', 'setbacks', 'sever', 'severe', 'severity', 'sh*t', 'shabby', 'shadowy', 'shady', 'shake', 'shaky', 'shallow', 'sham', 'shambles', 'shame', 'shameful', 'shamefully', 'shamefulness', 'shameless', 'shamelessly', 'shamelessness', 'shark', 'sharply', 'shatter', 'shemale', 'shimmer', 'shimmy', 'shipwreck', 'shirk', 'shirker', 'shit', 'shiver', 'shock', 'shocked', 'shocking', 'shockingly', 'shoddy', 'short-lived', 'shortage', 'shortchange', 'shortcoming', 'shortcomings', 'shortness', 'shortsighted', 'shortsightedness', 'showdown', 'shrew', 'shriek', 'shrill', 'shrilly', 'shrivel', 'shroud', 'shrouded', 'shrug', 'shun', 'shunned', 'sick', 'sicken', 'sickening', 'sickeningly', 'sickly', 'sickness', 'sidetrack', 'sidetracked', 'siege', 'sillily', 'silly', 'simplistic', 'simplistically', 'sin', 'sinful', 'sinfully', 'sinister', 'sinisterly', 'sink', 'sinking', 'skeletons', 'skeptic', 'skeptical', 'skeptically', 'skepticism', 'sketchy', 'skimpy', 'skinny', 'skittish', 'skittishly', 'skulk', 'slack', 'slander', 'slanderer', 'slanderous', 'slanderously', 'slanders', 'slap', 'slashing', 'slaughter', 'slaughtered', 'slave', 'slaves', 'sleazy', 'slime', 'slog', 'slogged', 'slogging', 'slogs', 'sloooooooooooooow', 'sloooow', 'slooow', 'sloow', 'sloppily', 'sloppy', 'sloth', 'slothful', 'slow', 'slow-moving', 'slowed', 'slower', 'slowest', 'slowly', 'sloww', 'slowww', 'slowwww', 'slug', 'sluggish', 'slump', 'slumping', 'slumpping', 'slur', 'slut', 'sluts', 'sly', 'smack', 'smallish', 'smash', 'smear', 'smell', 'smelled', 'smelling', 'smells', 'smelly', 'smelt', 'smoke', 'smokescreen', 'smolder', 'smoldering', 'smother', 'smoulder', 'smouldering', 'smudge', 'smudged', 'smudges', 'smudging', 'smug', 'smugly', 'smut', 'smuttier', 'smuttiest', 'smutty', 'snag', 'snagged', 'snagging', 'snags', 'snappish', 'snappishly', 'snare', 'snarky', 'snarl', 'sneak', 'sneakily', 'sneaky', 'sneer', 'sneering', 'sneeringly', 'snob', 'snobbish', 'snobby', 'snobish', 'snobs', 'snub', 'so-cal', 'soapy', 'sob', 'sober', 'sobering', 'solemn', 'solicitude', 'somber', 'sore', 'sorely', 'soreness', 'sorrow', 'sorrowful', 'sorrowfully', 'sorry', 'sour', 'sourly', 'spade', 'spank', 'spendy', 'spew', 'spewed', 'spewing', 'spews', 'spilling', 'spinster', 'spiritless', 'spite', 'spiteful', 'spitefully', 'spitefulness', 'splatter', 'split', 'splitting', 'spoil', 'spoilage', 'spoilages', 'spoiled', 'spoilled', 'spoils', 'spook', 'spookier', 'spookiest', 'spookily', 'spooky', 'spoon-fed', 'spoon-feed', 'spoonfed', 'sporadic', 'spotty', 'spurious', 'spurn', 'sputter', 'squabble', 'squabbling', 'squander', 'squash', 'squeak', 'squeaks', 'squeaky', 'squeal', 'squealing', 'squeals', 'squirm', 'stab', 'stagnant', 'stagnate', 'stagnation', 'staid', 'stain', 'stains', 'stale', 'stalemate', 'stall', 'stalls', 'stammer', 'stampede', 'standstill', 'stark', 'starkly', 'startle', 'startling', 'startlingly', 'starvation', 'starve', 'static', 'steal', 'stealing', 'steals', 'steep', 'steeply', 'stench', 'stereotype', 'stereotypical', 'stereotypically', 'stern', 'stew', 'sticky', 'stiff', 'stiffness', 'stifle', 'stifling', 'stiflingly', 'stigma', 'stigmatize', 'sting', 'stinging', 'stingingly', 'stingy', 'stink', 'stinks', 'stodgy', 'stole', 'stolen', 'stooge', 'stooges', 'stormy', 'straggle', 'straggler', 'strain', 'strained', 'straining', 'strange', 'strangely', 'stranger', 'strangest', 'strangle', 'streaky', 'strenuous', 'stress', 'stresses', 'stressful', 'stressfully', 'stricken', 'strict', 'strictly', 'strident', 'stridently', 'strife', 'strike', 'stringent', 'stringently', 'struck', 'struggle', 'struggled', 'struggles', 'struggling', 'strut', 'stubborn', 'stubbornly', 'stubbornness', 'stuck', 'stuffy', 'stumble', 'stumbled', 'stumbles', 'stump', 'stumped', 'stumps', 'stun', 'stunt', 'stunted', 'stupid', 'stupidest', 'stupidity', 'stupidly', 'stupified', 'stupify', 'stupor', 'stutter', 'stuttered', 'stuttering', 'stutters', 'sty', 'stymied', 'sub-par', 'subdued', 'subjected', 'subjection', 'subjugate', 'subjugation', 'submissive', 'subordinate', 'subpoena', 'subpoenas', 'subservience', 'subservient', 'substandard', 'subtract', 'subversion', 'subversive', 'subversively', 'subvert', 'succumb', 'suck', 'sucked', 'sucker', 'sucks', 'sucky', 'sue', 'sued', 'sueing', 'sues', 'suffer', 'suffered', 'sufferer', 'sufferers', 'suffering', 'suffers', 'suffocate', 'sugar-coat', 'sugar-coated', 'sugarcoated', 'suicidal', 'suicide', 'sulk', 'sullen', 'sully', 'sunder', 'sunk', 'sunken', 'superficial', 'superficiality', 'superficially', 'superfluous', 'superstition', 'superstitious', 'suppress', 'suppression', 'surrender', 'susceptible', 'suspect', 'suspicion', 'suspicions', 'suspicious', 'suspiciously', 'swagger', 'swamped', 'sweaty', 'swelled', 'swelling', 'swindle', 'swipe', 'swollen', 'symptom', 'symptoms', 'syndrome', 'taboo', 'tacky', 'taint', 'tainted', 'tamper', 'tangle', 'tangled', 'tangles', 'tank', 'tanked', 'tanks', 'tantrum', 'tardy', 'tarnish', 'tarnished', 'tarnishes', 'tarnishing', 'tattered', 'taunt', 'taunting', 'tauntingly', 'taunts', 'taut', 'tawdry', 'taxing', 'tease', 'teasingly', 'tedious', 'tediously', 'temerity', 'temper', 'tempest', 'temptation', 'tenderness', 'tense', 'tension', 'tentative', 'tentatively', 'tenuous', 'tenuously', 'tepid', 'terrible', 'terribleness', 'terribly', 'terror', 'terror-genic', 'terrorism', 'terrorize', 'testily', 'testy', 'tetchily', 'tetchy', 'thankless', 'thicker', 'thirst', 'thorny', 'thoughtless', 'thoughtlessly', 'thoughtlessness', 'thrash', 'threat', 'threaten', 'threatening', 'threats', 'threesome', 'throb', 'throbbed', 'throbbing', 'throbs', 'throttle', 'thug', 'thumb-down', 'thumbs-down', 'thwart', 'time-consuming', 'timid', 'timidity', 'timidly', 'timidness', 'tin-y', 'tingled', 'tingling', 'tired', 'tiresome', 'tiring', 'tiringly', 'toil', 'toll', 'top-heavy', 'topple', 'torment', 'tormented', 'torrent', 'tortuous', 'torture', 'tortured', 'tortures', 'torturing', 'torturous', 'torturously', 'totalitarian', 'touchy', 'toughness', 'tout', 'touted', 'touts', 'toxic', 'traduce', 'tragedy', 'tragic', 'tragically', 'traitor', 'traitorous', 'traitorously', 'tramp', 'trample', 'transgress', 'transgression', 'trap', 'traped', 'trapped', 'trash', 'trashed', 'trashy', 'trauma', 'traumatic', 'traumatically', 'traumatize', 'traumatized', 'travesties', 'travesty', 'treacherous', 'treacherously', 'treachery', 'treason', 'treasonous', 'trick', 'tricked', 'trickery', 'tricky', 'trivial', 'trivialize', 'trouble', 'troubled', 'troublemaker', 'troubles', 'troublesome', 'troublesomely', 'troubling', 'troublingly', 'truant', 'tumble', 'tumbled', 'tumbles', 'tumultuous', 'turbulent', 'turmoil', 'twist', 'twisted', 'twists', 'two-faced', 'two-faces', 'tyrannical', 'tyrannically', 'tyranny', 'tyrant', 'ugh', 'uglier', 'ugliest', 'ugliness', 'ugly', 'ulterior', 'ultimatum', 'ultimatums', 'ultra-hardline', 'un-viewable', 'unable', 'unacceptable', 'unacceptablely', 'unacceptably', 'unaccessible', 'unaccustomed', 'unachievable', 'unaffordable', 'unappealing', 'unattractive', 'unauthentic', 'unavailable', 'unavoidably', 'unbearable', 'unbearablely', 'unbelievable', 'unbelievably', 'uncaring', 'uncertain', 'uncivil', 'uncivilized', 'unclean', 'unclear', 'uncollectible', 'uncomfortable', 'uncomfortably', 'uncomfy', 'uncompetitive', 'uncompromising', 'uncompromisingly', 'unconfirmed', 'unconstitutional', 'uncontrolled', 'unconvincing', 'unconvincingly', 'uncooperative', 'uncouth', 'uncreative', 'undecided', 'undefined', 'undependability', 'undependable', 'undercut', 'undercuts', 'undercutting', 'underdog', 'underestimate', 'underlings', 'undermine', 'undermined', 'undermines', 'undermining', 'underpaid', 'underpowered', 'undersized', 'undesirable', 'undetermined', 'undid', 'undignified', 'undissolved', 'undocumented', 'undone', 'undue', 'unease', 'uneasily', 'uneasiness', 'uneasy', 'uneconomical', 'unemployed', 'unequal', 'unethical', 'uneven', 'uneventful', 'unexpected', 'unexpectedly', 'unexplained', 'unfairly', 'unfaithful', 'unfaithfully', 'unfamiliar', 'unfavorable', 'unfeeling', 'unfinished', 'unfit', 'unforeseen', 'unforgiving', 'unfortunate', 'unfortunately', 'unfounded', 'unfriendly', 'unfulfilled', 'unfunded', 'ungovernable', 'ungrateful', 'unhappily', 'unhappiness', 'unhappy', 'unhealthy', 'unhelpful', 'unilateralism', 'unimaginable', 'unimaginably', 'unimportant', 'uninformed', 'uninsured', 'unintelligible', 'unintelligile', 'unipolar', 'unjust', 'unjustifiable', 'unjustifiably', 'unjustified', 'unjustly', 'unkind', 'unkindly', 'unknown', 'unlamentable', 'unlamentably', 'unlawful', 'unlawfully', 'unlawfulness', 'unleash', 'unlicensed', 'unlikely', 'unlucky', 'unmoved', 'unnatural', 'unnaturally', 'unnecessary', 'unneeded', 'unnerve', 'unnerved', 'unnerving', 'unnervingly', 'unnoticed', 'unobserved', 'unorthodox', 'unorthodoxy', 'unpleasant', 'unpleasantries', 'unpopular', 'unpredictable', 'unprepared', 'unproductive', 'unprofitable', 'unprove', 'unproved', 'unproven', 'unproves', 'unproving', 'unqualified', 'unravel', 'unraveled', 'unreachable', 'unreadable', 'unrealistic', 'unreasonable', 'unreasonably', 'unrelenting', 'unrelentingly', 'unreliability', 'unreliable', 'unresolved', 'unresponsive', 'unrest', 'unruly', 'unsafe', 'unsatisfactory', 'unsavory', 'unscrupulous', 'unscrupulously', 'unsecure', 'unseemly', 'unsettle', 'unsettled', 'unsettling', 'unsettlingly', 'unskilled', 'unsophisticated', 'unsound', 'unspeakable', 'unspeakablely', 'unspecified', 'unstable', 'unsteadily', 'unsteadiness', 'unsteady', 'unsuccessful', 'unsuccessfully', 'unsupported', 'unsupportive', 'unsure', 'unsuspecting', 'unsustainable', 'untenable', 'untested', 'unthinkable', 'unthinkably', 'untimely', 'untouched', 'untrue', 'untrustworthy', 'untruthful', 'unusable', 'unusably', 'unuseable', 'unuseably', 'unusual', 'unusually', 'unviewable', 'unwanted', 'unwarranted', 'unwatchable', 'unwelcome', 'unwell', 'unwieldy', 'unwilling', 'unwillingly', 'unwillingness', 'unwise', 'unwisely', 'unworkable', 'unworthy', 'unyielding', 'upbraid', 'upheaval', 'uprising', 'uproar', 'uproarious', 'uproariously', 'uproarous', 'uproarously', 'uproot', 'upset', 'upseting', 'upsets', 'upsetting', 'upsettingly', 'urgent', 'useless', 'usurp', 'usurper', 'utterly', 'vagrant', 'vague', 'vagueness', 'vain', 'vainly', 'vanity', 'vehement', 'vehemently', 'vengeance', 'vengeful', 'vengefully', 'vengefulness', 'venom', 'venomous', 'venomously', 'vent', 'vestiges', 'vex', 'vexation', 'vexing', 'vexingly', 'vibrate', 'vibrated', 'vibrates', 'vibrating', 'vibration', 'vice', 'vicious', 'viciously', 'viciousness', 'victimize', 'vile', 'vileness', 'vilify', 'villainous', 'villainously', 'villains', 'villian', 'villianous', 'villianously', 'villify', 'vindictive', 'vindictively', 'vindictiveness', 'violate', 'violation', 'violator', 'violators', 'violent', 'violently', 'viper', 'virulence', 'virulent', 'virulently', 'virus', 'vociferous', 'vociferously', 'volatile', 'volatility', 'vomit', 'vomited', 'vomiting', 'vomits', 'vulgar', 'vulnerable', 'wack', 'wail', 'wallow', 'wane', 'waning', 'wanton', 'war-like', 'warily', 'wariness', 'warlike', 'warned', 'warning', 'warp', 'warped', 'wary', 'washed-out', 'waste', 'wasted', 'wasteful', 'wastefulness', 'wasting', 'water-down', 'watered-down', 'wayward', 'weak', 'weaken', 'weakening', 'weaker', 'weakness', 'weaknesses', 'weariness', 'wearisome', 'weary', 'wedge', 'weed', 'weep', 'weird', 'weirdly', 'wheedle', 'whimper', 'whine', 'whining', 'whiny', 'whips', 'whore', 'whores', 'wicked', 'wickedly', 'wickedness', 'wild', 'wildly', 'wiles', 'wilt', 'wily', 'wimpy', 'wince', 'wobble', 'wobbled', 'wobbles', 'woe', 'woebegone', 'woeful', 'woefully', 'womanizer', 'womanizing', 'worn', 'worried', 'worriedly', 'worrier', 'worries', 'worrisome', 'worry', 'worrying', 'worryingly', 'worse', 'worsen', 'worsening', 'worst', 'worthless', 'worthlessly', 'worthlessness', 'wound', 'wounds', 'wrangle', 'wrath', 'wreak', 'wreaked', 'wreaks', 'wreck', 'wrest', 'wrestle', 'wretch', 'wretched', 'wretchedly', 'wretchedness', 'wrinkle', 'wrinkled', 'wrinkles', 'wrip', 'wripped', 'wripping', 'writhe', 'wrong', 'wrongful', 'wrongly', 'wrought', 'yawn', 'zap', 'zapped', 'zaps', 'zealot', 'zealous', 'zealously', 'zombie'}\r\n",
        "positive_words = {'a+', 'abound', 'abounds', 'abundance', 'abundant', 'accessable', 'accessible', 'acclaim', 'acclaimed', 'acclamation', 'accolade', 'accolades', 'accommodative', 'accomodative', 'accomplish', 'accomplished', 'accomplishment', 'accomplishments', 'accurate', 'accurately', 'achievable', 'achievement', 'achievements', 'achievible', 'acumen', 'adaptable', 'adaptive', 'adequate', 'adjustable', 'admirable', 'admirably', 'admiration', 'admire', 'admirer', 'admiring', 'admiringly', 'adorable', 'adore', 'adored', 'adorer', 'adoring', 'adoringly', 'adroit', 'adroitly', 'adulate', 'adulation', 'adulatory', 'advanced', 'advantage', 'advantageous', 'advantageously', 'advantages', 'adventuresome', 'adventurous', 'advocate', 'advocated', 'advocates', 'affability', 'affable', 'affably', 'affectation', 'affection', 'affectionate', 'affinity', 'affirm', 'affirmation', 'affirmative', 'affluence', 'affluent', 'afford', 'affordable', 'affordably', 'afordable', 'agile', 'agilely', 'agility', 'agreeable', 'agreeableness', 'agreeably', 'all-around', 'alluring', 'alluringly', 'altruistic', 'altruistically', 'amaze', 'amazed', 'amazement', 'amazes', 'amazing', 'amazingly', 'ambitious', 'ambitiously', 'ameliorate', 'amenable', 'amenity', 'amiability', 'amiabily', 'amiable', 'amicability', 'amicable', 'amicably', 'amity', 'ample', 'amply', 'amuse', 'amusing', 'amusingly', 'angel', 'angelic', 'apotheosis', 'appeal', 'appealing', 'applaud', 'appreciable', 'appreciate', 'appreciated', 'appreciates', 'appreciative', 'appreciatively', 'appropriate', 'approval', 'approve', 'ardent', 'ardently', 'ardor', 'articulate', 'aspiration', 'aspirations', 'aspire', 'assurance', 'assurances', 'assure', 'assuredly', 'assuring', 'astonish', 'astonished', 'astonishing', 'astonishingly', 'astonishment', 'astound', 'astounded', 'astounding', 'astoundingly', 'astutely', 'attentive', 'attraction', 'attractive', 'attractively', 'attune', 'audible', 'audibly', 'auspicious', 'authentic', 'authoritative', 'autonomous', 'available', 'aver', 'avid', 'avidly', 'award', 'awarded', 'awards', 'awe', 'awed', 'awesome', 'awesomely', 'awesomeness', 'awestruck', 'awsome', 'backbone', 'balanced', 'bargain', 'beauteous', 'beautiful', 'beautifullly', 'beautifully', 'beautify', 'beauty', 'beckon', 'beckoned', 'beckoning', 'beckons', 'believable', 'believeable', 'beloved', 'benefactor', 'beneficent', 'beneficial', 'beneficially', 'beneficiary', 'benefit', 'benefits', 'benevolence', 'benevolent', 'benifits', 'best', 'best-known', 'best-performing', 'best-selling', 'better', 'better-known', 'better-than-expected', 'beutifully', 'blameless', 'bless', 'blessing', 'bliss', 'blissful', 'blissfully', 'blithe', 'blockbuster', 'bloom', 'blossom', 'bolster', 'bonny', 'bonus', 'bonuses', 'boom', 'booming', 'boost', 'boundless', 'bountiful', 'brainiest', 'brainy', 'brand-new', 'brave', 'bravery', 'bravo', 'breakthrough', 'breakthroughs', 'breathlessness', 'breathtaking', 'breathtakingly', 'breeze', 'bright', 'brighten', 'brighter', 'brightest', 'brilliance', 'brilliances', 'brilliant', 'brilliantly', 'brisk', 'brotherly', 'bullish', 'buoyant', 'cajole', 'calm', 'calming', 'calmness', 'capability', 'capable', 'capably', 'captivate', 'captivating', 'carefree', 'cashback', 'cashbacks', 'catchy', 'celebrate', 'celebrated', 'celebration', 'celebratory', 'champ', 'champion', 'charisma', 'charismatic', 'charitable', 'charm', 'charming', 'charmingly', 'chaste', 'cheaper', 'cheapest', 'cheer', 'cheerful', 'cheery', 'cherish', 'cherished', 'cherub', 'chic', 'chivalrous', 'chivalry', 'civility', 'civilize', 'clarity', 'classic', 'classy', 'clean', 'cleaner', 'cleanest', 'cleanliness', 'cleanly', 'clear', 'clear-cut', 'cleared', 'clearer', 'clearly', 'clears', 'clever', 'cleverly', 'cohere', 'coherence', 'coherent', 'cohesive', 'colorful', 'comely', 'comfort', 'comfortable', 'comfortably', 'comforting', 'comfy', 'commend', 'commendable', 'commendably', 'commitment', 'commodious', 'compact', 'compactly', 'compassion', 'compassionate', 'compatible', 'competitive', 'complement', 'complementary', 'complemented', 'complements', 'compliant', 'compliment', 'complimentary', 'comprehensive', 'conciliate', 'conciliatory', 'concise', 'confidence', 'confident', 'congenial', 'congratulate', 'congratulation', 'congratulations', 'congratulatory', 'conscientious', 'considerate', 'consistent', 'consistently', 'constructive', 'consummate', 'contentment', 'continuity', 'contrasty', 'contribution', 'convenience', 'convenient', 'conveniently', 'convience', 'convienient', 'convient', 'convincing', 'convincingly', 'cool', 'coolest', 'cooperative', 'cooperatively', 'cornerstone', 'correct', 'correctly', 'cost-effective', 'cost-saving', 'counter-attack', 'counter-attacks', 'courage', 'courageous', 'courageously', 'courageousness', 'courteous', 'courtly', 'covenant', 'cozy', 'creative', 'credence', 'credible', 'crisp', 'crisper', 'cure', 'cure-all', 'cushy', 'cute', 'cuteness', 'danke', 'danken', 'daring', 'daringly', 'darling', 'dashing', 'dauntless', 'dawn', 'dazzle', 'dazzled', 'dazzling', 'dead-cheap', 'dead-on', 'decency', 'decent', 'decisive', 'decisiveness', 'dedicated', 'defeat', 'defeated', 'defeating', 'defeats', 'defender', 'deference', 'deft', 'deginified', 'delectable', 'delicacy', 'delicate', 'delicious', 'delight', 'delighted', 'delightful', 'delightfully', 'delightfulness', 'dependable', 'dependably', 'deservedly', 'deserving', 'desirable', 'desiring', 'desirous', 'destiny', 'detachable', 'devout', 'dexterous', 'dexterously', 'dextrous', 'dignified', 'dignify', 'dignity', 'diligence', 'diligent', 'diligently', 'diplomatic', 'dirt-cheap', 'distinction', 'distinctive', 'distinguished', 'diversified', 'divine', 'divinely', 'dominate', 'dominated', 'dominates', 'dote', 'dotingly', 'doubtless', 'dreamland', 'dumbfounded', 'dumbfounding', 'dummy-proof', 'durable', 'dynamic', 'eager', 'eagerly', 'eagerness', 'earnest', 'earnestly', 'earnestness', 'ease', 'eased', 'eases', 'easier', 'easiest', 'easiness', 'easing', 'easy', 'easy-to-use', 'easygoing', 'ebullience', 'ebullient', 'ebulliently', 'ecenomical', 'economical', 'ecstasies', 'ecstasy', 'ecstatic', 'ecstatically', 'edify', 'educated', 'effective', 'effectively', 'effectiveness', 'effectual', 'efficacious', 'efficient', 'efficiently', 'effortless', 'effortlessly', 'effusion', 'effusive', 'effusively', 'effusiveness', 'elan', 'elate', 'elated', 'elatedly', 'elation', 'electrify', 'elegance', 'elegant', 'elegantly', 'elevate', 'elite', 'eloquence', 'eloquent', 'eloquently', 'embolden', 'eminence', 'eminent', 'empathize', 'empathy', 'empower', 'empowerment', 'enchant', 'enchanted', 'enchanting', 'enchantingly', 'encourage', 'encouragement', 'encouraging', 'encouragingly', 'endear', 'endearing', 'endorse', 'endorsed', 'endorsement', 'endorses', 'endorsing', 'energetic', 'energize', 'energy-efficient', 'energy-saving', 'engaging', 'engrossing', 'enhance', 'enhanced', 'enhancement', 'enhances', 'enjoy', 'enjoyable', 'enjoyably', 'enjoyed', 'enjoying', 'enjoyment', 'enjoys', 'enlighten', 'enlightenment', 'enliven', 'ennoble', 'enough', 'enrapt', 'enrapture', 'enraptured', 'enrich', 'enrichment', 'enterprising', 'entertain', 'entertaining', 'entertains', 'enthral', 'enthrall', 'enthralled', 'enthuse', 'enthusiasm', 'enthusiast', 'enthusiastic', 'enthusiastically', 'entice', 'enticed', 'enticing', 'enticingly', 'entranced', 'entrancing', 'entrust', 'enviable', 'enviably', 'envious', 'enviously', 'enviousness', 'envy', 'equitable', 'ergonomical', 'err-free', 'erudite', 'ethical', 'eulogize', 'euphoria', 'euphoric', 'euphorically', 'evaluative', 'evenly', 'eventful', 'everlasting', 'evocative', 'exalt', 'exaltation', 'exalted', 'exaltedly', 'exalting', 'exaltingly', 'examplar', 'examplary', 'excallent', 'exceed', 'exceeded', 'exceeding', 'exceedingly', 'exceeds', 'excel', 'exceled', 'excelent', 'excellant', 'excelled', 'excellence', 'excellency', 'excellent', 'excellently', 'excels', 'exceptional', 'exceptionally', 'excite', 'excited', 'excitedly', 'excitedness', 'excitement', 'excites', 'exciting', 'excitingly', 'exellent', 'exemplar', 'exemplary', 'exhilarate', 'exhilarating', 'exhilaratingly', 'exhilaration', 'exonerate', 'expansive', 'expeditiously', 'expertly', 'exquisite', 'exquisitely', 'extol', 'extoll', 'extraordinarily', 'extraordinary', 'exuberance', 'exuberant', 'exuberantly', 'exult', 'exultant', 'exultation', 'exultingly', 'eye-catch', 'eye-catching', 'eyecatch', 'eyecatching', 'fabulous', 'fabulously', 'facilitate', 'fair', 'fairly', 'fairness', 'faith', 'faithful', 'faithfully', 'faithfulness', 'fame', 'famed', 'famous', 'famously', 'fancier', 'fancinating', 'fancy', 'fanfare', 'fans', 'fantastic', 'fantastically', 'fascinate', 'fascinating', 'fascinatingly', 'fascination', 'fashionable', 'fashionably', 'fast', 'fast-growing', 'fast-paced', 'faster', 'fastest', 'fastest-growing', 'faultless', 'fav', 'fave', 'favor', 'favorable', 'favored', 'favorite', 'favorited', 'favour', 'fearless', 'fearlessly', 'feasible', 'feasibly', 'feat', 'feature-rich', 'fecilitous', 'feisty', 'felicitate', 'felicitous', 'felicity', 'fertile', 'fervent', 'fervently', 'fervid', 'fervidly', 'fervor', 'festive', 'fidelity', 'fiery', 'fine', 'fine-looking', 'finely', 'finer', 'finest', 'firmer', 'first-class', 'first-in-class', 'first-rate', 'flashy', 'flatter', 'flattering', 'flatteringly', 'flawless', 'flawlessly', 'flexibility', 'flexible', 'flourish', 'flourishing', 'fluent', 'flutter', 'fond', 'fondly', 'fondness', 'foolproof', 'foremost', 'foresight', 'formidable', 'fortitude', 'fortuitous', 'fortuitously', 'fortunate', 'fortunately', 'fortune', 'fragrant', 'free', 'freed', 'freedom', 'freedoms', 'fresh', 'fresher', 'freshest', 'friendliness', 'friendly', 'frolic', 'frugal', 'fruitful', 'ftw', 'fulfillment', 'fun', 'futurestic', 'futuristic', 'gaiety', 'gaily', 'gain', 'gained', 'gainful', 'gainfully', 'gaining', 'gains', 'gallant', 'gallantly', 'galore', 'geekier', 'geeky', 'gem', 'gems', 'generosity', 'generous', 'generously', 'genial', 'genius', 'gentle', 'gentlest', 'genuine', 'gifted', 'glad', 'gladden', 'gladly', 'gladness', 'glamorous', 'glee', 'gleeful', 'gleefully', 'glimmer', 'glimmering', 'glisten', 'glistening', 'glitter', 'glitz', 'glorify', 'glorious', 'gloriously', 'glory', 'glow', 'glowing', 'glowingly', 'god-given', 'god-send', 'godlike', 'godsend', 'gold', 'golden', 'good', 'goodly', 'goodness', 'goodwill', 'goood', 'gooood', 'gorgeous', 'gorgeously', 'grace', 'graceful', 'gracefully', 'gracious', 'graciously', 'graciousness', 'grand', 'grandeur', 'grateful', 'gratefully', 'gratification', 'gratified', 'gratifies', 'gratify', 'gratifying', 'gratifyingly', 'gratitude', 'great', 'greatest', 'greatness', 'grin', 'groundbreaking', 'guarantee', 'guidance', 'guiltless', 'gumption', 'gush', 'gusto', 'gutsy', 'hail', 'halcyon', 'hale', 'hallmark', 'hallmarks', 'hallowed', 'handier', 'handily', 'hands-down', 'handsome', 'handsomely', 'handy', 'happier', 'happily', 'happiness', 'happy', 'hard-working', 'hardier', 'hardy', 'harmless', 'harmonious', 'harmoniously', 'harmonize', 'harmony', 'headway', 'heal', 'healthful', 'healthy', 'hearten', 'heartening', 'heartfelt', 'heartily', 'heartwarming', 'heaven', 'heavenly', 'helped', 'helpful', 'helping', 'hero', 'heroic', 'heroically', 'heroine', 'heroize', 'heros', 'high-quality', 'high-spirited', 'hilarious', 'holy', 'homage', 'honest', 'honesty', 'honor', 'honorable', 'honored', 'honoring', 'hooray', 'hopeful', 'hospitable', 'hot', 'hotcake', 'hotcakes', 'hottest', 'hug', 'humane', 'humble', 'humility', 'humor', 'humorous', 'humorously', 'humour', 'humourous', 'ideal', 'idealize', 'ideally', 'idol', 'idolize', 'idolized', 'idyllic', 'illuminate', 'illuminati', 'illuminating', 'illumine', 'illustrious', 'ilu', 'imaculate', 'imaginative', 'immaculate', 'immaculately', 'immense', 'impartial', 'impartiality', 'impartially', 'impassioned', 'impeccable', 'impeccably', 'important', 'impress', 'impressed', 'impresses', 'impressive', 'impressively', 'impressiveness', 'improve', 'improved', 'improvement', 'improvements', 'improves', 'improving', 'incredible', 'incredibly', 'indebted', 'individualized', 'indulgence', 'indulgent', 'industrious', 'inestimable', 'inestimably', 'inexpensive', 'infallibility', 'infallible', 'infallibly', 'influential', 'ingenious', 'ingeniously', 'ingenuity', 'ingenuous', 'ingenuously', 'innocuous', 'innovation', 'innovative', 'inpressed', 'insightful', 'insightfully', 'inspiration', 'inspirational', 'inspire', 'inspiring', 'instantly', 'instructive', 'instrumental', 'integral', 'integrated', 'intelligence', 'intelligent', 'intelligible', 'interesting', 'interests', 'intimacy', 'intimate', 'intricate', 'intrigue', 'intriguing', 'intriguingly', 'intuitive', 'invaluable', 'invaluablely', 'inventive', 'invigorate', 'invigorating', 'invincibility', 'invincible', 'inviolable', 'inviolate', 'invulnerable', 'irreplaceable', 'irreproachable', 'irresistible', 'irresistibly', 'issue-free', 'jaw-droping', 'jaw-dropping', 'jollify', 'jolly', 'jovial', 'joy', 'joyful', 'joyfully', 'joyous', 'joyously', 'jubilant', 'jubilantly', 'jubilate', 'jubilation', 'jubiliant', 'judicious', 'justly', 'keen', 'keenly', 'keenness', 'kid-friendly', 'kindliness', 'kindly', 'kindness', 'knowledgeable', 'kudos', 'large-capacity', 'laud', 'laudable', 'laudably', 'lavish', 'lavishly', 'law-abiding', 'lawful', 'lawfully', 'lead', 'leading', 'leads', 'lean', 'led', 'legendary', 'leverage', 'levity', 'liberate', 'liberation', 'liberty', 'lifesaver', 'light-hearted', 'lighter', 'likable', 'like', 'liked', 'likes', 'liking', 'lionhearted', 'lively', 'logical', 'long-lasting', 'lovable', 'lovably', 'love', 'loved', 'loveliness', 'lovely', 'lover', 'loves', 'loving', 'low-cost', 'low-price', 'low-priced', 'low-risk', 'lower-priced', 'loyal', 'loyalty', 'lucid', 'lucidly', 'luck', 'luckier', 'luckiest', 'luckiness', 'lucky', 'lucrative', 'luminous', 'lush', 'luster', 'lustrous', 'luxuriant', 'luxuriate', 'luxurious', 'luxuriously', 'luxury', 'lyrical', 'magic', 'magical', 'magnanimous', 'magnanimously', 'magnificence', 'magnificent', 'magnificently', 'majestic', 'majesty', 'manageable', 'maneuverable', 'marvel', 'marveled', 'marvelled', 'marvellous', 'marvelous', 'marvelously', 'marvelousness', 'marvels', 'master', 'masterful', 'masterfully', 'masterpiece', 'masterpieces', 'masters', 'mastery', 'matchless', 'mature', 'maturely', 'maturity', 'meaningful', 'memorable', 'merciful', 'mercifully', 'mercy', 'merit', 'meritorious', 'merrily', 'merriment', 'merriness', 'merry', 'mesmerize', 'mesmerized', 'mesmerizes', 'mesmerizing', 'mesmerizingly', 'meticulous', 'meticulously', 'mightily', 'mighty', 'mind-blowing', 'miracle', 'miracles', 'miraculous', 'miraculously', 'miraculousness', 'modern', 'modest', 'modesty', 'momentous', 'monumental', 'monumentally', 'morality', 'motivated', 'multi-purpose', 'navigable', 'neat', 'neatest', 'neatly', 'nice', 'nicely', 'nicer', 'nicest', 'nifty', 'nimble', 'noble', 'nobly', 'noiseless', 'non-violence', 'non-violent', 'notably', 'noteworthy', 'nourish', 'nourishing', 'nourishment', 'novelty', 'nurturing', 'oasis', 'obsession', 'obsessions', 'obtainable', 'openly', 'openness', 'optimal', 'optimism', 'optimistic', 'opulent', 'orderly', 'originality', 'outdo', 'outdone', 'outperform', 'outperformed', 'outperforming', 'outperforms', 'outshine', 'outshone', 'outsmart', 'outstanding', 'outstandingly', 'outstrip', 'outwit', 'ovation', 'overjoyed', 'overtake', 'overtaken', 'overtakes', 'overtaking', 'overtook', 'overture', 'pain-free', 'painless', 'painlessly', 'palatial', 'pamper', 'pampered', 'pamperedly', 'pamperedness', 'pampers', 'panoramic', 'paradise', 'paramount', 'pardon', 'passion', 'passionate', 'passionately', 'patience', 'patient', 'patiently', 'patriot', 'patriotic', 'peace', 'peaceable', 'peaceful', 'peacefully', 'peacekeepers', 'peach', 'peerless', 'pep', 'pepped', 'pepping', 'peppy', 'peps', 'perfect', 'perfection', 'perfectly', 'permissible', 'perseverance', 'persevere', 'personages', 'personalized', 'phenomenal', 'phenomenally', 'picturesque', 'piety', 'pinnacle', 'playful', 'playfully', 'pleasant', 'pleasantly', 'pleased', 'pleases', 'pleasing', 'pleasingly', 'pleasurable', 'pleasurably', 'pleasure', 'plentiful', 'pluses', 'plush', 'plusses', 'poetic', 'poeticize', 'poignant', 'poise', 'poised', 'polished', 'polite', 'politeness', 'popular', 'portable', 'posh', 'positive', 'positively', 'positives', 'powerful', 'powerfully', 'praise', 'praiseworthy', 'praising', 'pre-eminent', 'precious', 'precise', 'precisely', 'preeminent', 'prefer', 'preferable', 'preferably', 'prefered', 'preferes', 'preferring', 'prefers', 'premier', 'prestige', 'prestigious', 'prettily', 'pretty', 'priceless', 'pride', 'principled', 'privilege', 'privileged', 'prize', 'proactive', 'problem-free', 'problem-solver', 'prodigious', 'prodigiously', 'prodigy', 'productive', 'productively', 'proficient', 'proficiently', 'profound', 'profoundly', 'profuse', 'profusion', 'progress', 'progressive', 'prolific', 'prominence', 'prominent', 'promise', 'promised', 'promises', 'promising', 'promoter', 'prompt', 'promptly', 'proper', 'properly', 'propitious', 'propitiously', 'pros', 'prosper', 'prosperity', 'prosperous', 'prospros', 'protect', 'protection', 'protective', 'proud', 'proven', 'proves', 'providence', 'proving', 'prowess', 'prudence', 'prudent', 'prudently', 'punctual', 'pure', 'purify', 'purposeful', 'quaint', 'qualified', 'qualify', 'quicker', 'quiet', 'quieter', 'radiance', 'radiant', 'rapid', 'rapport', 'rapt', 'rapture', 'raptureous', 'raptureously', 'rapturous', 'rapturously', 'rational', 'razor-sharp', 'reachable', 'readable', 'readily', 'ready', 'reaffirm', 'reaffirmation', 'realistic', 'realizable', 'reasonable', 'reasonably', 'reasoned', 'reassurance', 'reassure', 'receptive', 'reclaim', 'recomend', 'recommend', 'recommendation', 'recommendations', 'recommended', 'reconcile', 'reconciliation', 'record-setting', 'recover', 'recovery', 'rectification', 'rectify', 'rectifying', 'redeem', 'redeeming', 'redemption', 'refine', 'refined', 'refinement', 'reform', 'reformed', 'reforming', 'reforms', 'refresh', 'refreshed', 'refreshing', 'refund', 'refunded', 'regal', 'regally', 'regard', 'rejoice', 'rejoicing', 'rejoicingly', 'rejuvenate', 'rejuvenated', 'rejuvenating', 'relaxed', 'relent', 'reliable', 'reliably', 'relief', 'relish', 'remarkable', 'remarkably', 'remedy', 'remission', 'remunerate', 'renaissance', 'renewed', 'renown', 'renowned', 'replaceable', 'reputable', 'reputation', 'resilient', 'resolute', 'resound', 'resounding', 'resourceful', 'resourcefulness', 'respect', 'respectable', 'respectful', 'respectfully', 'respite', 'resplendent', 'responsibly', 'responsive', 'restful', 'restored', 'restructure', 'restructured', 'restructuring', 'retractable', 'revel', 'revelation', 'revere', 'reverence', 'reverent', 'reverently', 'revitalize', 'revival', 'revive', 'revives', 'revolutionary', 'revolutionize', 'revolutionized', 'revolutionizes', 'reward', 'rewarding', 'rewardingly', 'rich', 'richer', 'richly', 'richness', 'right', 'righten', 'righteous', 'righteously', 'righteousness', 'rightful', 'rightfully', 'rightly', 'rightness', 'risk-free', 'robust', 'rock-star', 'rock-stars', 'rockstar', 'rockstars', 'romantic', 'romantically', 'romanticize', 'roomier', 'roomy', 'rosy', 'safe', 'safely', 'sagacity', 'sagely', 'saint', 'saintliness', 'saintly', 'salutary', 'salute', 'sane', 'satisfactorily', 'satisfactory', 'satisfied', 'satisfies', 'satisfy', 'satisfying', 'satisified', 'saver', 'savings', 'savior', 'savvy', 'scenic', 'seamless', 'seasoned', 'secure', 'securely', 'selective', 'self-determination', 'self-respect', 'self-satisfaction', 'self-sufficiency', 'self-sufficient', 'sensation', 'sensational', 'sensationally', 'sensations', 'sensible', 'sensibly', 'sensitive', 'serene', 'serenity', 'sexy', 'sharp', 'sharper', 'sharpest', 'shimmering', 'shimmeringly', 'shine', 'shiny', 'significant', 'silent', 'simpler', 'simplest', 'simplified', 'simplifies', 'simplify', 'simplifying', 'sincere', 'sincerely', 'sincerity', 'skill', 'skilled', 'skillful', 'skillfully', 'slammin', 'sleek', 'slick', 'smart', 'smarter', 'smartest', 'smartly', 'smile', 'smiles', 'smiling', 'smilingly', 'smitten', 'smooth', 'smoother', 'smoothes', 'smoothest', 'smoothly', 'snappy', 'snazzy', 'sociable', 'soft', 'softer', 'solace', 'solicitous', 'solicitously', 'solid', 'solidarity', 'soothe', 'soothingly', 'sophisticated', 'soulful', 'soundly', 'soundness', 'spacious', 'sparkle', 'sparkling', 'spectacular', 'spectacularly', 'speedily', 'speedy', 'spellbind', 'spellbinding', 'spellbindingly', 'spellbound', 'spirited', 'spiritual', 'splendid', 'splendidly', 'splendor', 'spontaneous', 'sporty', 'spotless', 'sprightly', 'stability', 'stabilize', 'stable', 'stainless', 'standout', 'state-of-the-art', 'stately', 'statuesque', 'staunch', 'staunchly', 'staunchness', 'steadfast', 'steadfastly', 'steadfastness', 'steadiest', 'steadiness', 'steady', 'stellar', 'stellarly', 'stimulate', 'stimulates', 'stimulating', 'stimulative', 'stirringly', 'straighten', 'straightforward', 'streamlined', 'striking', 'strikingly', 'striving', 'strong', 'stronger', 'strongest', 'stunned', 'stunning', 'stunningly', 'stupendous', 'stupendously', 'sturdier', 'sturdy', 'stylish', 'stylishly', 'stylized', 'suave', 'suavely', 'sublime', 'subsidize', 'subsidized', 'subsidizes', 'subsidizing', 'substantive', 'succeed', 'succeeded', 'succeeding', 'succeeds', 'succes', 'success', 'successes', 'successful', 'successfully', 'suffice', 'sufficed', 'suffices', 'sufficient', 'sufficiently', 'suitable', 'sumptuous', 'sumptuously', 'sumptuousness', 'super', 'superb', 'superbly', 'superior', 'superiority', 'supple', 'support', 'supported', 'supporter', 'supporting', 'supportive', 'supports', 'supremacy', 'supreme', 'supremely', 'supurb', 'supurbly', 'surmount', 'surpass', 'surreal', 'survival', 'survivor', 'sustainability', 'sustainable', 'swank', 'swankier', 'swankiest', 'swanky', 'sweeping', 'sweet', 'sweeten', 'sweetheart', 'sweetly', 'sweetness', 'swift', 'swiftness', 'talent', 'talented', 'talents', 'tantalize', 'tantalizing', 'tantalizingly', 'tempt', 'tempting', 'temptingly', 'tenacious', 'tenaciously', 'tenacity', 'tender', 'tenderly', 'terrific', 'terrifically', 'thank', 'thankful', 'thinner', 'thoughtful', 'thoughtfully', 'thoughtfulness', 'thrift', 'thrifty', 'thrill', 'thrilled', 'thrilling', 'thrillingly', 'thrills', 'thrive', 'thriving', 'thumb-up', 'thumbs-up', 'tickle', 'tidy', 'time-honored', 'timely', 'tingle', 'titillate', 'titillating', 'titillatingly', 'togetherness', 'tolerable', 'toll-free', 'top', 'top-notch', 'top-quality', 'topnotch', 'tops', 'tough', 'tougher', 'toughest', 'traction', 'tranquil', 'tranquility', 'transparent', 'treasure', 'tremendously', 'trendy', 'triumph', 'triumphal', 'triumphant', 'triumphantly', 'trivially', 'trophy', 'trouble-free', 'trump', 'trumpet', 'trust', 'trusted', 'trusting', 'trustingly', 'trustworthiness', 'trustworthy', 'trusty', 'truthful', 'truthfully', 'truthfulness', 'twinkly', 'ultra-crisp', 'unabashed', 'unabashedly', 'unaffected', 'unassailable', 'unbeatable', 'unbiased', 'unbound', 'uncomplicated', 'unconditional', 'undamaged', 'undaunted', 'understandable', 'undisputable', 'undisputably', 'undisputed', 'unencumbered', 'unequivocal', 'unequivocally', 'unfazed', 'unfettered', 'unforgettable', 'unity', 'unlimited', 'unmatched', 'unparalleled', 'unquestionable', 'unquestionably', 'unreal', 'unrestricted', 'unrivaled', 'unselfish', 'unwavering', 'upbeat', 'upgradable', 'upgradeable', 'upgraded', 'upheld', 'uphold', 'uplift', 'uplifting', 'upliftingly', 'upliftment', 'upscale', 'usable', 'useable', 'useful', 'user-friendly', 'user-replaceable', 'valiant', 'valiantly', 'valor', 'valuable', 'variety', 'venerate', 'verifiable', 'veritable', 'versatile', 'versatility', 'vibrant', 'vibrantly', 'victorious', 'victory', 'viewable', 'vigilance', 'vigilant', 'virtue', 'virtuous', 'virtuously', 'visionary', 'vivacious', 'vivid', 'vouch', 'vouchsafe', 'warm', 'warmer', 'warmhearted', 'warmly', 'warmth', 'wealthy', 'welcome', 'well', 'well-backlit', 'well-balanced', 'well-behaved', 'well-being', 'well-bred', 'well-connected', 'well-educated', 'well-established', 'well-informed', 'well-intentioned', 'well-known', 'well-made', 'well-managed', 'well-mannered', 'well-positioned', 'well-received', 'well-regarded', 'well-rounded', 'well-run', 'well-wishers', 'wellbeing', 'whoa', 'wholeheartedly', 'wholesome', 'whooa', 'whoooa', 'wieldy', 'willing', 'willingly', 'willingness', 'win', 'windfall', 'winnable', 'winner', 'winners', 'winning', 'wins', 'wisdom', 'wise', 'wisely', 'witty', 'won', 'wonder', 'wonderful', 'wonderfully', 'wonderous', 'wonderously', 'wonders', 'wondrous', 'woo', 'work', 'workable', 'worked', 'works', 'world-famous', 'worth', 'worth-while', 'worthiness', 'worthwhile', 'worthy', 'wow', 'wowed', 'wowing', 'wows', 'yay', 'youthful', 'zeal', 'zenith', 'zest', 'zippy'}"
      ],
      "execution_count": 73,
      "outputs": []
    },
    {
      "cell_type": "code",
      "metadata": {
        "id": "ZETwKGXQkF8n"
      },
      "source": [
        "# classify tweet by positive or negative words\r\n",
        "def set_target(row):\r\n",
        "  num_positive = 0\r\n",
        "  num_negative = 0\r\n",
        "  if row['target'] == -1:  \r\n",
        "      for term in row['text']:\r\n",
        "        if term in positive_words:\r\n",
        "          num_positive = num_positive + 1\r\n",
        "        elif term in negative_words:\r\n",
        "          num_negative = num_negative + 1\r\n",
        "      if num_positive > num_negative and num_positive/len(row) > 0.2:\r\n",
        "        return 1\r\n",
        "      elif num_negative > num_positive and num_negative/len(row) > 0.2:\r\n",
        "        return 0\r\n",
        "      else: return -1\r\n",
        "  return row['target']"
      ],
      "execution_count": 74,
      "outputs": []
    },
    {
      "cell_type": "code",
      "metadata": {
        "colab": {
          "base_uri": "https://localhost:8080/"
        },
        "id": "FB9tHFvzNGV7",
        "outputId": "b26d7c1c-56fe-4991-e09e-8c8cb44a0b94"
      },
      "source": [
        "tweetsDf_copy['target'] = tweetsDf_copy.apply(lambda row: set_target(row), axis=1)\r\n",
        "print(f\"Num of positive tweets {len(tweetsDf_copy.loc[tweetsDf_copy['target'] == 1])}\")\r\n",
        "print(f\"Num of negative tweets {len(tweetsDf_copy.loc[tweetsDf_copy['target'] == 0])}\")\r\n",
        "print(f\"Num of natural tweets {len(tweetsDf_copy.loc[tweetsDf_copy['target'] == -1])}\")"
      ],
      "execution_count": 75,
      "outputs": [
        {
          "output_type": "stream",
          "text": [
            "Num of positive tweets 3408\n",
            "Num of negative tweets 3949\n",
            "Num of natural tweets 7643\n"
          ],
          "name": "stdout"
        }
      ]
    },
    {
      "cell_type": "markdown",
      "metadata": {
        "id": "2LyUTeKEQQZO"
      },
      "source": [
        "### Exploration"
      ]
    },
    {
      "cell_type": "code",
      "metadata": {
        "id": "MAWVjWNwQbk9",
        "colab": {
          "base_uri": "https://localhost:8080/",
          "height": 1000
        },
        "outputId": "91f0e5c9-a27b-4aed-920d-ccdc65e4b9a3"
      },
      "source": [
        "# plots dstribution and common words\r\n",
        "target_cnt = tweetsDf_copy.target.value_counts()\r\n",
        "plt.figure(figsize=(16,8))\r\n",
        "plt.bar([\"Neutral\", \"Negative\",\"Positive\"], target_cnt.values)\r\n",
        "plt.title(\"Dataset class distribuition\")\r\n",
        "plt.show()\r\n",
        "\r\n",
        "top_terms(*count_terms(tweetsDf_copy), 10)\r\n",
        "\r\n",
        "count_all_natural = Counter()  \r\n",
        "for index, text in enumerate(tweetsDf_copy.text):\r\n",
        "    if tweetsDf_copy.iloc[index].target == -1:\r\n",
        "      count_all_natural.update(text) \r\n",
        "\r\n",
        "natural_data = [list(x) for x in count_all_natural.most_common(10)]\r\n",
        "print(f\"Top {10} neutral terms\")\r\n",
        "draw_table(natural_data, 'Neutral')"
      ],
      "execution_count": 76,
      "outputs": [
        {
          "output_type": "display_data",
          "data": {
            "image/png": "[encoded data removed]",
            "text/plain": [
              "<Figure size 1152x576 with 1 Axes>"
            ]
          },
          "metadata": {
            "tags": [],
            "needs_background": "light"
          }
        },
        {
          "output_type": "stream",
          "text": [
            "Top 10 positive terms\n"
          ],
          "name": "stdout"
        },
        {
          "output_type": "display_data",
          "data": {
            "image/png": "[encoded data removed]",
            "text/plain": [
              "<Figure size 480x320 with 1 Axes>"
            ]
          },
          "metadata": {
            "tags": [],
            "needs_background": "light"
          }
        },
        {
          "output_type": "stream",
          "text": [
            "Top 10 negative terms\n"
          ],
          "name": "stdout"
        },
        {
          "output_type": "display_data",
          "data": {
            "image/png": "[encoded data removed]",
            "text/plain": [
              "<Figure size 480x320 with 1 Axes>"
            ]
          },
          "metadata": {
            "tags": [],
            "needs_background": "light"
          }
        },
        {
          "output_type": "stream",
          "text": [
            "Top 10 neutral terms\n"
          ],
          "name": "stdout"
        },
        {
          "output_type": "display_data",
          "data": {
            "image/png": "[encoded data removed]",
            "text/plain": [
              "<Figure size 480x320 with 1 Axes>"
            ]
          },
          "metadata": {
            "tags": [],
            "needs_background": "light"
          }
        }
      ]
    },
    {
      "cell_type": "markdown",
      "metadata": {
        "id": "f5J2EBj6P8Ks"
      },
      "source": [
        "# Question 4"
      ]
    },
    {
      "cell_type": "markdown",
      "metadata": {
        "id": "6He17ow8bQbE"
      },
      "source": [
        "### Remove Neutral Tweets"
      ]
    },
    {
      "cell_type": "code",
      "metadata": {
        "id": "YDoi3hFabTqG",
        "colab": {
          "base_uri": "https://localhost:8080/"
        },
        "outputId": "27727612-79a8-4b45-afa1-71afd4f8f40b"
      },
      "source": [
        "# remove neutral words\r\n",
        "tweetsDf_copy_filtered =  tweetsDf_copy[tweetsDf_copy.target != -1]\r\n",
        "tweetsDf_copy_filtered.reset_index(inplace=True)\r\n",
        "tweetsDf_copy_filtered.target.value_counts()"
      ],
      "execution_count": 80,
      "outputs": [
        {
          "output_type": "execute_result",
          "data": {
            "text/plain": [
              "0    3949\n",
              "1    3408\n",
              "Name: target, dtype: int64"
            ]
          },
          "metadata": {
            "tags": []
          },
          "execution_count": 80
        }
      ]
    },
    {
      "cell_type": "markdown",
      "metadata": {
        "id": "ZE0l7DOBQeYe"
      },
      "source": [
        "### Prediction using The Best Model from Question 2"
      ]
    },
    {
      "cell_type": "code",
      "metadata": {
        "id": "e6kZRY7xP9Ze",
        "colab": {
          "base_uri": "https://localhost:8080/",
          "height": 537
        },
        "outputId": "52be2e6a-39da-4d62-f97c-a99bad2964a2"
      },
      "source": [
        "X_collected = tweetsDf_copy_filtered\r\n",
        "y_collected = tweetsDf_copy_filtered['target']\r\n",
        "X_collected.text = X_collected.text.apply(join_sentences)\r\n",
        "\r\n",
        "# The best model which was trained in question 2 is the SVM+TD-IDF model which got 77% accuracy.\r\n",
        "svm_collected_prediction = svm_model.predict(X_collected.text)\r\n",
        "svm_accuracy_collected = accuracy_score(y_collected, svm_collected_prediction)\r\n",
        "\r\n",
        "print(classification_report(y_collected, svm_collected_prediction))\r\n",
        "svm_cm_collected = confusion_matrix(y_collected, svm_collected_prediction)\r\n",
        "sns.heatmap(svm_cm_collected, annot=True)\r\n",
        "print(\"=====================\") "
      ],
      "execution_count": 81,
      "outputs": [
        {
          "output_type": "stream",
          "text": [
            "/usr/local/lib/python3.6/dist-packages/pandas/core/generic.py:5170: SettingWithCopyWarning: \n",
            "A value is trying to be set on a copy of a slice from a DataFrame.\n",
            "Try using .loc[row_indexer,col_indexer] = value instead\n",
            "\n",
            "See the caveats in the documentation: https://pandas.pydata.org/pandas-docs/stable/user_guide/indexing.html#returning-a-view-versus-a-copy\n",
            "  self[name] = value\n"
          ],
          "name": "stderr"
        },
        {
          "output_type": "stream",
          "text": [
            "              precision    recall  f1-score   support\n",
            "\n",
            "           0       0.69      0.60      0.65      3949\n",
            "           1       0.60      0.69      0.64      3408\n",
            "\n",
            "    accuracy                           0.64      7357\n",
            "   macro avg       0.65      0.65      0.64      7357\n",
            "weighted avg       0.65      0.64      0.64      7357\n",
            "\n",
            "=====================\n"
          ],
          "name": "stdout"
        },
        {
          "output_type": "display_data",
          "data": {
            "image/png": "[encoded data removed]",
            "text/plain": [
              "<Figure size 432x288 with 2 Axes>"
            ]
          },
          "metadata": {
            "tags": [],
            "needs_background": "light"
          }
        }
      ]
    },
    {
      "cell_type": "markdown",
      "metadata": {
        "id": "29HDBsaiP94R"
      },
      "source": [
        "# Question 5"
      ]
    },
    {
      "cell_type": "markdown",
      "metadata": {
        "id": "lPJddPeKQ7Wy"
      },
      "source": [
        "### Tweets Aggregation"
      ]
    },
    {
      "cell_type": "code",
      "metadata": {
        "id": "rekb4Inxq2xK"
      },
      "source": [
        "# count number of tweets at each day\r\n",
        "def count_daily_tweets():\r\n",
        "  count_tweets_per_day = {}\r\n",
        "  for index,row in tweetsDf_copy.iterrows():\r\n",
        "    date = row['date']\r\n",
        "    if date in count_tweets_per_day:\r\n",
        "      count_tweets_per_day[date] = count_tweets_per_day[date] + 1\r\n",
        "    else:\r\n",
        "      count_tweets_per_day[date] = 1\r\n",
        "  return count_tweets_per_day"
      ],
      "execution_count": 82,
      "outputs": []
    },
    {
      "cell_type": "code",
      "metadata": {
        "id": "TxJ5j4i6P-wb",
        "colab": {
          "base_uri": "https://localhost:8080/",
          "height": 625
        },
        "outputId": "d5115863-8938-43a7-c755-7c85922c0182"
      },
      "source": [
        "# plot graph of number of tweets per day\r\n",
        "def graph_count_per_date(data, title, y_title):\r\n",
        "    data = nltk.collections.OrderedDict(sorted(data.items()))\r\n",
        "#     fig,ax = plt.subplots()\r\n",
        "    plt.figure(figsize=(15, 10))\r\n",
        "    plt.plot(list(data.keys()), list(data.values()),marker='o')\r\n",
        "    plt.ylabel(y_title,fontsize=14)\r\n",
        "    plt.xlabel('Date',fontsize=14)\r\n",
        "    plt.title(title)\r\n",
        "    plt.show()\r\n",
        "\r\n",
        "daily_tweets_counter = count_daily_tweets()\r\n",
        "graph_count_per_date(daily_tweets_counter, title = 'The number of collected tweets per day' , y_title = 'Num of tweets')"
      ],
      "execution_count": 83,
      "outputs": [
        {
          "output_type": "display_data",
          "data": {
            "image/png": "[encoded data removed]",
            "text/plain": [
              "<Figure size 1080x720 with 1 Axes>"
            ]
          },
          "metadata": {
            "tags": [],
            "needs_background": "light"
          }
        }
      ]
    },
    {
      "cell_type": "markdown",
      "metadata": {
        "id": "1Ml_tuDjQ9UR"
      },
      "source": [
        "### Sentiment Classification "
      ]
    },
    {
      "cell_type": "code",
      "metadata": {
        "id": "25uwzioWr2rL"
      },
      "source": [
        "X_collected_all = tweetsDf_copy\r\n",
        "X_collected_all.text = X_collected_all.text.apply(join_sentences)\r\n",
        "\r\n",
        "# The best model which was trained in question 2 is the SVM+TD-IDF model which got 77% accuracy.\r\n",
        "svm_collected_prediction_all = svm_model.predict(X_collected_all.text)\r\n",
        "X_collected_all[\"SVM predictions\"] = svm_collected_prediction_all"
      ],
      "execution_count": 84,
      "outputs": []
    },
    {
      "cell_type": "code",
      "metadata": {
        "id": "Mjti-htQGEmp"
      },
      "source": [
        "count_positive_per_day = {}\r\n",
        "\r\n",
        "# count number of positive tweets at each day\r\n",
        "def count_daily_positive(data):\r\n",
        "    for index, row in data.iterrows():\r\n",
        "        if row[\"SVM predictions\"] == 1:\r\n",
        "            date = row['date']\r\n",
        "            if date in count_positive_per_day:\r\n",
        "                count_positive_per_day[date] = count_positive_per_day[date] + 1\r\n",
        "            else:\r\n",
        "                count_positive_per_day[date] = 1"
      ],
      "execution_count": 85,
      "outputs": []
    },
    {
      "cell_type": "code",
      "metadata": {
        "id": "7pq76C0dGvPg"
      },
      "source": [
        "positive_ratio_per_day = {}\r\n",
        "\r\n",
        "# calculate the ratio of positive tweets at each day\r\n",
        "def calculate_positive_ratio(data):\r\n",
        "  for day in count_positive_per_day:\r\n",
        "    positive_ratio_per_day[day] = np.divide(count_positive_per_day[day], daily_tweets_counter[day])"
      ],
      "execution_count": 86,
      "outputs": []
    },
    {
      "cell_type": "code",
      "metadata": {
        "id": "njtrF2O-RISj"
      },
      "source": [
        "count_daily_positive(X_collected_all)\r\n",
        "calculate_positive_ratio(tweetsDf_copy)"
      ],
      "execution_count": 87,
      "outputs": []
    },
    {
      "cell_type": "code",
      "metadata": {
        "colab": {
          "base_uri": "https://localhost:8080/",
          "height": 1000
        },
        "id": "KJE-RxU9GOfX",
        "outputId": "bb9cc822-b257-41a7-a006-8f866e0e0c5b"
      },
      "source": [
        "graph_count_per_date(count_positive_per_day, title=\"Number of Positive Tweets Per Day\", y_title=\"Positive Tweets\")\r\n",
        "graph_count_per_date(positive_ratio_per_day, title=\"Ratio of the Positive Tweets Per Day\", y_title=\"Positive Tweets Ratio\")"
      ],
      "execution_count": 88,
      "outputs": [
        {
          "output_type": "display_data",
          "data": {
            "image/png": "[encoded data removed]",
            "text/plain": [
              "<Figure size 1080x720 with 1 Axes>"
            ]
          },
          "metadata": {
            "tags": [],
            "needs_background": "light"
          }
        },
        {
          "output_type": "display_data",
          "data": {
            "image/png": "[encoded data removed]",
            "text/plain": [
              "<Figure size 1080x720 with 1 Axes>"
            ]
          },
          "metadata": {
            "tags": [],
            "needs_background": "light"
          }
        }
      ]
    },
    {
      "cell_type": "markdown",
      "metadata": {
        "id": "0NSKjoAoRNdj"
      },
      "source": [
        "### Google Trends"
      ]
    },
    {
      "cell_type": "code",
      "metadata": {
        "id": "CF-nF4gmRO_5",
        "colab": {
          "base_uri": "https://localhost:8080/",
          "height": 620
        },
        "outputId": "685ccc9c-7c39-4231-db60-9f534f49854f"
      },
      "source": [
        "#import num of searches per date and hour\r\n",
        "google_trend = pd.read_csv(google_trends_path, header=None)\r\n",
        "google_trend.columns = ['date', 'num_of_searches']\r\n",
        "\r\n",
        "x = []\r\n",
        "for i in range(google_trend['date'].size):\r\n",
        "    x.append(google_trend['date'][i])\r\n",
        "y = google_trend['num_of_searches']\r\n",
        "plt.figure(figsize=(15, 10))\r\n",
        "plt.plot(x, y,marker='o')\r\n",
        "plt.xlabel('Date')\r\n",
        "plt.ylabel('Number of Searches (%)')\r\n",
        "plt.title('Google trends number of searches per day')\r\n",
        "plt.show()"
      ],
      "execution_count": 89,
      "outputs": [
        {
          "output_type": "display_data",
          "data": {
            "image/png": "[encoded data removed]",
            "text/plain": [
              "<Figure size 1080x720 with 1 Axes>"
            ]
          },
          "metadata": {
            "tags": [],
            "needs_background": "light"
          }
        }
      ]
    },
    {
      "cell_type": "markdown",
      "metadata": {
        "id": "Hu4qvrfDRPg7"
      },
      "source": [
        "### Comparing + Pearson Correlation"
      ]
    },
    {
      "cell_type": "code",
      "metadata": {
        "id": "asMLkiQoRTld",
        "colab": {
          "base_uri": "https://localhost:8080/",
          "height": 257
        },
        "outputId": "69d69ac6-6125-4932-d164-d7b4edafe869"
      },
      "source": [
        "# dataframe for comparison\r\n",
        "all_data = pd.DataFrame()\r\n",
        "all_data['date'] = ['6-2-2021', '7-2-2021','8-2-2021','9-2-2021','10-2-2021','11-2-2021','12-2-2021']\r\n",
        "all_data['count_tweets_per_day'] = count_daily_tweets().values()\r\n",
        "all_data['count_positive_per_day'] = positive_ratio_per_day.values()\r\n",
        "all_data['num_of_searches_per_day'] = google_trend['num_of_searches']\r\n",
        "display(all_data)"
      ],
      "execution_count": 90,
      "outputs": [
        {
          "output_type": "display_data",
          "data": {
            "text/html": [
              "<div>\n",
              "<style scoped>\n",
              "    .dataframe tbody tr th:only-of-type {\n",
              "        vertical-align: middle;\n",
              "    }\n",
              "\n",
              "    .dataframe tbody tr th {\n",
              "        vertical-align: top;\n",
              "    }\n",
              "\n",
              "    .dataframe thead th {\n",
              "        text-align: right;\n",
              "    }\n",
              "</style>\n",
              "<table border=\"1\" class=\"dataframe\">\n",
              "  <thead>\n",
              "    <tr style=\"text-align: right;\">\n",
              "      <th></th>\n",
              "      <th>date</th>\n",
              "      <th>count_tweets_per_day</th>\n",
              "      <th>count_positive_per_day</th>\n",
              "      <th>num_of_searches_per_day</th>\n",
              "    </tr>\n",
              "  </thead>\n",
              "  <tbody>\n",
              "    <tr>\n",
              "      <th>0</th>\n",
              "      <td>6-2-2021</td>\n",
              "      <td>1372</td>\n",
              "      <td>0.596210</td>\n",
              "      <td>95</td>\n",
              "    </tr>\n",
              "    <tr>\n",
              "      <th>1</th>\n",
              "      <td>7-2-2021</td>\n",
              "      <td>2024</td>\n",
              "      <td>0.594862</td>\n",
              "      <td>100</td>\n",
              "    </tr>\n",
              "    <tr>\n",
              "      <th>2</th>\n",
              "      <td>8-2-2021</td>\n",
              "      <td>2003</td>\n",
              "      <td>0.566151</td>\n",
              "      <td>98</td>\n",
              "    </tr>\n",
              "    <tr>\n",
              "      <th>3</th>\n",
              "      <td>9-2-2021</td>\n",
              "      <td>2196</td>\n",
              "      <td>0.569672</td>\n",
              "      <td>76</td>\n",
              "    </tr>\n",
              "    <tr>\n",
              "      <th>4</th>\n",
              "      <td>10-2-2021</td>\n",
              "      <td>2549</td>\n",
              "      <td>0.566889</td>\n",
              "      <td>75</td>\n",
              "    </tr>\n",
              "    <tr>\n",
              "      <th>5</th>\n",
              "      <td>11-2-2021</td>\n",
              "      <td>2235</td>\n",
              "      <td>0.609843</td>\n",
              "      <td>70</td>\n",
              "    </tr>\n",
              "    <tr>\n",
              "      <th>6</th>\n",
              "      <td>12-2-2021</td>\n",
              "      <td>2621</td>\n",
              "      <td>0.594430</td>\n",
              "      <td>86</td>\n",
              "    </tr>\n",
              "  </tbody>\n",
              "</table>\n",
              "</div>"
            ],
            "text/plain": [
              "        date  ...  num_of_searches_per_day\n",
              "0   6-2-2021  ...                       95\n",
              "1   7-2-2021  ...                      100\n",
              "2   8-2-2021  ...                       98\n",
              "3   9-2-2021  ...                       76\n",
              "4  10-2-2021  ...                       75\n",
              "5  11-2-2021  ...                       70\n",
              "6  12-2-2021  ...                       86\n",
              "\n",
              "[7 rows x 4 columns]"
            ]
          },
          "metadata": {
            "tags": []
          }
        }
      ]
    },
    {
      "cell_type": "code",
      "metadata": {
        "colab": {
          "base_uri": "https://localhost:8080/",
          "height": 625
        },
        "id": "jAoBFJ_KFtFi",
        "outputId": "fbcac0c5-c04b-40c5-9e5f-877832f4c4a7"
      },
      "source": [
        "# plot all graphs in order to compare \r\n",
        "count_tweets_per_day_normalized = list(all_data['count_tweets_per_day'] / 2621)\r\n",
        "num_of_searches_per_day_normalized = list(all_data['num_of_searches_per_day'] / 100)\r\n",
        "\r\n",
        "plt.figure(figsize=(15, 10))\r\n",
        "plt.plot(list(all_data['date']), count_tweets_per_day_normalized, marker='o')\r\n",
        "plt.plot(list(all_data['date']), list(all_data['count_positive_per_day']), marker='o')\r\n",
        "plt.plot(list(all_data['date']), num_of_searches_per_day_normalized, marker='o')\r\n",
        "\r\n",
        "plt.ylabel(\"Ratio\",fontsize=14)\r\n",
        "plt.xlabel('Date',fontsize=14)\r\n",
        "plt.title(\"Comparison between Google Trends, Tweets Volume and Tweet Sentiments\")\r\n",
        "plt.legend(['Tweets volume', 'Tweet sentiments', 'Google trends'])\r\n",
        "plt.show()"
      ],
      "execution_count": 91,
      "outputs": [
        {
          "output_type": "display_data",
          "data": {
            "image/png": "[encoded data removed]",
            "text/plain": [
              "<Figure size 1080x720 with 1 Axes>"
            ]
          },
          "metadata": {
            "tags": [],
            "needs_background": "light"
          }
        }
      ]
    },
    {
      "cell_type": "code",
      "metadata": {
        "colab": {
          "base_uri": "https://localhost:8080/",
          "height": 403
        },
        "id": "5NtvNr3KsXdG",
        "outputId": "cde0faea-8a6c-493a-9fdf-3d324368786c"
      },
      "source": [
        "# compute pearson correlation between the different dolumns\r\n",
        "corrMatrix = all_data.corr()\r\n",
        "sns.heatmap(corrMatrix, annot=True)\r\n",
        "plt.title(\"Correlation matrix of google trends and twitter \")\r\n",
        "\r\n",
        "plt.show()"
      ],
      "execution_count": 92,
      "outputs": [
        {
          "output_type": "display_data",
          "data": {
            "image/png": "[encoded data removed]",
            "text/plain": [
              "<Figure size 432x288 with 2 Axes>"
            ]
          },
          "metadata": {
            "tags": [],
            "needs_background": "light"
          }
        }
      ]
    }
  ]
}